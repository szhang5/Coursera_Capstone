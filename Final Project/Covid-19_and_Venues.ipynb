{
 "cells": [
  {
   "cell_type": "markdown",
   "metadata": {},
   "source": [
    "###  Introduction / Business Problem\n",
    "This research is for the relationship between Covid-19 and Venues in New York City. Covid-19 cases are increasing since March 2020. I wonder if Covid-19 is related to the Venues. If there are more cases when more restaurants? If there are more cases when more shopping places?<br>\n",
    "This research is important to people because it may helps reduce chances to get Covid-19 if people avoid to go to certain places."
   ]
  },
  {
   "cell_type": "markdown",
   "metadata": {},
   "source": [
    "### Data\n",
    "<ol>\n",
    "    <li>Get boroughs data for New York City</li>\n",
    "    <li>Get Covid-19 cases data for each borough in New York City</li>\n",
    "    <li>Use the FourSquare Location API to get venues data for each borough in New York City. </li>\n",
    "    <li>Get venues information for each borough.</li>\n",
    "    <li>Get the 5 top venues for each borough</li>\n",
    "    <li>Find the relationship between the numbers of Covid-19 cases and venues</li>\n",
    "</ol>"
   ]
  },
  {
   "cell_type": "code",
   "execution_count": null,
   "metadata": {},
   "outputs": [],
   "source": []
  }
 ],
 "metadata": {
  "kernelspec": {
   "display_name": "Python 3",
   "language": "python",
   "name": "python3"
  },
  "language_info": {
   "codemirror_mode": {
    "name": "ipython",
    "version": 3
   },
   "file_extension": ".py",
   "mimetype": "text/x-python",
   "name": "python",
   "nbconvert_exporter": "python",
   "pygments_lexer": "ipython3",
   "version": "3.8.5"
  }
 },
 "nbformat": 4,
 "nbformat_minor": 4
}
