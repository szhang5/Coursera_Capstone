{
 "cells": [
  {
   "cell_type": "markdown",
   "metadata": {},
   "source": [
    "###  Introduction / Business Problem\n",
    "Covid-19 cases are increasing since March 2020.  This research is working on finding out if there are some kind of relationships between Covid-19 and Venues in New York City. For example, If there are more cases when more restaurants? If there are more cases when more shopping places?<br>\n",
    "This research may help people reduce their chances to get Covid-19 if people know the relationship between covid-19 and venues and avoid going to certain places.\n"
   ]
  },
  {
   "cell_type": "markdown",
   "metadata": {},
   "source": [
    "### Data\n",
    "To solve the problem, we need:\n",
    "<ol>\n",
    "    <li>Get boroughs data for New York City</li>\n",
    "    <li>Get Covid-19 cases data for each borough in New York City</li>\n",
    "    <li>Use the FourSquare Location API to get venues data for each borough in New York City. </li>\n",
    "    <li>Get venues information for each borough.</li>\n",
    "    <li>Get the 5 top venues for each borough</li>\n",
    "    <li>Find the relationship between the numbers of Covid-19 cases and venues</li>\n",
    "</ol>"
   ]
  },
  {
   "cell_type": "code",
   "execution_count": null,
   "metadata": {},
   "outputs": [],
   "source": []
  }
 ],
 "metadata": {
  "kernelspec": {
   "display_name": "Python 3",
   "language": "python",
   "name": "python3"
  },
  "language_info": {
   "codemirror_mode": {
    "name": "ipython",
    "version": 3
   },
   "file_extension": ".py",
   "mimetype": "text/x-python",
   "name": "python",
   "nbconvert_exporter": "python",
   "pygments_lexer": "ipython3",
   "version": "3.8.5"
  }
 },
 "nbformat": 4,
 "nbformat_minor": 4
}
