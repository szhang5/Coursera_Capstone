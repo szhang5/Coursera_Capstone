{
 "cells": [
  {
   "cell_type": "markdown",
   "metadata": {},
   "source": [
    "# Scrape the Wikipedia Page"
   ]
  },
  {
   "cell_type": "markdown",
   "metadata": {},
   "source": [
    "### Import libraries that we need"
   ]
  },
  {
   "cell_type": "code",
   "execution_count": 1,
   "metadata": {},
   "outputs": [],
   "source": [
    "import requests\n",
    "import pandas as pd\n",
    "import numpy as np\n",
    "from bs4 import BeautifulSoup"
   ]
  },
  {
   "cell_type": "markdown",
   "metadata": {},
   "source": [
    "### Set the url to the website and access the site with the requests library"
   ]
  },
  {
   "cell_type": "code",
   "execution_count": 2,
   "metadata": {},
   "outputs": [],
   "source": [
    "url = 'https://en.wikipedia.org/wiki/List_of_postal_codes_of_Canada:_M'\n",
    "response = requests.get(url)"
   ]
  },
  {
   "cell_type": "markdown",
   "metadata": {},
   "source": [
    "### 200 means it went through"
   ]
  },
  {
   "cell_type": "code",
   "execution_count": 3,
   "metadata": {},
   "outputs": [
    {
     "data": {
      "text/plain": [
       "<Response [200]>"
      ]
     },
     "execution_count": 3,
     "metadata": {},
     "output_type": "execute_result"
    }
   ],
   "source": [
    "response"
   ]
  },
  {
   "cell_type": "markdown",
   "metadata": {},
   "source": [
    "### Use the BeautifulSoup library to get data on the website"
   ]
  },
  {
   "cell_type": "code",
   "execution_count": 4,
   "metadata": {},
   "outputs": [],
   "source": [
    "soup = BeautifulSoup(response.text, 'html.parser')\n"
   ]
  },
  {
   "cell_type": "markdown",
   "metadata": {},
   "source": [
    "### Find the target table"
   ]
  },
  {
   "cell_type": "code",
   "execution_count": 5,
   "metadata": {},
   "outputs": [],
   "source": [
    "target_table = soup.find_all('table', {'class': 'wikitable'})[0]"
   ]
  },
  {
   "cell_type": "markdown",
   "metadata": {},
   "source": [
    "### Get the column titles we need"
   ]
  },
  {
   "cell_type": "code",
   "execution_count": 6,
   "metadata": {},
   "outputs": [
    {
     "data": {
      "text/plain": [
       "['Postal Code', 'Borough', 'Neighbourhood']"
      ]
     },
     "execution_count": 6,
     "metadata": {},
     "output_type": "execute_result"
    }
   ],
   "source": [
    "column_titles = []\n",
    "columns = target_table.find_all('th')\n",
    "for title in columns:\n",
    "    text = title.text\n",
    "    if '\\n' in text:\n",
    "        index = text.index('\\n')\n",
    "        text = text[:index] + text[index+2:]\n",
    "    column_titles.append(text)\n",
    "column_titles"
   ]
  },
  {
   "cell_type": "markdown",
   "metadata": {},
   "source": [
    "### Get columns data we need"
   ]
  },
  {
   "cell_type": "code",
   "execution_count": 7,
   "metadata": {},
   "outputs": [],
   "source": [
    "def boroughIsValid(borough):\n",
    "    return borough != 'Not assigned'"
   ]
  },
  {
   "cell_type": "code",
   "execution_count": 8,
   "metadata": {},
   "outputs": [],
   "source": [
    "def neibourhoodIsValid(neibourhood):\n",
    "    return neibourhood != 'Not assigned'"
   ]
  },
  {
   "cell_type": "code",
   "execution_count": 9,
   "metadata": {},
   "outputs": [
    {
     "data": {
      "text/plain": [
       "[['M3A', 'North York', 'Parkwoods'],\n",
       " ['M4A', 'North York', 'Victoria Village'],\n",
       " ['M5A', 'Downtown Toronto', 'Regent Park, Harbourfront'],\n",
       " ['M6A', 'North York', 'Lawrence Manor, Lawrence Heights'],\n",
       " ['M7A', 'Downtown Toronto', \"Queen's Park, Ontario Provincial Government\"],\n",
       " ['M9A', 'Etobicoke', 'Islington Avenue, Humber Valley Village'],\n",
       " ['M1B', 'Scarborough', 'Malvern, Rouge'],\n",
       " ['M3B', 'North York', 'Don Mills'],\n",
       " ['M4B', 'East York', 'Parkview Hill, Woodbine Gardens'],\n",
       " ['M5B', 'Downtown Toronto', 'Garden District, Ryerson'],\n",
       " ['M6B', 'North York', 'Glencairn'],\n",
       " ['M9B',\n",
       "  'Etobicoke',\n",
       "  'West Deane Park, Princess Gardens, Martin Grove, Islington, Cloverdale'],\n",
       " ['M1C', 'Scarborough', 'Rouge Hill, Port Union, Highland Creek'],\n",
       " ['M3C', 'North York', 'Don Mills'],\n",
       " ['M4C', 'East York', 'Woodbine Heights'],\n",
       " ['M5C', 'Downtown Toronto', 'St. James Town'],\n",
       " ['M6C', 'York', 'Humewood-Cedarvale'],\n",
       " ['M9C',\n",
       "  'Etobicoke',\n",
       "  'Eringate, Bloordale Gardens, Old Burnhamthorpe, Markland Wood'],\n",
       " ['M1E', 'Scarborough', 'Guildwood, Morningside, West Hill'],\n",
       " ['M4E', 'East Toronto', 'The Beaches'],\n",
       " ['M5E', 'Downtown Toronto', 'Berczy Park'],\n",
       " ['M6E', 'York', 'Caledonia-Fairbanks'],\n",
       " ['M1G', 'Scarborough', 'Woburn'],\n",
       " ['M4G', 'East York', 'Leaside'],\n",
       " ['M5G', 'Downtown Toronto', 'Central Bay Street'],\n",
       " ['M6G', 'Downtown Toronto', 'Christie'],\n",
       " ['M1H', 'Scarborough', 'Cedarbrae'],\n",
       " ['M2H', 'North York', 'Hillcrest Village'],\n",
       " ['M3H', 'North York', 'Bathurst Manor, Wilson Heights, Downsview North'],\n",
       " ['M4H', 'East York', 'Thorncliffe Park'],\n",
       " ['M5H', 'Downtown Toronto', 'Richmond, Adelaide, King'],\n",
       " ['M6H', 'West Toronto', 'Dufferin, Dovercourt Village'],\n",
       " ['M1J', 'Scarborough', 'Scarborough Village'],\n",
       " ['M2J', 'North York', 'Fairview, Henry Farm, Oriole'],\n",
       " ['M3J', 'North York', 'Northwood Park, York University'],\n",
       " ['M4J', 'East York', 'East Toronto, Broadview North (Old East York)'],\n",
       " ['M5J',\n",
       "  'Downtown Toronto',\n",
       "  'Harbourfront East, Union Station, Toronto Islands'],\n",
       " ['M6J', 'West Toronto', 'Little Portugal, Trinity'],\n",
       " ['M1K', 'Scarborough', 'Kennedy Park, Ionview, East Birchmount Park'],\n",
       " ['M2K', 'North York', 'Bayview Village'],\n",
       " ['M3K', 'North York', 'Downsview'],\n",
       " ['M4K', 'East Toronto', 'The Danforth West, Riverdale'],\n",
       " ['M5K', 'Downtown Toronto', 'Toronto Dominion Centre, Design Exchange'],\n",
       " ['M6K', 'West Toronto', 'Brockton, Parkdale Village, Exhibition Place'],\n",
       " ['M1L', 'Scarborough', 'Golden Mile, Clairlea, Oakridge'],\n",
       " ['M2L', 'North York', 'York Mills, Silver Hills'],\n",
       " ['M3L', 'North York', 'Downsview'],\n",
       " ['M4L', 'East Toronto', 'India Bazaar, The Beaches West'],\n",
       " ['M5L', 'Downtown Toronto', 'Commerce Court, Victoria Hotel'],\n",
       " ['M6L', 'North York', 'North Park, Maple Leaf Park, Upwood Park'],\n",
       " ['M9L', 'North York', 'Humber Summit'],\n",
       " ['M1M', 'Scarborough', 'Cliffside, Cliffcrest, Scarborough Village West'],\n",
       " ['M2M', 'North York', 'Willowdale, Newtonbrook'],\n",
       " ['M3M', 'North York', 'Downsview'],\n",
       " ['M4M', 'East Toronto', 'Studio District'],\n",
       " ['M5M', 'North York', 'Bedford Park, Lawrence Manor East'],\n",
       " ['M6M', 'York', 'Del Ray, Mount Dennis, Keelsdale and Silverthorn'],\n",
       " ['M9M', 'North York', 'Humberlea, Emery'],\n",
       " ['M1N', 'Scarborough', 'Birch Cliff, Cliffside West'],\n",
       " ['M2N', 'North York', 'Willowdale, Willowdale East'],\n",
       " ['M3N', 'North York', 'Downsview'],\n",
       " ['M4N', 'Central Toronto', 'Lawrence Park'],\n",
       " ['M5N', 'Central Toronto', 'Roselawn'],\n",
       " ['M6N', 'York', 'Runnymede, The Junction North'],\n",
       " ['M9N', 'York', 'Weston'],\n",
       " ['M1P',\n",
       "  'Scarborough',\n",
       "  'Dorset Park, Wexford Heights, Scarborough Town Centre'],\n",
       " ['M2P', 'North York', 'York Mills West'],\n",
       " ['M4P', 'Central Toronto', 'Davisville North'],\n",
       " ['M5P', 'Central Toronto', 'Forest Hill North & West, Forest Hill Road Park'],\n",
       " ['M6P', 'West Toronto', 'High Park, The Junction South'],\n",
       " ['M9P', 'Etobicoke', 'Westmount'],\n",
       " ['M1R', 'Scarborough', 'Wexford, Maryvale'],\n",
       " ['M2R', 'North York', 'Willowdale, Willowdale West'],\n",
       " ['M4R', 'Central Toronto', 'North Toronto West,  Lawrence Park'],\n",
       " ['M5R', 'Central Toronto', 'The Annex, North Midtown, Yorkville'],\n",
       " ['M6R', 'West Toronto', 'Parkdale, Roncesvalles'],\n",
       " ['M7R', 'Mississauga', 'Canada Post Gateway Processing Centre'],\n",
       " ['M9R',\n",
       "  'Etobicoke',\n",
       "  'Kingsview Village, St. Phillips, Martin Grove Gardens, Richview Gardens'],\n",
       " ['M1S', 'Scarborough', 'Agincourt'],\n",
       " ['M4S', 'Central Toronto', 'Davisville'],\n",
       " ['M5S', 'Downtown Toronto', 'University of Toronto, Harbord'],\n",
       " ['M6S', 'West Toronto', 'Runnymede, Swansea'],\n",
       " ['M1T', 'Scarborough', \"Clarks Corners, Tam O'Shanter, Sullivan\"],\n",
       " ['M4T', 'Central Toronto', 'Moore Park, Summerhill East'],\n",
       " ['M5T', 'Downtown Toronto', 'Kensington Market, Chinatown, Grange Park'],\n",
       " ['M1V',\n",
       "  'Scarborough',\n",
       "  \"Milliken, Agincourt North, Steeles East, L'Amoreaux East\"],\n",
       " ['M4V',\n",
       "  'Central Toronto',\n",
       "  'Summerhill West, Rathnelly, South Hill, Forest Hill SE, Deer Park'],\n",
       " ['M5V',\n",
       "  'Downtown Toronto',\n",
       "  'CN Tower, King and Spadina, Railway Lands, Harbourfront West, Bathurst Quay, South Niagara, Island airport'],\n",
       " ['M8V', 'Etobicoke', 'New Toronto, Mimico South, Humber Bay Shores'],\n",
       " ['M9V',\n",
       "  'Etobicoke',\n",
       "  'South Steeles, Silverstone, Humbergate, Jamestown, Mount Olive, Beaumond Heights, Thistletown, Albion Gardens'],\n",
       " ['M1W', 'Scarborough', \"Steeles West, L'Amoreaux West\"],\n",
       " ['M4W', 'Downtown Toronto', 'Rosedale'],\n",
       " ['M5W', 'Downtown Toronto', 'Stn A PO Boxes'],\n",
       " ['M8W', 'Etobicoke', 'Alderwood, Long Branch'],\n",
       " ['M9W', 'Etobicoke', 'Northwest, West Humber - Clairville'],\n",
       " ['M1X', 'Scarborough', 'Upper Rouge'],\n",
       " ['M4X', 'Downtown Toronto', 'St. James Town, Cabbagetown'],\n",
       " ['M5X', 'Downtown Toronto', 'First Canadian Place, Underground city'],\n",
       " ['M8X', 'Etobicoke', 'The Kingsway, Montgomery Road, Old Mill North'],\n",
       " ['M4Y', 'Downtown Toronto', 'Church and Wellesley'],\n",
       " ['M7Y',\n",
       "  'East Toronto',\n",
       "  'Business reply mail Processing Centre, South Central Letter Processing Plant Toronto'],\n",
       " ['M8Y',\n",
       "  'Etobicoke',\n",
       "  \"Old Mill South, King's Mill Park, Sunnylea, Humber Bay, Mimico NE, The Queensway East, Royal York South East, Kingsway Park South East\"],\n",
       " ['M8Z',\n",
       "  'Etobicoke',\n",
       "  'Mimico NW, The Queensway West, South of Bloor, Kingsway Park South West, Royal York South West']]"
      ]
     },
     "execution_count": 9,
     "metadata": {},
     "output_type": "execute_result"
    }
   ],
   "source": [
    "from collections import defaultdict \n",
    "table_body = soup.find('tbody')\n",
    "columns_data = defaultdict(list)\n",
    "data = []\n",
    "rows = table_body.find_all('tr')\n",
    "for row in rows:\n",
    "    cols = row.find_all('td')\n",
    "    if len(cols) == 0:\n",
    "        continue\n",
    "    postal_code, borough, neighbourhood = [x.text.strip() for x in cols]\n",
    "    # Only process the cells that have an assigned borough\n",
    "    if not boroughIsValid(borough):\n",
    "        continue\n",
    "    # If a cell has a borough but a Not assigned neighborhood, then the neighborhood will be the same as the borough.\n",
    "    if not neibourhoodIsValid(neighbourhood):\n",
    "        neighbourhood = borough\n",
    "    columns_data[(postal_code, borough)].append(neighbourhood)\n",
    "data = []\n",
    "# Combined rows with same PostalCode and Borough into one row with the neighborhoods separated with a comma\n",
    "for key, value in columns_data.items():\n",
    "    neighbourhoods = ','.join(value)\n",
    "    data.append(list(key) + [neighbourhoods])\n",
    "\n",
    "data"
   ]
  },
  {
   "cell_type": "markdown",
   "metadata": {},
   "source": [
    "### Transform the data into a pandas dataframe"
   ]
  },
  {
   "cell_type": "code",
   "execution_count": 10,
   "metadata": {},
   "outputs": [
    {
     "data": {
      "text/html": [
       "<div>\n",
       "<style scoped>\n",
       "    .dataframe tbody tr th:only-of-type {\n",
       "        vertical-align: middle;\n",
       "    }\n",
       "\n",
       "    .dataframe tbody tr th {\n",
       "        vertical-align: top;\n",
       "    }\n",
       "\n",
       "    .dataframe thead th {\n",
       "        text-align: right;\n",
       "    }\n",
       "</style>\n",
       "<table border=\"1\" class=\"dataframe\">\n",
       "  <thead>\n",
       "    <tr style=\"text-align: right;\">\n",
       "      <th></th>\n",
       "      <th>Postal Code</th>\n",
       "      <th>Borough</th>\n",
       "      <th>Neighbourhood</th>\n",
       "    </tr>\n",
       "  </thead>\n",
       "  <tbody>\n",
       "    <tr>\n",
       "      <th>0</th>\n",
       "      <td>M3A</td>\n",
       "      <td>North York</td>\n",
       "      <td>Parkwoods</td>\n",
       "    </tr>\n",
       "    <tr>\n",
       "      <th>1</th>\n",
       "      <td>M4A</td>\n",
       "      <td>North York</td>\n",
       "      <td>Victoria Village</td>\n",
       "    </tr>\n",
       "    <tr>\n",
       "      <th>2</th>\n",
       "      <td>M5A</td>\n",
       "      <td>Downtown Toronto</td>\n",
       "      <td>Regent Park, Harbourfront</td>\n",
       "    </tr>\n",
       "    <tr>\n",
       "      <th>3</th>\n",
       "      <td>M6A</td>\n",
       "      <td>North York</td>\n",
       "      <td>Lawrence Manor, Lawrence Heights</td>\n",
       "    </tr>\n",
       "    <tr>\n",
       "      <th>4</th>\n",
       "      <td>M7A</td>\n",
       "      <td>Downtown Toronto</td>\n",
       "      <td>Queen's Park, Ontario Provincial Government</td>\n",
       "    </tr>\n",
       "    <tr>\n",
       "      <th>...</th>\n",
       "      <td>...</td>\n",
       "      <td>...</td>\n",
       "      <td>...</td>\n",
       "    </tr>\n",
       "    <tr>\n",
       "      <th>98</th>\n",
       "      <td>M8X</td>\n",
       "      <td>Etobicoke</td>\n",
       "      <td>The Kingsway, Montgomery Road, Old Mill North</td>\n",
       "    </tr>\n",
       "    <tr>\n",
       "      <th>99</th>\n",
       "      <td>M4Y</td>\n",
       "      <td>Downtown Toronto</td>\n",
       "      <td>Church and Wellesley</td>\n",
       "    </tr>\n",
       "    <tr>\n",
       "      <th>100</th>\n",
       "      <td>M7Y</td>\n",
       "      <td>East Toronto</td>\n",
       "      <td>Business reply mail Processing Centre, South C...</td>\n",
       "    </tr>\n",
       "    <tr>\n",
       "      <th>101</th>\n",
       "      <td>M8Y</td>\n",
       "      <td>Etobicoke</td>\n",
       "      <td>Old Mill South, King's Mill Park, Sunnylea, Hu...</td>\n",
       "    </tr>\n",
       "    <tr>\n",
       "      <th>102</th>\n",
       "      <td>M8Z</td>\n",
       "      <td>Etobicoke</td>\n",
       "      <td>Mimico NW, The Queensway West, South of Bloor,...</td>\n",
       "    </tr>\n",
       "  </tbody>\n",
       "</table>\n",
       "<p>103 rows × 3 columns</p>\n",
       "</div>"
      ],
      "text/plain": [
       "    Postal Code           Borough  \\\n",
       "0           M3A        North York   \n",
       "1           M4A        North York   \n",
       "2           M5A  Downtown Toronto   \n",
       "3           M6A        North York   \n",
       "4           M7A  Downtown Toronto   \n",
       "..          ...               ...   \n",
       "98          M8X         Etobicoke   \n",
       "99          M4Y  Downtown Toronto   \n",
       "100         M7Y      East Toronto   \n",
       "101         M8Y         Etobicoke   \n",
       "102         M8Z         Etobicoke   \n",
       "\n",
       "                                         Neighbourhood  \n",
       "0                                            Parkwoods  \n",
       "1                                     Victoria Village  \n",
       "2                            Regent Park, Harbourfront  \n",
       "3                     Lawrence Manor, Lawrence Heights  \n",
       "4          Queen's Park, Ontario Provincial Government  \n",
       "..                                                 ...  \n",
       "98       The Kingsway, Montgomery Road, Old Mill North  \n",
       "99                                Church and Wellesley  \n",
       "100  Business reply mail Processing Centre, South C...  \n",
       "101  Old Mill South, King's Mill Park, Sunnylea, Hu...  \n",
       "102  Mimico NW, The Queensway West, South of Bloor,...  \n",
       "\n",
       "[103 rows x 3 columns]"
      ]
     },
     "execution_count": 10,
     "metadata": {},
     "output_type": "execute_result"
    }
   ],
   "source": [
    "table_data = np.array(data)\n",
    "df1 = pd.DataFrame(table_data, columns=column_titles)\n",
    "df1"
   ]
  },
  {
   "cell_type": "code",
   "execution_count": 11,
   "metadata": {},
   "outputs": [
    {
     "data": {
      "text/plain": [
       "(103, 3)"
      ]
     },
     "execution_count": 11,
     "metadata": {},
     "output_type": "execute_result"
    }
   ],
   "source": [
    "df1.shape"
   ]
  },
  {
   "cell_type": "markdown",
   "metadata": {},
   "source": [
    "# Create another dataframe with latitude and longitude"
   ]
  },
  {
   "cell_type": "markdown",
   "metadata": {},
   "source": [
    "### Read the geographical coordinates csv"
   ]
  },
  {
   "cell_type": "code",
   "execution_count": 12,
   "metadata": {},
   "outputs": [
    {
     "data": {
      "text/html": [
       "<div>\n",
       "<style scoped>\n",
       "    .dataframe tbody tr th:only-of-type {\n",
       "        vertical-align: middle;\n",
       "    }\n",
       "\n",
       "    .dataframe tbody tr th {\n",
       "        vertical-align: top;\n",
       "    }\n",
       "\n",
       "    .dataframe thead th {\n",
       "        text-align: right;\n",
       "    }\n",
       "</style>\n",
       "<table border=\"1\" class=\"dataframe\">\n",
       "  <thead>\n",
       "    <tr style=\"text-align: right;\">\n",
       "      <th></th>\n",
       "      <th>Postal Code</th>\n",
       "      <th>Latitude</th>\n",
       "      <th>Longitude</th>\n",
       "    </tr>\n",
       "  </thead>\n",
       "  <tbody>\n",
       "    <tr>\n",
       "      <th>0</th>\n",
       "      <td>M1B</td>\n",
       "      <td>43.806686</td>\n",
       "      <td>-79.194353</td>\n",
       "    </tr>\n",
       "    <tr>\n",
       "      <th>1</th>\n",
       "      <td>M1C</td>\n",
       "      <td>43.784535</td>\n",
       "      <td>-79.160497</td>\n",
       "    </tr>\n",
       "    <tr>\n",
       "      <th>2</th>\n",
       "      <td>M1E</td>\n",
       "      <td>43.763573</td>\n",
       "      <td>-79.188711</td>\n",
       "    </tr>\n",
       "    <tr>\n",
       "      <th>3</th>\n",
       "      <td>M1G</td>\n",
       "      <td>43.770992</td>\n",
       "      <td>-79.216917</td>\n",
       "    </tr>\n",
       "    <tr>\n",
       "      <th>4</th>\n",
       "      <td>M1H</td>\n",
       "      <td>43.773136</td>\n",
       "      <td>-79.239476</td>\n",
       "    </tr>\n",
       "    <tr>\n",
       "      <th>...</th>\n",
       "      <td>...</td>\n",
       "      <td>...</td>\n",
       "      <td>...</td>\n",
       "    </tr>\n",
       "    <tr>\n",
       "      <th>98</th>\n",
       "      <td>M9N</td>\n",
       "      <td>43.706876</td>\n",
       "      <td>-79.518188</td>\n",
       "    </tr>\n",
       "    <tr>\n",
       "      <th>99</th>\n",
       "      <td>M9P</td>\n",
       "      <td>43.696319</td>\n",
       "      <td>-79.532242</td>\n",
       "    </tr>\n",
       "    <tr>\n",
       "      <th>100</th>\n",
       "      <td>M9R</td>\n",
       "      <td>43.688905</td>\n",
       "      <td>-79.554724</td>\n",
       "    </tr>\n",
       "    <tr>\n",
       "      <th>101</th>\n",
       "      <td>M9V</td>\n",
       "      <td>43.739416</td>\n",
       "      <td>-79.588437</td>\n",
       "    </tr>\n",
       "    <tr>\n",
       "      <th>102</th>\n",
       "      <td>M9W</td>\n",
       "      <td>43.706748</td>\n",
       "      <td>-79.594054</td>\n",
       "    </tr>\n",
       "  </tbody>\n",
       "</table>\n",
       "<p>103 rows × 3 columns</p>\n",
       "</div>"
      ],
      "text/plain": [
       "    Postal Code   Latitude  Longitude\n",
       "0           M1B  43.806686 -79.194353\n",
       "1           M1C  43.784535 -79.160497\n",
       "2           M1E  43.763573 -79.188711\n",
       "3           M1G  43.770992 -79.216917\n",
       "4           M1H  43.773136 -79.239476\n",
       "..          ...        ...        ...\n",
       "98          M9N  43.706876 -79.518188\n",
       "99          M9P  43.696319 -79.532242\n",
       "100         M9R  43.688905 -79.554724\n",
       "101         M9V  43.739416 -79.588437\n",
       "102         M9W  43.706748 -79.594054\n",
       "\n",
       "[103 rows x 3 columns]"
      ]
     },
     "execution_count": 12,
     "metadata": {},
     "output_type": "execute_result"
    }
   ],
   "source": [
    "df2 = pd.read_csv('Geospatial_Coordinates.csv')\n",
    "df2"
   ]
  },
  {
   "cell_type": "markdown",
   "metadata": {},
   "source": [
    "### Join the two tables"
   ]
  },
  {
   "cell_type": "code",
   "execution_count": 13,
   "metadata": {},
   "outputs": [
    {
     "data": {
      "text/html": [
       "<div>\n",
       "<style scoped>\n",
       "    .dataframe tbody tr th:only-of-type {\n",
       "        vertical-align: middle;\n",
       "    }\n",
       "\n",
       "    .dataframe tbody tr th {\n",
       "        vertical-align: top;\n",
       "    }\n",
       "\n",
       "    .dataframe thead th {\n",
       "        text-align: right;\n",
       "    }\n",
       "</style>\n",
       "<table border=\"1\" class=\"dataframe\">\n",
       "  <thead>\n",
       "    <tr style=\"text-align: right;\">\n",
       "      <th></th>\n",
       "      <th>Postal Code</th>\n",
       "      <th>Borough</th>\n",
       "      <th>Neighbourhood</th>\n",
       "      <th>Latitude</th>\n",
       "      <th>Longitude</th>\n",
       "    </tr>\n",
       "  </thead>\n",
       "  <tbody>\n",
       "    <tr>\n",
       "      <th>0</th>\n",
       "      <td>M3A</td>\n",
       "      <td>North York</td>\n",
       "      <td>Parkwoods</td>\n",
       "      <td>43.753259</td>\n",
       "      <td>-79.329656</td>\n",
       "    </tr>\n",
       "    <tr>\n",
       "      <th>1</th>\n",
       "      <td>M4A</td>\n",
       "      <td>North York</td>\n",
       "      <td>Victoria Village</td>\n",
       "      <td>43.725882</td>\n",
       "      <td>-79.315572</td>\n",
       "    </tr>\n",
       "    <tr>\n",
       "      <th>2</th>\n",
       "      <td>M5A</td>\n",
       "      <td>Downtown Toronto</td>\n",
       "      <td>Regent Park, Harbourfront</td>\n",
       "      <td>43.654260</td>\n",
       "      <td>-79.360636</td>\n",
       "    </tr>\n",
       "    <tr>\n",
       "      <th>3</th>\n",
       "      <td>M6A</td>\n",
       "      <td>North York</td>\n",
       "      <td>Lawrence Manor, Lawrence Heights</td>\n",
       "      <td>43.718518</td>\n",
       "      <td>-79.464763</td>\n",
       "    </tr>\n",
       "    <tr>\n",
       "      <th>4</th>\n",
       "      <td>M7A</td>\n",
       "      <td>Downtown Toronto</td>\n",
       "      <td>Queen's Park, Ontario Provincial Government</td>\n",
       "      <td>43.662301</td>\n",
       "      <td>-79.389494</td>\n",
       "    </tr>\n",
       "    <tr>\n",
       "      <th>...</th>\n",
       "      <td>...</td>\n",
       "      <td>...</td>\n",
       "      <td>...</td>\n",
       "      <td>...</td>\n",
       "      <td>...</td>\n",
       "    </tr>\n",
       "    <tr>\n",
       "      <th>98</th>\n",
       "      <td>M8X</td>\n",
       "      <td>Etobicoke</td>\n",
       "      <td>The Kingsway, Montgomery Road, Old Mill North</td>\n",
       "      <td>43.653654</td>\n",
       "      <td>-79.506944</td>\n",
       "    </tr>\n",
       "    <tr>\n",
       "      <th>99</th>\n",
       "      <td>M4Y</td>\n",
       "      <td>Downtown Toronto</td>\n",
       "      <td>Church and Wellesley</td>\n",
       "      <td>43.665860</td>\n",
       "      <td>-79.383160</td>\n",
       "    </tr>\n",
       "    <tr>\n",
       "      <th>100</th>\n",
       "      <td>M7Y</td>\n",
       "      <td>East Toronto</td>\n",
       "      <td>Business reply mail Processing Centre, South C...</td>\n",
       "      <td>43.662744</td>\n",
       "      <td>-79.321558</td>\n",
       "    </tr>\n",
       "    <tr>\n",
       "      <th>101</th>\n",
       "      <td>M8Y</td>\n",
       "      <td>Etobicoke</td>\n",
       "      <td>Old Mill South, King's Mill Park, Sunnylea, Hu...</td>\n",
       "      <td>43.636258</td>\n",
       "      <td>-79.498509</td>\n",
       "    </tr>\n",
       "    <tr>\n",
       "      <th>102</th>\n",
       "      <td>M8Z</td>\n",
       "      <td>Etobicoke</td>\n",
       "      <td>Mimico NW, The Queensway West, South of Bloor,...</td>\n",
       "      <td>43.628841</td>\n",
       "      <td>-79.520999</td>\n",
       "    </tr>\n",
       "  </tbody>\n",
       "</table>\n",
       "<p>103 rows × 5 columns</p>\n",
       "</div>"
      ],
      "text/plain": [
       "    Postal Code           Borough  \\\n",
       "0           M3A        North York   \n",
       "1           M4A        North York   \n",
       "2           M5A  Downtown Toronto   \n",
       "3           M6A        North York   \n",
       "4           M7A  Downtown Toronto   \n",
       "..          ...               ...   \n",
       "98          M8X         Etobicoke   \n",
       "99          M4Y  Downtown Toronto   \n",
       "100         M7Y      East Toronto   \n",
       "101         M8Y         Etobicoke   \n",
       "102         M8Z         Etobicoke   \n",
       "\n",
       "                                         Neighbourhood   Latitude  Longitude  \n",
       "0                                            Parkwoods  43.753259 -79.329656  \n",
       "1                                     Victoria Village  43.725882 -79.315572  \n",
       "2                            Regent Park, Harbourfront  43.654260 -79.360636  \n",
       "3                     Lawrence Manor, Lawrence Heights  43.718518 -79.464763  \n",
       "4          Queen's Park, Ontario Provincial Government  43.662301 -79.389494  \n",
       "..                                                 ...        ...        ...  \n",
       "98       The Kingsway, Montgomery Road, Old Mill North  43.653654 -79.506944  \n",
       "99                                Church and Wellesley  43.665860 -79.383160  \n",
       "100  Business reply mail Processing Centre, South C...  43.662744 -79.321558  \n",
       "101  Old Mill South, King's Mill Park, Sunnylea, Hu...  43.636258 -79.498509  \n",
       "102  Mimico NW, The Queensway West, South of Bloor,...  43.628841 -79.520999  \n",
       "\n",
       "[103 rows x 5 columns]"
      ]
     },
     "execution_count": 13,
     "metadata": {},
     "output_type": "execute_result"
    }
   ],
   "source": [
    "df = df1.join(df2.set_index('Postal Code'), on='Postal Code')\n",
    "df"
   ]
  },
  {
   "cell_type": "markdown",
   "metadata": {},
   "source": [
    "# Explore and cluster the neighborhoods in Toronto"
   ]
  },
  {
   "cell_type": "markdown",
   "metadata": {},
   "source": [
    "### Import libraries we need"
   ]
  },
  {
   "cell_type": "code",
   "execution_count": 14,
   "metadata": {},
   "outputs": [
    {
     "name": "stdout",
     "output_type": "stream",
     "text": [
      "Libraries imported.\n"
     ]
    }
   ],
   "source": [
    "import json\n",
    "\n",
    "# Matplotlib and associated plotting modules\n",
    "import matplotlib.cm as cm\n",
    "import matplotlib.colors as colors\n",
    "\n",
    "# import k-means from clustering stage\n",
    "from sklearn.cluster import KMeans\n",
    "\n",
    "import folium # map rendering library\n",
    "\n",
    "print('Libraries imported.')"
   ]
  },
  {
   "cell_type": "code",
   "execution_count": 15,
   "metadata": {},
   "outputs": [
    {
     "name": "stdout",
     "output_type": "stream",
     "text": [
      "The dataframe has 10 boroughs and 103 neighborhoods.\n"
     ]
    }
   ],
   "source": [
    "print('The dataframe has {} boroughs and {} neighborhoods.'.format(\n",
    "        len(df['Borough'].unique()),\n",
    "        df.shape[0]\n",
    "    )\n",
    ")"
   ]
  },
  {
   "cell_type": "markdown",
   "metadata": {},
   "source": [
    "### Get Toronto latitude and longitude"
   ]
  },
  {
   "cell_type": "code",
   "execution_count": 16,
   "metadata": {},
   "outputs": [
    {
     "name": "stdout",
     "output_type": "stream",
     "text": [
      "The geograpical coordinate of Toronto are 43.653225, -79.383186.\n"
     ]
    }
   ],
   "source": [
    "latitude = 43.653225\n",
    "longitude = -79.383186\n",
    "print('The geograpical coordinate of Toronto are {}, {}.'.format(latitude, longitude))"
   ]
  },
  {
   "cell_type": "markdown",
   "metadata": {},
   "source": [
    "### Generate maps"
   ]
  },
  {
   "cell_type": "code",
   "execution_count": 17,
   "metadata": {},
   "outputs": [
    {
     "data": {
      "text/html": [
       "<div style=\"width:100%;\"><div style=\"position:relative;width:100%;height:0;padding-bottom:60%;\"><span style=\"color:#565656\">Make this Notebook Trusted to load map: File -> Trust Notebook</span><iframe src=\"about:blank\" style=\"position:absolute;width:100%;height:100%;left:0;top:0;border:none !important;\" data-html=PCFET0NUWVBFIGh0bWw+CjxoZWFkPiAgICAKICAgIDxtZXRhIGh0dHAtZXF1aXY9ImNvbnRlbnQtdHlwZSIgY29udGVudD0idGV4dC9odG1sOyBjaGFyc2V0PVVURi04IiAvPgogICAgCiAgICAgICAgPHNjcmlwdD4KICAgICAgICAgICAgTF9OT19UT1VDSCA9IGZhbHNlOwogICAgICAgICAgICBMX0RJU0FCTEVfM0QgPSBmYWxzZTsKICAgICAgICA8L3NjcmlwdD4KICAgIAogICAgPHNjcmlwdCBzcmM9Imh0dHBzOi8vY2RuLmpzZGVsaXZyLm5ldC9ucG0vbGVhZmxldEAxLjYuMC9kaXN0L2xlYWZsZXQuanMiPjwvc2NyaXB0PgogICAgPHNjcmlwdCBzcmM9Imh0dHBzOi8vY29kZS5qcXVlcnkuY29tL2pxdWVyeS0xLjEyLjQubWluLmpzIj48L3NjcmlwdD4KICAgIDxzY3JpcHQgc3JjPSJodHRwczovL21heGNkbi5ib290c3RyYXBjZG4uY29tL2Jvb3RzdHJhcC8zLjIuMC9qcy9ib290c3RyYXAubWluLmpzIj48L3NjcmlwdD4KICAgIDxzY3JpcHQgc3JjPSJodHRwczovL2NkbmpzLmNsb3VkZmxhcmUuY29tL2FqYXgvbGlicy9MZWFmbGV0LmF3ZXNvbWUtbWFya2Vycy8yLjAuMi9sZWFmbGV0LmF3ZXNvbWUtbWFya2Vycy5qcyI+PC9zY3JpcHQ+CiAgICA8bGluayByZWw9InN0eWxlc2hlZXQiIGhyZWY9Imh0dHBzOi8vY2RuLmpzZGVsaXZyLm5ldC9ucG0vbGVhZmxldEAxLjYuMC9kaXN0L2xlYWZsZXQuY3NzIi8+CiAgICA8bGluayByZWw9InN0eWxlc2hlZXQiIGhyZWY9Imh0dHBzOi8vbWF4Y2RuLmJvb3RzdHJhcGNkbi5jb20vYm9vdHN0cmFwLzMuMi4wL2Nzcy9ib290c3RyYXAubWluLmNzcyIvPgogICAgPGxpbmsgcmVsPSJzdHlsZXNoZWV0IiBocmVmPSJodHRwczovL21heGNkbi5ib290c3RyYXBjZG4uY29tL2Jvb3RzdHJhcC8zLjIuMC9jc3MvYm9vdHN0cmFwLXRoZW1lLm1pbi5jc3MiLz4KICAgIDxsaW5rIHJlbD0ic3R5bGVzaGVldCIgaHJlZj0iaHR0cHM6Ly9tYXhjZG4uYm9vdHN0cmFwY2RuLmNvbS9mb250LWF3ZXNvbWUvNC42LjMvY3NzL2ZvbnQtYXdlc29tZS5taW4uY3NzIi8+CiAgICA8bGluayByZWw9InN0eWxlc2hlZXQiIGhyZWY9Imh0dHBzOi8vY2RuanMuY2xvdWRmbGFyZS5jb20vYWpheC9saWJzL0xlYWZsZXQuYXdlc29tZS1tYXJrZXJzLzIuMC4yL2xlYWZsZXQuYXdlc29tZS1tYXJrZXJzLmNzcyIvPgogICAgPGxpbmsgcmVsPSJzdHlsZXNoZWV0IiBocmVmPSJodHRwczovL3Jhd2Nkbi5naXRoYWNrLmNvbS9weXRob24tdmlzdWFsaXphdGlvbi9mb2xpdW0vbWFzdGVyL2ZvbGl1bS90ZW1wbGF0ZXMvbGVhZmxldC5hd2Vzb21lLnJvdGF0ZS5jc3MiLz4KICAgIDxzdHlsZT5odG1sLCBib2R5IHt3aWR0aDogMTAwJTtoZWlnaHQ6IDEwMCU7bWFyZ2luOiAwO3BhZGRpbmc6IDA7fTwvc3R5bGU+CiAgICA8c3R5bGU+I21hcCB7cG9zaXRpb246YWJzb2x1dGU7dG9wOjA7Ym90dG9tOjA7cmlnaHQ6MDtsZWZ0OjA7fTwvc3R5bGU+CiAgICAKICAgICAgICAgICAgPG1ldGEgbmFtZT0idmlld3BvcnQiIGNvbnRlbnQ9IndpZHRoPWRldmljZS13aWR0aCwKICAgICAgICAgICAgICAgIGluaXRpYWwtc2NhbGU9MS4wLCBtYXhpbXVtLXNjYWxlPTEuMCwgdXNlci1zY2FsYWJsZT1ubyIgLz4KICAgICAgICAgICAgPHN0eWxlPgogICAgICAgICAgICAgICAgI21hcF85MmY5Zjk0MTQ2MmQ0YmQ2ODk1MDQ4MzdjMDIwOTM2OSB7CiAgICAgICAgICAgICAgICAgICAgcG9zaXRpb246IHJlbGF0aXZlOwogICAgICAgICAgICAgICAgICAgIHdpZHRoOiAxMDAuMCU7CiAgICAgICAgICAgICAgICAgICAgaGVpZ2h0OiAxMDAuMCU7CiAgICAgICAgICAgICAgICAgICAgbGVmdDogMC4wJTsKICAgICAgICAgICAgICAgICAgICB0b3A6IDAuMCU7CiAgICAgICAgICAgICAgICB9CiAgICAgICAgICAgIDwvc3R5bGU+CiAgICAgICAgCjwvaGVhZD4KPGJvZHk+ICAgIAogICAgCiAgICAgICAgICAgIDxkaXYgY2xhc3M9ImZvbGl1bS1tYXAiIGlkPSJtYXBfOTJmOWY5NDE0NjJkNGJkNjg5NTA0ODM3YzAyMDkzNjkiID48L2Rpdj4KICAgICAgICAKPC9ib2R5Pgo8c2NyaXB0PiAgICAKICAgIAogICAgICAgICAgICB2YXIgbWFwXzkyZjlmOTQxNDYyZDRiZDY4OTUwNDgzN2MwMjA5MzY5ID0gTC5tYXAoCiAgICAgICAgICAgICAgICAibWFwXzkyZjlmOTQxNDYyZDRiZDY4OTUwNDgzN2MwMjA5MzY5IiwKICAgICAgICAgICAgICAgIHsKICAgICAgICAgICAgICAgICAgICBjZW50ZXI6IFs0My42NTMyMjUsIC03OS4zODMxODZdLAogICAgICAgICAgICAgICAgICAgIGNyczogTC5DUlMuRVBTRzM4NTcsCiAgICAgICAgICAgICAgICAgICAgem9vbTogMTAsCiAgICAgICAgICAgICAgICAgICAgem9vbUNvbnRyb2w6IHRydWUsCiAgICAgICAgICAgICAgICAgICAgcHJlZmVyQ2FudmFzOiBmYWxzZSwKICAgICAgICAgICAgICAgIH0KICAgICAgICAgICAgKTsKCiAgICAgICAgICAgIAoKICAgICAgICAKICAgIAogICAgICAgICAgICB2YXIgdGlsZV9sYXllcl81Mzk5ZTI5OTcwZGY0MmNjOGIwNGMzZjE5MzUwNTk1ZSA9IEwudGlsZUxheWVyKAogICAgICAgICAgICAgICAgImh0dHBzOi8ve3N9LnRpbGUub3BlbnN0cmVldG1hcC5vcmcve3p9L3t4fS97eX0ucG5nIiwKICAgICAgICAgICAgICAgIHsiYXR0cmlidXRpb24iOiAiRGF0YSBieSBcdTAwMjZjb3B5OyBcdTAwM2NhIGhyZWY9XCJodHRwOi8vb3BlbnN0cmVldG1hcC5vcmdcIlx1MDAzZU9wZW5TdHJlZXRNYXBcdTAwM2MvYVx1MDAzZSwgdW5kZXIgXHUwMDNjYSBocmVmPVwiaHR0cDovL3d3dy5vcGVuc3RyZWV0bWFwLm9yZy9jb3B5cmlnaHRcIlx1MDAzZU9EYkxcdTAwM2MvYVx1MDAzZS4iLCAiZGV0ZWN0UmV0aW5hIjogZmFsc2UsICJtYXhOYXRpdmVab29tIjogMTgsICJtYXhab29tIjogMTgsICJtaW5ab29tIjogMCwgIm5vV3JhcCI6IGZhbHNlLCAib3BhY2l0eSI6IDEsICJzdWJkb21haW5zIjogImFiYyIsICJ0bXMiOiBmYWxzZX0KICAgICAgICAgICAgKS5hZGRUbyhtYXBfOTJmOWY5NDE0NjJkNGJkNjg5NTA0ODM3YzAyMDkzNjkpOwogICAgICAgIAogICAgCiAgICAgICAgICAgIHZhciBjaXJjbGVfbWFya2VyXzFjNGFiYWJhNzA2MTQ0ZGFiZDU3ODUxNDg5NjhjNmYzID0gTC5jaXJjbGVNYXJrZXIoCiAgICAgICAgICAgICAgICBbNDMuNzUzMjU4NiwgLTc5LjMyOTY1NjVdLAogICAgICAgICAgICAgICAgeyJidWJibGluZ01vdXNlRXZlbnRzIjogdHJ1ZSwgImNvbG9yIjogImJsdWUiLCAiZGFzaEFycmF5IjogbnVsbCwgImRhc2hPZmZzZXQiOiBudWxsLCAiZmlsbCI6IHRydWUsICJmaWxsQ29sb3IiOiAiIzMxODZjYyIsICJmaWxsT3BhY2l0eSI6IDAuNywgImZpbGxSdWxlIjogImV2ZW5vZGQiLCAibGluZUNhcCI6ICJyb3VuZCIsICJsaW5lSm9pbiI6ICJyb3VuZCIsICJvcGFjaXR5IjogMS4wLCAicmFkaXVzIjogNSwgInN0cm9rZSI6IHRydWUsICJ3ZWlnaHQiOiAzfQogICAgICAgICAgICApLmFkZFRvKG1hcF85MmY5Zjk0MTQ2MmQ0YmQ2ODk1MDQ4MzdjMDIwOTM2OSk7CiAgICAgICAgCiAgICAKICAgICAgICB2YXIgcG9wdXBfZmMwMGZmMjFkYTYwNDM1NjgyMTRmZjE4MTk2NGIzOWIgPSBMLnBvcHVwKHsibWF4V2lkdGgiOiAiMTAwJSJ9KTsKCiAgICAgICAgCiAgICAgICAgICAgIHZhciBodG1sXzZlNTIxMTkwM2NlOTQ4YzQ5YzgyMjg5NzllMDI1M2U4ID0gJChgPGRpdiBpZD0iaHRtbF82ZTUyMTE5MDNjZTk0OGM0OWM4MjI4OTc5ZTAyNTNlOCIgc3R5bGU9IndpZHRoOiAxMDAuMCU7IGhlaWdodDogMTAwLjAlOyI+UGFya3dvb2RzLCBOb3J0aCBZb3JrPC9kaXY+YClbMF07CiAgICAgICAgICAgIHBvcHVwX2ZjMDBmZjIxZGE2MDQzNTY4MjE0ZmYxODE5NjRiMzliLnNldENvbnRlbnQoaHRtbF82ZTUyMTE5MDNjZTk0OGM0OWM4MjI4OTc5ZTAyNTNlOCk7CiAgICAgICAgCgogICAgICAgIGNpcmNsZV9tYXJrZXJfMWM0YWJhYmE3MDYxNDRkYWJkNTc4NTE0ODk2OGM2ZjMuYmluZFBvcHVwKHBvcHVwX2ZjMDBmZjIxZGE2MDQzNTY4MjE0ZmYxODE5NjRiMzliKQogICAgICAgIDsKCiAgICAgICAgCiAgICAKICAgIAogICAgICAgICAgICB2YXIgY2lyY2xlX21hcmtlcl82NDRiMGNhOTU4YWQ0MDY0YWRiYzE2OWU3NjJlOGNhYyA9IEwuY2lyY2xlTWFya2VyKAogICAgICAgICAgICAgICAgWzQzLjcyNTg4MjI5OTk5OTk5NSwgLTc5LjMxNTU3MTU5OTk5OTk4XSwKICAgICAgICAgICAgICAgIHsiYnViYmxpbmdNb3VzZUV2ZW50cyI6IHRydWUsICJjb2xvciI6ICJibHVlIiwgImRhc2hBcnJheSI6IG51bGwsICJkYXNoT2Zmc2V0IjogbnVsbCwgImZpbGwiOiB0cnVlLCAiZmlsbENvbG9yIjogIiMzMTg2Y2MiLCAiZmlsbE9wYWNpdHkiOiAwLjcsICJmaWxsUnVsZSI6ICJldmVub2RkIiwgImxpbmVDYXAiOiAicm91bmQiLCAibGluZUpvaW4iOiAicm91bmQiLCAib3BhY2l0eSI6IDEuMCwgInJhZGl1cyI6IDUsICJzdHJva2UiOiB0cnVlLCAid2VpZ2h0IjogM30KICAgICAgICAgICAgKS5hZGRUbyhtYXBfOTJmOWY5NDE0NjJkNGJkNjg5NTA0ODM3YzAyMDkzNjkpOwogICAgICAgIAogICAgCiAgICAgICAgdmFyIHBvcHVwXzJkODYxZDY1Y2JlNjQyOWU5NDY0ZjExNWMyZjlmMmFmID0gTC5wb3B1cCh7Im1heFdpZHRoIjogIjEwMCUifSk7CgogICAgICAgIAogICAgICAgICAgICB2YXIgaHRtbF83YTc3YTI0M2JiMjE0MDhiOTM2Y2I1Y2YyYzllYWZjYyA9ICQoYDxkaXYgaWQ9Imh0bWxfN2E3N2EyNDNiYjIxNDA4YjkzNmNiNWNmMmM5ZWFmY2MiIHN0eWxlPSJ3aWR0aDogMTAwLjAlOyBoZWlnaHQ6IDEwMC4wJTsiPlZpY3RvcmlhIFZpbGxhZ2UsIE5vcnRoIFlvcms8L2Rpdj5gKVswXTsKICAgICAgICAgICAgcG9wdXBfMmQ4NjFkNjVjYmU2NDI5ZTk0NjRmMTE1YzJmOWYyYWYuc2V0Q29udGVudChodG1sXzdhNzdhMjQzYmIyMTQwOGI5MzZjYjVjZjJjOWVhZmNjKTsKICAgICAgICAKCiAgICAgICAgY2lyY2xlX21hcmtlcl82NDRiMGNhOTU4YWQ0MDY0YWRiYzE2OWU3NjJlOGNhYy5iaW5kUG9wdXAocG9wdXBfMmQ4NjFkNjVjYmU2NDI5ZTk0NjRmMTE1YzJmOWYyYWYpCiAgICAgICAgOwoKICAgICAgICAKICAgIAogICAgCiAgICAgICAgICAgIHZhciBjaXJjbGVfbWFya2VyXzM4NmViN2YxNGVlYzRhZWE4MDI2YjUzYTEyMzE0MTJhID0gTC5jaXJjbGVNYXJrZXIoCiAgICAgICAgICAgICAgICBbNDMuNjU0MjU5OSwgLTc5LjM2MDYzNTldLAogICAgICAgICAgICAgICAgeyJidWJibGluZ01vdXNlRXZlbnRzIjogdHJ1ZSwgImNvbG9yIjogImJsdWUiLCAiZGFzaEFycmF5IjogbnVsbCwgImRhc2hPZmZzZXQiOiBudWxsLCAiZmlsbCI6IHRydWUsICJmaWxsQ29sb3IiOiAiIzMxODZjYyIsICJmaWxsT3BhY2l0eSI6IDAuNywgImZpbGxSdWxlIjogImV2ZW5vZGQiLCAibGluZUNhcCI6ICJyb3VuZCIsICJsaW5lSm9pbiI6ICJyb3VuZCIsICJvcGFjaXR5IjogMS4wLCAicmFkaXVzIjogNSwgInN0cm9rZSI6IHRydWUsICJ3ZWlnaHQiOiAzfQogICAgICAgICAgICApLmFkZFRvKG1hcF85MmY5Zjk0MTQ2MmQ0YmQ2ODk1MDQ4MzdjMDIwOTM2OSk7CiAgICAgICAgCiAgICAKICAgICAgICB2YXIgcG9wdXBfYjI3ODAwN2EzMTYyNDg3OWE0ZDYwY2MxMTQ0NzI4YzEgPSBMLnBvcHVwKHsibWF4V2lkdGgiOiAiMTAwJSJ9KTsKCiAgICAgICAgCiAgICAgICAgICAgIHZhciBodG1sX2QwNDk3YTFiYTg2YTQ1NTA4ZDBhNjlhMzUyMzU3ZjZkID0gJChgPGRpdiBpZD0iaHRtbF9kMDQ5N2ExYmE4NmE0NTUwOGQwYTY5YTM1MjM1N2Y2ZCIgc3R5bGU9IndpZHRoOiAxMDAuMCU7IGhlaWdodDogMTAwLjAlOyI+UmVnZW50IFBhcmssIEhhcmJvdXJmcm9udCwgRG93bnRvd24gVG9yb250bzwvZGl2PmApWzBdOwogICAgICAgICAgICBwb3B1cF9iMjc4MDA3YTMxNjI0ODc5YTRkNjBjYzExNDQ3MjhjMS5zZXRDb250ZW50KGh0bWxfZDA0OTdhMWJhODZhNDU1MDhkMGE2OWEzNTIzNTdmNmQpOwogICAgICAgIAoKICAgICAgICBjaXJjbGVfbWFya2VyXzM4NmViN2YxNGVlYzRhZWE4MDI2YjUzYTEyMzE0MTJhLmJpbmRQb3B1cChwb3B1cF9iMjc4MDA3YTMxNjI0ODc5YTRkNjBjYzExNDQ3MjhjMSkKICAgICAgICA7CgogICAgICAgIAogICAgCiAgICAKICAgICAgICAgICAgdmFyIGNpcmNsZV9tYXJrZXJfNWY1N2E0YjE0ZjUwNDQ3NTg5ZjVjM2IxMDNjZTJmNzIgPSBMLmNpcmNsZU1hcmtlcigKICAgICAgICAgICAgICAgIFs0My43MTg1MTc5OTk5OTk5OTYsIC03OS40NjQ3NjMyOTk5OTk5OV0sCiAgICAgICAgICAgICAgICB7ImJ1YmJsaW5nTW91c2VFdmVudHMiOiB0cnVlLCAiY29sb3IiOiAiYmx1ZSIsICJkYXNoQXJyYXkiOiBudWxsLCAiZGFzaE9mZnNldCI6IG51bGwsICJmaWxsIjogdHJ1ZSwgImZpbGxDb2xvciI6ICIjMzE4NmNjIiwgImZpbGxPcGFjaXR5IjogMC43LCAiZmlsbFJ1bGUiOiAiZXZlbm9kZCIsICJsaW5lQ2FwIjogInJvdW5kIiwgImxpbmVKb2luIjogInJvdW5kIiwgIm9wYWNpdHkiOiAxLjAsICJyYWRpdXMiOiA1LCAic3Ryb2tlIjogdHJ1ZSwgIndlaWdodCI6IDN9CiAgICAgICAgICAgICkuYWRkVG8obWFwXzkyZjlmOTQxNDYyZDRiZDY4OTUwNDgzN2MwMjA5MzY5KTsKICAgICAgICAKICAgIAogICAgICAgIHZhciBwb3B1cF8wNWM2ZTYxMmE1MTI0MWYzODRiNTk5OTA1NTUwZTUzNiA9IEwucG9wdXAoeyJtYXhXaWR0aCI6ICIxMDAlIn0pOwoKICAgICAgICAKICAgICAgICAgICAgdmFyIGh0bWxfM2U2N2Y5OTk5NjYwNGNkNmExYmEwOGYzODUzMjAyNmUgPSAkKGA8ZGl2IGlkPSJodG1sXzNlNjdmOTk5OTY2MDRjZDZhMWJhMDhmMzg1MzIwMjZlIiBzdHlsZT0id2lkdGg6IDEwMC4wJTsgaGVpZ2h0OiAxMDAuMCU7Ij5MYXdyZW5jZSBNYW5vciwgTGF3cmVuY2UgSGVpZ2h0cywgTm9ydGggWW9yazwvZGl2PmApWzBdOwogICAgICAgICAgICBwb3B1cF8wNWM2ZTYxMmE1MTI0MWYzODRiNTk5OTA1NTUwZTUzNi5zZXRDb250ZW50KGh0bWxfM2U2N2Y5OTk5NjYwNGNkNmExYmEwOGYzODUzMjAyNmUpOwogICAgICAgIAoKICAgICAgICBjaXJjbGVfbWFya2VyXzVmNTdhNGIxNGY1MDQ0NzU4OWY1YzNiMTAzY2UyZjcyLmJpbmRQb3B1cChwb3B1cF8wNWM2ZTYxMmE1MTI0MWYzODRiNTk5OTA1NTUwZTUzNikKICAgICAgICA7CgogICAgICAgIAogICAgCiAgICAKICAgICAgICAgICAgdmFyIGNpcmNsZV9tYXJrZXJfZWQ3ZGYwNmE2NTRhNDM0ZDk1MTliOWNiNzkwMjBhN2IgPSBMLmNpcmNsZU1hcmtlcigKICAgICAgICAgICAgICAgIFs0My42NjIzMDE1LCAtNzkuMzg5NDkzOF0sCiAgICAgICAgICAgICAgICB7ImJ1YmJsaW5nTW91c2VFdmVudHMiOiB0cnVlLCAiY29sb3IiOiAiYmx1ZSIsICJkYXNoQXJyYXkiOiBudWxsLCAiZGFzaE9mZnNldCI6IG51bGwsICJmaWxsIjogdHJ1ZSwgImZpbGxDb2xvciI6ICIjMzE4NmNjIiwgImZpbGxPcGFjaXR5IjogMC43LCAiZmlsbFJ1bGUiOiAiZXZlbm9kZCIsICJsaW5lQ2FwIjogInJvdW5kIiwgImxpbmVKb2luIjogInJvdW5kIiwgIm9wYWNpdHkiOiAxLjAsICJyYWRpdXMiOiA1LCAic3Ryb2tlIjogdHJ1ZSwgIndlaWdodCI6IDN9CiAgICAgICAgICAgICkuYWRkVG8obWFwXzkyZjlmOTQxNDYyZDRiZDY4OTUwNDgzN2MwMjA5MzY5KTsKICAgICAgICAKICAgIAogICAgICAgIHZhciBwb3B1cF9iMWIwNDFmMTQ3NTE0YzY2YjE1ZjJlNjQ4MmYzYTNjMCA9IEwucG9wdXAoeyJtYXhXaWR0aCI6ICIxMDAlIn0pOwoKICAgICAgICAKICAgICAgICAgICAgdmFyIGh0bWxfZTg1ZjQzNGRmNDVmNGNmOGE0ZGIwYzYwMWNiYzBjNGUgPSAkKGA8ZGl2IGlkPSJodG1sX2U4NWY0MzRkZjQ1ZjRjZjhhNGRiMGM2MDFjYmMwYzRlIiBzdHlsZT0id2lkdGg6IDEwMC4wJTsgaGVpZ2h0OiAxMDAuMCU7Ij5RdWVlbiYjMzk7cyBQYXJrLCBPbnRhcmlvIFByb3ZpbmNpYWwgR292ZXJubWVudCwgRG93bnRvd24gVG9yb250bzwvZGl2PmApWzBdOwogICAgICAgICAgICBwb3B1cF9iMWIwNDFmMTQ3NTE0YzY2YjE1ZjJlNjQ4MmYzYTNjMC5zZXRDb250ZW50KGh0bWxfZTg1ZjQzNGRmNDVmNGNmOGE0ZGIwYzYwMWNiYzBjNGUpOwogICAgICAgIAoKICAgICAgICBjaXJjbGVfbWFya2VyX2VkN2RmMDZhNjU0YTQzNGQ5NTE5YjljYjc5MDIwYTdiLmJpbmRQb3B1cChwb3B1cF9iMWIwNDFmMTQ3NTE0YzY2YjE1ZjJlNjQ4MmYzYTNjMCkKICAgICAgICA7CgogICAgICAgIAogICAgCiAgICAKICAgICAgICAgICAgdmFyIGNpcmNsZV9tYXJrZXJfYzEyMTI3YmE0MmFlNDI2MWExYTJlMzk3ZmEzMmU1MjggPSBMLmNpcmNsZU1hcmtlcigKICAgICAgICAgICAgICAgIFs0My42Njc4NTU2LCAtNzkuNTMyMjQyNDAwMDAwMDJdLAogICAgICAgICAgICAgICAgeyJidWJibGluZ01vdXNlRXZlbnRzIjogdHJ1ZSwgImNvbG9yIjogImJsdWUiLCAiZGFzaEFycmF5IjogbnVsbCwgImRhc2hPZmZzZXQiOiBudWxsLCAiZmlsbCI6IHRydWUsICJmaWxsQ29sb3IiOiAiIzMxODZjYyIsICJmaWxsT3BhY2l0eSI6IDAuNywgImZpbGxSdWxlIjogImV2ZW5vZGQiLCAibGluZUNhcCI6ICJyb3VuZCIsICJsaW5lSm9pbiI6ICJyb3VuZCIsICJvcGFjaXR5IjogMS4wLCAicmFkaXVzIjogNSwgInN0cm9rZSI6IHRydWUsICJ3ZWlnaHQiOiAzfQogICAgICAgICAgICApLmFkZFRvKG1hcF85MmY5Zjk0MTQ2MmQ0YmQ2ODk1MDQ4MzdjMDIwOTM2OSk7CiAgICAgICAgCiAgICAKICAgICAgICB2YXIgcG9wdXBfNjkxODAzN2M3YThkNDBhMjkzYzE5MWJjOGZhYzUxN2EgPSBMLnBvcHVwKHsibWF4V2lkdGgiOiAiMTAwJSJ9KTsKCiAgICAgICAgCiAgICAgICAgICAgIHZhciBodG1sXzE0YmY2YmFlYjNlZDQ0ZjliMjYwZWE4MjJlOTNlMzQ5ID0gJChgPGRpdiBpZD0iaHRtbF8xNGJmNmJhZWIzZWQ0NGY5YjI2MGVhODIyZTkzZTM0OSIgc3R5bGU9IndpZHRoOiAxMDAuMCU7IGhlaWdodDogMTAwLjAlOyI+SXNsaW5ndG9uIEF2ZW51ZSwgSHVtYmVyIFZhbGxleSBWaWxsYWdlLCBFdG9iaWNva2U8L2Rpdj5gKVswXTsKICAgICAgICAgICAgcG9wdXBfNjkxODAzN2M3YThkNDBhMjkzYzE5MWJjOGZhYzUxN2Euc2V0Q29udGVudChodG1sXzE0YmY2YmFlYjNlZDQ0ZjliMjYwZWE4MjJlOTNlMzQ5KTsKICAgICAgICAKCiAgICAgICAgY2lyY2xlX21hcmtlcl9jMTIxMjdiYTQyYWU0MjYxYTFhMmUzOTdmYTMyZTUyOC5iaW5kUG9wdXAocG9wdXBfNjkxODAzN2M3YThkNDBhMjkzYzE5MWJjOGZhYzUxN2EpCiAgICAgICAgOwoKICAgICAgICAKICAgIAogICAgCiAgICAgICAgICAgIHZhciBjaXJjbGVfbWFya2VyXzE0NzY2NWVkNGZmMTQyNzZhMTZiZGNmOWQwMDE1YTM5ID0gTC5jaXJjbGVNYXJrZXIoCiAgICAgICAgICAgICAgICBbNDMuODA2Njg2Mjk5OTk5OTk2LCAtNzkuMTk0MzUzNDAwMDAwMDFdLAogICAgICAgICAgICAgICAgeyJidWJibGluZ01vdXNlRXZlbnRzIjogdHJ1ZSwgImNvbG9yIjogImJsdWUiLCAiZGFzaEFycmF5IjogbnVsbCwgImRhc2hPZmZzZXQiOiBudWxsLCAiZmlsbCI6IHRydWUsICJmaWxsQ29sb3IiOiAiIzMxODZjYyIsICJmaWxsT3BhY2l0eSI6IDAuNywgImZpbGxSdWxlIjogImV2ZW5vZGQiLCAibGluZUNhcCI6ICJyb3VuZCIsICJsaW5lSm9pbiI6ICJyb3VuZCIsICJvcGFjaXR5IjogMS4wLCAicmFkaXVzIjogNSwgInN0cm9rZSI6IHRydWUsICJ3ZWlnaHQiOiAzfQogICAgICAgICAgICApLmFkZFRvKG1hcF85MmY5Zjk0MTQ2MmQ0YmQ2ODk1MDQ4MzdjMDIwOTM2OSk7CiAgICAgICAgCiAgICAKICAgICAgICB2YXIgcG9wdXBfZWIwMmI0ZTQzZGE4NDU3YjllMDg1ZTE2OTViMTUwZDIgPSBMLnBvcHVwKHsibWF4V2lkdGgiOiAiMTAwJSJ9KTsKCiAgICAgICAgCiAgICAgICAgICAgIHZhciBodG1sX2M3MjAwZmU1MGNjYjQ4MjQ4ODIwMzkwYjE1MjA1NTUwID0gJChgPGRpdiBpZD0iaHRtbF9jNzIwMGZlNTBjY2I0ODI0ODgyMDM5MGIxNTIwNTU1MCIgc3R5bGU9IndpZHRoOiAxMDAuMCU7IGhlaWdodDogMTAwLjAlOyI+TWFsdmVybiwgUm91Z2UsIFNjYXJib3JvdWdoPC9kaXY+YClbMF07CiAgICAgICAgICAgIHBvcHVwX2ViMDJiNGU0M2RhODQ1N2I5ZTA4NWUxNjk1YjE1MGQyLnNldENvbnRlbnQoaHRtbF9jNzIwMGZlNTBjY2I0ODI0ODgyMDM5MGIxNTIwNTU1MCk7CiAgICAgICAgCgogICAgICAgIGNpcmNsZV9tYXJrZXJfMTQ3NjY1ZWQ0ZmYxNDI3NmExNmJkY2Y5ZDAwMTVhMzkuYmluZFBvcHVwKHBvcHVwX2ViMDJiNGU0M2RhODQ1N2I5ZTA4NWUxNjk1YjE1MGQyKQogICAgICAgIDsKCiAgICAgICAgCiAgICAKICAgIAogICAgICAgICAgICB2YXIgY2lyY2xlX21hcmtlcl9hMmI2Y2M3NmZmNmU0ZTcwOTZlZGU0OTUyNTY2YzZiNiA9IEwuY2lyY2xlTWFya2VyKAogICAgICAgICAgICAgICAgWzQzLjc0NTkwNTc5OTk5OTk5NiwgLTc5LjM1MjE4OF0sCiAgICAgICAgICAgICAgICB7ImJ1YmJsaW5nTW91c2VFdmVudHMiOiB0cnVlLCAiY29sb3IiOiAiYmx1ZSIsICJkYXNoQXJyYXkiOiBudWxsLCAiZGFzaE9mZnNldCI6IG51bGwsICJmaWxsIjogdHJ1ZSwgImZpbGxDb2xvciI6ICIjMzE4NmNjIiwgImZpbGxPcGFjaXR5IjogMC43LCAiZmlsbFJ1bGUiOiAiZXZlbm9kZCIsICJsaW5lQ2FwIjogInJvdW5kIiwgImxpbmVKb2luIjogInJvdW5kIiwgIm9wYWNpdHkiOiAxLjAsICJyYWRpdXMiOiA1LCAic3Ryb2tlIjogdHJ1ZSwgIndlaWdodCI6IDN9CiAgICAgICAgICAgICkuYWRkVG8obWFwXzkyZjlmOTQxNDYyZDRiZDY4OTUwNDgzN2MwMjA5MzY5KTsKICAgICAgICAKICAgIAogICAgICAgIHZhciBwb3B1cF9jNGU3NzFkMWZhYmU0YjBkYjhkNjFjYjZmMmUzOTZkNCA9IEwucG9wdXAoeyJtYXhXaWR0aCI6ICIxMDAlIn0pOwoKICAgICAgICAKICAgICAgICAgICAgdmFyIGh0bWxfOWFhOTZkNGYwYjI4NGYxYTk3ZDlhZThlMTg5YzI5OWQgPSAkKGA8ZGl2IGlkPSJodG1sXzlhYTk2ZDRmMGIyODRmMWE5N2Q5YWU4ZTE4OWMyOTlkIiBzdHlsZT0id2lkdGg6IDEwMC4wJTsgaGVpZ2h0OiAxMDAuMCU7Ij5Eb24gTWlsbHMsIE5vcnRoIFlvcms8L2Rpdj5gKVswXTsKICAgICAgICAgICAgcG9wdXBfYzRlNzcxZDFmYWJlNGIwZGI4ZDYxY2I2ZjJlMzk2ZDQuc2V0Q29udGVudChodG1sXzlhYTk2ZDRmMGIyODRmMWE5N2Q5YWU4ZTE4OWMyOTlkKTsKICAgICAgICAKCiAgICAgICAgY2lyY2xlX21hcmtlcl9hMmI2Y2M3NmZmNmU0ZTcwOTZlZGU0OTUyNTY2YzZiNi5iaW5kUG9wdXAocG9wdXBfYzRlNzcxZDFmYWJlNGIwZGI4ZDYxY2I2ZjJlMzk2ZDQpCiAgICAgICAgOwoKICAgICAgICAKICAgIAogICAgCiAgICAgICAgICAgIHZhciBjaXJjbGVfbWFya2VyX2VkOThlNTE1Mjk4NDQ3OWY4MmE3ODlhMDFlYWI2MDljID0gTC5jaXJjbGVNYXJrZXIoCiAgICAgICAgICAgICAgICBbNDMuNzA2Mzk3MiwgLTc5LjMwOTkzN10sCiAgICAgICAgICAgICAgICB7ImJ1YmJsaW5nTW91c2VFdmVudHMiOiB0cnVlLCAiY29sb3IiOiAiYmx1ZSIsICJkYXNoQXJyYXkiOiBudWxsLCAiZGFzaE9mZnNldCI6IG51bGwsICJmaWxsIjogdHJ1ZSwgImZpbGxDb2xvciI6ICIjMzE4NmNjIiwgImZpbGxPcGFjaXR5IjogMC43LCAiZmlsbFJ1bGUiOiAiZXZlbm9kZCIsICJsaW5lQ2FwIjogInJvdW5kIiwgImxpbmVKb2luIjogInJvdW5kIiwgIm9wYWNpdHkiOiAxLjAsICJyYWRpdXMiOiA1LCAic3Ryb2tlIjogdHJ1ZSwgIndlaWdodCI6IDN9CiAgICAgICAgICAgICkuYWRkVG8obWFwXzkyZjlmOTQxNDYyZDRiZDY4OTUwNDgzN2MwMjA5MzY5KTsKICAgICAgICAKICAgIAogICAgICAgIHZhciBwb3B1cF83YmJkYjU2ZGFkNzE0ZTZjYmI0NTZmMmYwMTEzYTMyZSA9IEwucG9wdXAoeyJtYXhXaWR0aCI6ICIxMDAlIn0pOwoKICAgICAgICAKICAgICAgICAgICAgdmFyIGh0bWxfMjM3YzcxNjI0YzVhNDc3MzhlMjhiYmQ2MGQ3MTExYjEgPSAkKGA8ZGl2IGlkPSJodG1sXzIzN2M3MTYyNGM1YTQ3NzM4ZTI4YmJkNjBkNzExMWIxIiBzdHlsZT0id2lkdGg6IDEwMC4wJTsgaGVpZ2h0OiAxMDAuMCU7Ij5QYXJrdmlldyBIaWxsLCBXb29kYmluZSBHYXJkZW5zLCBFYXN0IFlvcms8L2Rpdj5gKVswXTsKICAgICAgICAgICAgcG9wdXBfN2JiZGI1NmRhZDcxNGU2Y2JiNDU2ZjJmMDExM2EzMmUuc2V0Q29udGVudChodG1sXzIzN2M3MTYyNGM1YTQ3NzM4ZTI4YmJkNjBkNzExMWIxKTsKICAgICAgICAKCiAgICAgICAgY2lyY2xlX21hcmtlcl9lZDk4ZTUxNTI5ODQ0NzlmODJhNzg5YTAxZWFiNjA5Yy5iaW5kUG9wdXAocG9wdXBfN2JiZGI1NmRhZDcxNGU2Y2JiNDU2ZjJmMDExM2EzMmUpCiAgICAgICAgOwoKICAgICAgICAKICAgIAogICAgCiAgICAgICAgICAgIHZhciBjaXJjbGVfbWFya2VyXzEzOGI2ZTQyMWVkNDRlMjE5YjIzMGZhNzg3NTUyNjcxID0gTC5jaXJjbGVNYXJrZXIoCiAgICAgICAgICAgICAgICBbNDMuNjU3MTYxOCwgLTc5LjM3ODkzNzA5OTk5OTk5XSwKICAgICAgICAgICAgICAgIHsiYnViYmxpbmdNb3VzZUV2ZW50cyI6IHRydWUsICJjb2xvciI6ICJibHVlIiwgImRhc2hBcnJheSI6IG51bGwsICJkYXNoT2Zmc2V0IjogbnVsbCwgImZpbGwiOiB0cnVlLCAiZmlsbENvbG9yIjogIiMzMTg2Y2MiLCAiZmlsbE9wYWNpdHkiOiAwLjcsICJmaWxsUnVsZSI6ICJldmVub2RkIiwgImxpbmVDYXAiOiAicm91bmQiLCAibGluZUpvaW4iOiAicm91bmQiLCAib3BhY2l0eSI6IDEuMCwgInJhZGl1cyI6IDUsICJzdHJva2UiOiB0cnVlLCAid2VpZ2h0IjogM30KICAgICAgICAgICAgKS5hZGRUbyhtYXBfOTJmOWY5NDE0NjJkNGJkNjg5NTA0ODM3YzAyMDkzNjkpOwogICAgICAgIAogICAgCiAgICAgICAgdmFyIHBvcHVwXzQyMzg2YzIyODFjZjQ5NjRiN2QyY2U5N2MwMTZmYzhhID0gTC5wb3B1cCh7Im1heFdpZHRoIjogIjEwMCUifSk7CgogICAgICAgIAogICAgICAgICAgICB2YXIgaHRtbF83M2NhZDUxMWE3Yjk0MDc1OWRjYWNiNWI2ZDUwODcyNiA9ICQoYDxkaXYgaWQ9Imh0bWxfNzNjYWQ1MTFhN2I5NDA3NTlkY2FjYjViNmQ1MDg3MjYiIHN0eWxlPSJ3aWR0aDogMTAwLjAlOyBoZWlnaHQ6IDEwMC4wJTsiPkdhcmRlbiBEaXN0cmljdCwgUnllcnNvbiwgRG93bnRvd24gVG9yb250bzwvZGl2PmApWzBdOwogICAgICAgICAgICBwb3B1cF80MjM4NmMyMjgxY2Y0OTY0YjdkMmNlOTdjMDE2ZmM4YS5zZXRDb250ZW50KGh0bWxfNzNjYWQ1MTFhN2I5NDA3NTlkY2FjYjViNmQ1MDg3MjYpOwogICAgICAgIAoKICAgICAgICBjaXJjbGVfbWFya2VyXzEzOGI2ZTQyMWVkNDRlMjE5YjIzMGZhNzg3NTUyNjcxLmJpbmRQb3B1cChwb3B1cF80MjM4NmMyMjgxY2Y0OTY0YjdkMmNlOTdjMDE2ZmM4YSkKICAgICAgICA7CgogICAgICAgIAogICAgCiAgICAKICAgICAgICAgICAgdmFyIGNpcmNsZV9tYXJrZXJfOWVjODQ3ZTk5NTc5NDlhMzk0Y2M3ZjdhMzg1MjBmN2EgPSBMLmNpcmNsZU1hcmtlcigKICAgICAgICAgICAgICAgIFs0My43MDk1NzcsIC03OS40NDUwNzI1OTk5OTk5OV0sCiAgICAgICAgICAgICAgICB7ImJ1YmJsaW5nTW91c2VFdmVudHMiOiB0cnVlLCAiY29sb3IiOiAiYmx1ZSIsICJkYXNoQXJyYXkiOiBudWxsLCAiZGFzaE9mZnNldCI6IG51bGwsICJmaWxsIjogdHJ1ZSwgImZpbGxDb2xvciI6ICIjMzE4NmNjIiwgImZpbGxPcGFjaXR5IjogMC43LCAiZmlsbFJ1bGUiOiAiZXZlbm9kZCIsICJsaW5lQ2FwIjogInJvdW5kIiwgImxpbmVKb2luIjogInJvdW5kIiwgIm9wYWNpdHkiOiAxLjAsICJyYWRpdXMiOiA1LCAic3Ryb2tlIjogdHJ1ZSwgIndlaWdodCI6IDN9CiAgICAgICAgICAgICkuYWRkVG8obWFwXzkyZjlmOTQxNDYyZDRiZDY4OTUwNDgzN2MwMjA5MzY5KTsKICAgICAgICAKICAgIAogICAgICAgIHZhciBwb3B1cF83NjllOTU0OWNlZmM0Nzk0Yjk1MWQzZDcyYTFhZTEwOSA9IEwucG9wdXAoeyJtYXhXaWR0aCI6ICIxMDAlIn0pOwoKICAgICAgICAKICAgICAgICAgICAgdmFyIGh0bWxfNWZjMjg1MDE5NGM4NDZiY2E4ODk5ZDE0ZTIxMGViZGYgPSAkKGA8ZGl2IGlkPSJodG1sXzVmYzI4NTAxOTRjODQ2YmNhODg5OWQxNGUyMTBlYmRmIiBzdHlsZT0id2lkdGg6IDEwMC4wJTsgaGVpZ2h0OiAxMDAuMCU7Ij5HbGVuY2Fpcm4sIE5vcnRoIFlvcms8L2Rpdj5gKVswXTsKICAgICAgICAgICAgcG9wdXBfNzY5ZTk1NDljZWZjNDc5NGI5NTFkM2Q3MmExYWUxMDkuc2V0Q29udGVudChodG1sXzVmYzI4NTAxOTRjODQ2YmNhODg5OWQxNGUyMTBlYmRmKTsKICAgICAgICAKCiAgICAgICAgY2lyY2xlX21hcmtlcl85ZWM4NDdlOTk1Nzk0OWEzOTRjYzdmN2EzODUyMGY3YS5iaW5kUG9wdXAocG9wdXBfNzY5ZTk1NDljZWZjNDc5NGI5NTFkM2Q3MmExYWUxMDkpCiAgICAgICAgOwoKICAgICAgICAKICAgIAogICAgCiAgICAgICAgICAgIHZhciBjaXJjbGVfbWFya2VyXzg4ZTliMzU4YWM1MDRkNzJhODczNWQ2ZDA3M2YzZjBlID0gTC5jaXJjbGVNYXJrZXIoCiAgICAgICAgICAgICAgICBbNDMuNjUwOTQzMiwgLTc5LjU1NDcyNDQwMDAwMDAxXSwKICAgICAgICAgICAgICAgIHsiYnViYmxpbmdNb3VzZUV2ZW50cyI6IHRydWUsICJjb2xvciI6ICJibHVlIiwgImRhc2hBcnJheSI6IG51bGwsICJkYXNoT2Zmc2V0IjogbnVsbCwgImZpbGwiOiB0cnVlLCAiZmlsbENvbG9yIjogIiMzMTg2Y2MiLCAiZmlsbE9wYWNpdHkiOiAwLjcsICJmaWxsUnVsZSI6ICJldmVub2RkIiwgImxpbmVDYXAiOiAicm91bmQiLCAibGluZUpvaW4iOiAicm91bmQiLCAib3BhY2l0eSI6IDEuMCwgInJhZGl1cyI6IDUsICJzdHJva2UiOiB0cnVlLCAid2VpZ2h0IjogM30KICAgICAgICAgICAgKS5hZGRUbyhtYXBfOTJmOWY5NDE0NjJkNGJkNjg5NTA0ODM3YzAyMDkzNjkpOwogICAgICAgIAogICAgCiAgICAgICAgdmFyIHBvcHVwXzBkNjY5NTUxZDZlNDQ1ZGY4MTEzYzUyMjU4ZDMyOGE0ID0gTC5wb3B1cCh7Im1heFdpZHRoIjogIjEwMCUifSk7CgogICAgICAgIAogICAgICAgICAgICB2YXIgaHRtbF9lNjk4NWM0YjcwYmY0NDg5OTk2MmEwYzljZGQ2ZjMwZSA9ICQoYDxkaXYgaWQ9Imh0bWxfZTY5ODVjNGI3MGJmNDQ4OTk5NjJhMGM5Y2RkNmYzMGUiIHN0eWxlPSJ3aWR0aDogMTAwLjAlOyBoZWlnaHQ6IDEwMC4wJTsiPldlc3QgRGVhbmUgUGFyaywgUHJpbmNlc3MgR2FyZGVucywgTWFydGluIEdyb3ZlLCBJc2xpbmd0b24sIENsb3ZlcmRhbGUsIEV0b2JpY29rZTwvZGl2PmApWzBdOwogICAgICAgICAgICBwb3B1cF8wZDY2OTU1MWQ2ZTQ0NWRmODExM2M1MjI1OGQzMjhhNC5zZXRDb250ZW50KGh0bWxfZTY5ODVjNGI3MGJmNDQ4OTk5NjJhMGM5Y2RkNmYzMGUpOwogICAgICAgIAoKICAgICAgICBjaXJjbGVfbWFya2VyXzg4ZTliMzU4YWM1MDRkNzJhODczNWQ2ZDA3M2YzZjBlLmJpbmRQb3B1cChwb3B1cF8wZDY2OTU1MWQ2ZTQ0NWRmODExM2M1MjI1OGQzMjhhNCkKICAgICAgICA7CgogICAgICAgIAogICAgCiAgICAKICAgICAgICAgICAgdmFyIGNpcmNsZV9tYXJrZXJfY2RmZTkzOGFhNDVkNDg1MGIxNmViNzUxZmVlOWY5M2QgPSBMLmNpcmNsZU1hcmtlcigKICAgICAgICAgICAgICAgIFs0My43ODQ1MzUxLCAtNzkuMTYwNDk3MDk5OTk5OTldLAogICAgICAgICAgICAgICAgeyJidWJibGluZ01vdXNlRXZlbnRzIjogdHJ1ZSwgImNvbG9yIjogImJsdWUiLCAiZGFzaEFycmF5IjogbnVsbCwgImRhc2hPZmZzZXQiOiBudWxsLCAiZmlsbCI6IHRydWUsICJmaWxsQ29sb3IiOiAiIzMxODZjYyIsICJmaWxsT3BhY2l0eSI6IDAuNywgImZpbGxSdWxlIjogImV2ZW5vZGQiLCAibGluZUNhcCI6ICJyb3VuZCIsICJsaW5lSm9pbiI6ICJyb3VuZCIsICJvcGFjaXR5IjogMS4wLCAicmFkaXVzIjogNSwgInN0cm9rZSI6IHRydWUsICJ3ZWlnaHQiOiAzfQogICAgICAgICAgICApLmFkZFRvKG1hcF85MmY5Zjk0MTQ2MmQ0YmQ2ODk1MDQ4MzdjMDIwOTM2OSk7CiAgICAgICAgCiAgICAKICAgICAgICB2YXIgcG9wdXBfNjcwNGY4YTBkMWU2NDFhMWJjY2U0OTRjMDZjOWZiOGUgPSBMLnBvcHVwKHsibWF4V2lkdGgiOiAiMTAwJSJ9KTsKCiAgICAgICAgCiAgICAgICAgICAgIHZhciBodG1sXzc5YTg0ODZmY2UxODRhNWY4NmE1NjRkNTAzZmRhZGQ4ID0gJChgPGRpdiBpZD0iaHRtbF83OWE4NDg2ZmNlMTg0YTVmODZhNTY0ZDUwM2ZkYWRkOCIgc3R5bGU9IndpZHRoOiAxMDAuMCU7IGhlaWdodDogMTAwLjAlOyI+Um91Z2UgSGlsbCwgUG9ydCBVbmlvbiwgSGlnaGxhbmQgQ3JlZWssIFNjYXJib3JvdWdoPC9kaXY+YClbMF07CiAgICAgICAgICAgIHBvcHVwXzY3MDRmOGEwZDFlNjQxYTFiY2NlNDk0YzA2YzlmYjhlLnNldENvbnRlbnQoaHRtbF83OWE4NDg2ZmNlMTg0YTVmODZhNTY0ZDUwM2ZkYWRkOCk7CiAgICAgICAgCgogICAgICAgIGNpcmNsZV9tYXJrZXJfY2RmZTkzOGFhNDVkNDg1MGIxNmViNzUxZmVlOWY5M2QuYmluZFBvcHVwKHBvcHVwXzY3MDRmOGEwZDFlNjQxYTFiY2NlNDk0YzA2YzlmYjhlKQogICAgICAgIDsKCiAgICAgICAgCiAgICAKICAgIAogICAgICAgICAgICB2YXIgY2lyY2xlX21hcmtlcl8wNmY0YTJjOTMwYjI0YjEyOGU3ZjcyNGFlNjJhMTc2NSA9IEwuY2lyY2xlTWFya2VyKAogICAgICAgICAgICAgICAgWzQzLjcyNTg5OTcwMDAwMDAxLCAtNzkuMzQwOTIzXSwKICAgICAgICAgICAgICAgIHsiYnViYmxpbmdNb3VzZUV2ZW50cyI6IHRydWUsICJjb2xvciI6ICJibHVlIiwgImRhc2hBcnJheSI6IG51bGwsICJkYXNoT2Zmc2V0IjogbnVsbCwgImZpbGwiOiB0cnVlLCAiZmlsbENvbG9yIjogIiMzMTg2Y2MiLCAiZmlsbE9wYWNpdHkiOiAwLjcsICJmaWxsUnVsZSI6ICJldmVub2RkIiwgImxpbmVDYXAiOiAicm91bmQiLCAibGluZUpvaW4iOiAicm91bmQiLCAib3BhY2l0eSI6IDEuMCwgInJhZGl1cyI6IDUsICJzdHJva2UiOiB0cnVlLCAid2VpZ2h0IjogM30KICAgICAgICAgICAgKS5hZGRUbyhtYXBfOTJmOWY5NDE0NjJkNGJkNjg5NTA0ODM3YzAyMDkzNjkpOwogICAgICAgIAogICAgCiAgICAgICAgdmFyIHBvcHVwX2Y3MGE2NjFmZTNhYTQ2OGFhZTg0NmQ0MDMyYWJhNWI4ID0gTC5wb3B1cCh7Im1heFdpZHRoIjogIjEwMCUifSk7CgogICAgICAgIAogICAgICAgICAgICB2YXIgaHRtbF9jMjVmMmQ5MzIzNDY0NGQ1ODFlMDQ2OWQ5OGU1ZWRhNCA9ICQoYDxkaXYgaWQ9Imh0bWxfYzI1ZjJkOTMyMzQ2NDRkNTgxZTA0NjlkOThlNWVkYTQiIHN0eWxlPSJ3aWR0aDogMTAwLjAlOyBoZWlnaHQ6IDEwMC4wJTsiPkRvbiBNaWxscywgTm9ydGggWW9yazwvZGl2PmApWzBdOwogICAgICAgICAgICBwb3B1cF9mNzBhNjYxZmUzYWE0NjhhYWU4NDZkNDAzMmFiYTViOC5zZXRDb250ZW50KGh0bWxfYzI1ZjJkOTMyMzQ2NDRkNTgxZTA0NjlkOThlNWVkYTQpOwogICAgICAgIAoKICAgICAgICBjaXJjbGVfbWFya2VyXzA2ZjRhMmM5MzBiMjRiMTI4ZTdmNzI0YWU2MmExNzY1LmJpbmRQb3B1cChwb3B1cF9mNzBhNjYxZmUzYWE0NjhhYWU4NDZkNDAzMmFiYTViOCkKICAgICAgICA7CgogICAgICAgIAogICAgCiAgICAKICAgICAgICAgICAgdmFyIGNpcmNsZV9tYXJrZXJfZjc4MzIwNTU1ODM3NDJjYmExMDY4ZjU5OTM4ZTI3MTMgPSBMLmNpcmNsZU1hcmtlcigKICAgICAgICAgICAgICAgIFs0My42OTUzNDM5MDAwMDAwMDUsIC03OS4zMTgzODg3XSwKICAgICAgICAgICAgICAgIHsiYnViYmxpbmdNb3VzZUV2ZW50cyI6IHRydWUsICJjb2xvciI6ICJibHVlIiwgImRhc2hBcnJheSI6IG51bGwsICJkYXNoT2Zmc2V0IjogbnVsbCwgImZpbGwiOiB0cnVlLCAiZmlsbENvbG9yIjogIiMzMTg2Y2MiLCAiZmlsbE9wYWNpdHkiOiAwLjcsICJmaWxsUnVsZSI6ICJldmVub2RkIiwgImxpbmVDYXAiOiAicm91bmQiLCAibGluZUpvaW4iOiAicm91bmQiLCAib3BhY2l0eSI6IDEuMCwgInJhZGl1cyI6IDUsICJzdHJva2UiOiB0cnVlLCAid2VpZ2h0IjogM30KICAgICAgICAgICAgKS5hZGRUbyhtYXBfOTJmOWY5NDE0NjJkNGJkNjg5NTA0ODM3YzAyMDkzNjkpOwogICAgICAgIAogICAgCiAgICAgICAgdmFyIHBvcHVwXzYzMzNlODRhYmRhMDRhMjU4NTUxY2M0NjI1MjVjMTE0ID0gTC5wb3B1cCh7Im1heFdpZHRoIjogIjEwMCUifSk7CgogICAgICAgIAogICAgICAgICAgICB2YXIgaHRtbF82OGQwMzEzMGU5MTE0Zjc3OWRmMGUzNzI0NmJmNTAyNSA9ICQoYDxkaXYgaWQ9Imh0bWxfNjhkMDMxMzBlOTExNGY3NzlkZjBlMzcyNDZiZjUwMjUiIHN0eWxlPSJ3aWR0aDogMTAwLjAlOyBoZWlnaHQ6IDEwMC4wJTsiPldvb2RiaW5lIEhlaWdodHMsIEVhc3QgWW9yazwvZGl2PmApWzBdOwogICAgICAgICAgICBwb3B1cF82MzMzZTg0YWJkYTA0YTI1ODU1MWNjNDYyNTI1YzExNC5zZXRDb250ZW50KGh0bWxfNjhkMDMxMzBlOTExNGY3NzlkZjBlMzcyNDZiZjUwMjUpOwogICAgICAgIAoKICAgICAgICBjaXJjbGVfbWFya2VyX2Y3ODMyMDU1NTgzNzQyY2JhMTA2OGY1OTkzOGUyNzEzLmJpbmRQb3B1cChwb3B1cF82MzMzZTg0YWJkYTA0YTI1ODU1MWNjNDYyNTI1YzExNCkKICAgICAgICA7CgogICAgICAgIAogICAgCiAgICAKICAgICAgICAgICAgdmFyIGNpcmNsZV9tYXJrZXJfYTEwNWFiMzBkZGYyNDZjY2IyYjk2Y2E0ZDMxMjgxNTEgPSBMLmNpcmNsZU1hcmtlcigKICAgICAgICAgICAgICAgIFs0My42NTE0OTM5LCAtNzkuMzc1NDE3OV0sCiAgICAgICAgICAgICAgICB7ImJ1YmJsaW5nTW91c2VFdmVudHMiOiB0cnVlLCAiY29sb3IiOiAiYmx1ZSIsICJkYXNoQXJyYXkiOiBudWxsLCAiZGFzaE9mZnNldCI6IG51bGwsICJmaWxsIjogdHJ1ZSwgImZpbGxDb2xvciI6ICIjMzE4NmNjIiwgImZpbGxPcGFjaXR5IjogMC43LCAiZmlsbFJ1bGUiOiAiZXZlbm9kZCIsICJsaW5lQ2FwIjogInJvdW5kIiwgImxpbmVKb2luIjogInJvdW5kIiwgIm9wYWNpdHkiOiAxLjAsICJyYWRpdXMiOiA1LCAic3Ryb2tlIjogdHJ1ZSwgIndlaWdodCI6IDN9CiAgICAgICAgICAgICkuYWRkVG8obWFwXzkyZjlmOTQxNDYyZDRiZDY4OTUwNDgzN2MwMjA5MzY5KTsKICAgICAgICAKICAgIAogICAgICAgIHZhciBwb3B1cF82YjZhOTBmNjExZjk0YWJlOTBiZmRlNWE1OGZkYmFiYyA9IEwucG9wdXAoeyJtYXhXaWR0aCI6ICIxMDAlIn0pOwoKICAgICAgICAKICAgICAgICAgICAgdmFyIGh0bWxfZmQ0YWI5ZTg5OTg1NDI1MWFlZGQzNmUwZTgzMGZhNTkgPSAkKGA8ZGl2IGlkPSJodG1sX2ZkNGFiOWU4OTk4NTQyNTFhZWRkMzZlMGU4MzBmYTU5IiBzdHlsZT0id2lkdGg6IDEwMC4wJTsgaGVpZ2h0OiAxMDAuMCU7Ij5TdC4gSmFtZXMgVG93biwgRG93bnRvd24gVG9yb250bzwvZGl2PmApWzBdOwogICAgICAgICAgICBwb3B1cF82YjZhOTBmNjExZjk0YWJlOTBiZmRlNWE1OGZkYmFiYy5zZXRDb250ZW50KGh0bWxfZmQ0YWI5ZTg5OTg1NDI1MWFlZGQzNmUwZTgzMGZhNTkpOwogICAgICAgIAoKICAgICAgICBjaXJjbGVfbWFya2VyX2ExMDVhYjMwZGRmMjQ2Y2NiMmI5NmNhNGQzMTI4MTUxLmJpbmRQb3B1cChwb3B1cF82YjZhOTBmNjExZjk0YWJlOTBiZmRlNWE1OGZkYmFiYykKICAgICAgICA7CgogICAgICAgIAogICAgCiAgICAKICAgICAgICAgICAgdmFyIGNpcmNsZV9tYXJrZXJfN2Y5ZGQyYTkyODA0NDk4ZjhkNjZmMDI3MDUxZjE1YzIgPSBMLmNpcmNsZU1hcmtlcigKICAgICAgICAgICAgICAgIFs0My42OTM3ODEzLCAtNzkuNDI4MTkxNDAwMDAwMDJdLAogICAgICAgICAgICAgICAgeyJidWJibGluZ01vdXNlRXZlbnRzIjogdHJ1ZSwgImNvbG9yIjogImJsdWUiLCAiZGFzaEFycmF5IjogbnVsbCwgImRhc2hPZmZzZXQiOiBudWxsLCAiZmlsbCI6IHRydWUsICJmaWxsQ29sb3IiOiAiIzMxODZjYyIsICJmaWxsT3BhY2l0eSI6IDAuNywgImZpbGxSdWxlIjogImV2ZW5vZGQiLCAibGluZUNhcCI6ICJyb3VuZCIsICJsaW5lSm9pbiI6ICJyb3VuZCIsICJvcGFjaXR5IjogMS4wLCAicmFkaXVzIjogNSwgInN0cm9rZSI6IHRydWUsICJ3ZWlnaHQiOiAzfQogICAgICAgICAgICApLmFkZFRvKG1hcF85MmY5Zjk0MTQ2MmQ0YmQ2ODk1MDQ4MzdjMDIwOTM2OSk7CiAgICAgICAgCiAgICAKICAgICAgICB2YXIgcG9wdXBfYTI3MzhhOWVhMzE2NDZjYmE0OTU4YjE3MWQ3NWQ3NTEgPSBMLnBvcHVwKHsibWF4V2lkdGgiOiAiMTAwJSJ9KTsKCiAgICAgICAgCiAgICAgICAgICAgIHZhciBodG1sXzU0ZTdhODg3MjEwMzQ1YjA4N2M2NTliZDIyZTA0NDY0ID0gJChgPGRpdiBpZD0iaHRtbF81NGU3YTg4NzIxMDM0NWIwODdjNjU5YmQyMmUwNDQ2NCIgc3R5bGU9IndpZHRoOiAxMDAuMCU7IGhlaWdodDogMTAwLjAlOyI+SHVtZXdvb2QtQ2VkYXJ2YWxlLCBZb3JrPC9kaXY+YClbMF07CiAgICAgICAgICAgIHBvcHVwX2EyNzM4YTllYTMxNjQ2Y2JhNDk1OGIxNzFkNzVkNzUxLnNldENvbnRlbnQoaHRtbF81NGU3YTg4NzIxMDM0NWIwODdjNjU5YmQyMmUwNDQ2NCk7CiAgICAgICAgCgogICAgICAgIGNpcmNsZV9tYXJrZXJfN2Y5ZGQyYTkyODA0NDk4ZjhkNjZmMDI3MDUxZjE1YzIuYmluZFBvcHVwKHBvcHVwX2EyNzM4YTllYTMxNjQ2Y2JhNDk1OGIxNzFkNzVkNzUxKQogICAgICAgIDsKCiAgICAgICAgCiAgICAKICAgIAogICAgICAgICAgICB2YXIgY2lyY2xlX21hcmtlcl83YzFhZjdjYzYwZmU0YmQ2YTJjMDg0NDkyYTJiMGI3YyA9IEwuY2lyY2xlTWFya2VyKAogICAgICAgICAgICAgICAgWzQzLjY0MzUxNTIsIC03OS41NzcyMDA3OTk5OTk5OV0sCiAgICAgICAgICAgICAgICB7ImJ1YmJsaW5nTW91c2VFdmVudHMiOiB0cnVlLCAiY29sb3IiOiAiYmx1ZSIsICJkYXNoQXJyYXkiOiBudWxsLCAiZGFzaE9mZnNldCI6IG51bGwsICJmaWxsIjogdHJ1ZSwgImZpbGxDb2xvciI6ICIjMzE4NmNjIiwgImZpbGxPcGFjaXR5IjogMC43LCAiZmlsbFJ1bGUiOiAiZXZlbm9kZCIsICJsaW5lQ2FwIjogInJvdW5kIiwgImxpbmVKb2luIjogInJvdW5kIiwgIm9wYWNpdHkiOiAxLjAsICJyYWRpdXMiOiA1LCAic3Ryb2tlIjogdHJ1ZSwgIndlaWdodCI6IDN9CiAgICAgICAgICAgICkuYWRkVG8obWFwXzkyZjlmOTQxNDYyZDRiZDY4OTUwNDgzN2MwMjA5MzY5KTsKICAgICAgICAKICAgIAogICAgICAgIHZhciBwb3B1cF9mOGMyZTVlYTQxZjE0YzI3YTM1ZTU0ZGU3MTRjMjRlNyA9IEwucG9wdXAoeyJtYXhXaWR0aCI6ICIxMDAlIn0pOwoKICAgICAgICAKICAgICAgICAgICAgdmFyIGh0bWxfZjhiN2NkNTVhYmQxNDk0OGFkNmI3MGYwMzQ4MWQxMTMgPSAkKGA8ZGl2IGlkPSJodG1sX2Y4YjdjZDU1YWJkMTQ5NDhhZDZiNzBmMDM0ODFkMTEzIiBzdHlsZT0id2lkdGg6IDEwMC4wJTsgaGVpZ2h0OiAxMDAuMCU7Ij5FcmluZ2F0ZSwgQmxvb3JkYWxlIEdhcmRlbnMsIE9sZCBCdXJuaGFtdGhvcnBlLCBNYXJrbGFuZCBXb29kLCBFdG9iaWNva2U8L2Rpdj5gKVswXTsKICAgICAgICAgICAgcG9wdXBfZjhjMmU1ZWE0MWYxNGMyN2EzNWU1NGRlNzE0YzI0ZTcuc2V0Q29udGVudChodG1sX2Y4YjdjZDU1YWJkMTQ5NDhhZDZiNzBmMDM0ODFkMTEzKTsKICAgICAgICAKCiAgICAgICAgY2lyY2xlX21hcmtlcl83YzFhZjdjYzYwZmU0YmQ2YTJjMDg0NDkyYTJiMGI3Yy5iaW5kUG9wdXAocG9wdXBfZjhjMmU1ZWE0MWYxNGMyN2EzNWU1NGRlNzE0YzI0ZTcpCiAgICAgICAgOwoKICAgICAgICAKICAgIAogICAgCiAgICAgICAgICAgIHZhciBjaXJjbGVfbWFya2VyX2Q1ZjI3YjhkNzljYTRhYjM4OTdlYWYyZDUxOTMxYzFlID0gTC5jaXJjbGVNYXJrZXIoCiAgICAgICAgICAgICAgICBbNDMuNzYzNTcyNiwgLTc5LjE4ODcxMTVdLAogICAgICAgICAgICAgICAgeyJidWJibGluZ01vdXNlRXZlbnRzIjogdHJ1ZSwgImNvbG9yIjogImJsdWUiLCAiZGFzaEFycmF5IjogbnVsbCwgImRhc2hPZmZzZXQiOiBudWxsLCAiZmlsbCI6IHRydWUsICJmaWxsQ29sb3IiOiAiIzMxODZjYyIsICJmaWxsT3BhY2l0eSI6IDAuNywgImZpbGxSdWxlIjogImV2ZW5vZGQiLCAibGluZUNhcCI6ICJyb3VuZCIsICJsaW5lSm9pbiI6ICJyb3VuZCIsICJvcGFjaXR5IjogMS4wLCAicmFkaXVzIjogNSwgInN0cm9rZSI6IHRydWUsICJ3ZWlnaHQiOiAzfQogICAgICAgICAgICApLmFkZFRvKG1hcF85MmY5Zjk0MTQ2MmQ0YmQ2ODk1MDQ4MzdjMDIwOTM2OSk7CiAgICAgICAgCiAgICAKICAgICAgICB2YXIgcG9wdXBfMGQ1MjJmZTM1MjA1NGIzNTkwYzliYWJlMDM1ZjJkODYgPSBMLnBvcHVwKHsibWF4V2lkdGgiOiAiMTAwJSJ9KTsKCiAgICAgICAgCiAgICAgICAgICAgIHZhciBodG1sX2NiNjYzOGVhZmQ1ZDRkNGI4MWEzZjllNjZkNDQ3ODNmID0gJChgPGRpdiBpZD0iaHRtbF9jYjY2MzhlYWZkNWQ0ZDRiODFhM2Y5ZTY2ZDQ0NzgzZiIgc3R5bGU9IndpZHRoOiAxMDAuMCU7IGhlaWdodDogMTAwLjAlOyI+R3VpbGR3b29kLCBNb3JuaW5nc2lkZSwgV2VzdCBIaWxsLCBTY2FyYm9yb3VnaDwvZGl2PmApWzBdOwogICAgICAgICAgICBwb3B1cF8wZDUyMmZlMzUyMDU0YjM1OTBjOWJhYmUwMzVmMmQ4Ni5zZXRDb250ZW50KGh0bWxfY2I2NjM4ZWFmZDVkNGQ0YjgxYTNmOWU2NmQ0NDc4M2YpOwogICAgICAgIAoKICAgICAgICBjaXJjbGVfbWFya2VyX2Q1ZjI3YjhkNzljYTRhYjM4OTdlYWYyZDUxOTMxYzFlLmJpbmRQb3B1cChwb3B1cF8wZDUyMmZlMzUyMDU0YjM1OTBjOWJhYmUwMzVmMmQ4NikKICAgICAgICA7CgogICAgICAgIAogICAgCiAgICAKICAgICAgICAgICAgdmFyIGNpcmNsZV9tYXJrZXJfYWIzNmM2NmQ1ZWVhNGQ5MWFiMjdmMmI2OGE3NzRkNTkgPSBMLmNpcmNsZU1hcmtlcigKICAgICAgICAgICAgICAgIFs0My42NzYzNTczOTk5OTk5OSwgLTc5LjI5MzAzMTJdLAogICAgICAgICAgICAgICAgeyJidWJibGluZ01vdXNlRXZlbnRzIjogdHJ1ZSwgImNvbG9yIjogImJsdWUiLCAiZGFzaEFycmF5IjogbnVsbCwgImRhc2hPZmZzZXQiOiBudWxsLCAiZmlsbCI6IHRydWUsICJmaWxsQ29sb3IiOiAiIzMxODZjYyIsICJmaWxsT3BhY2l0eSI6IDAuNywgImZpbGxSdWxlIjogImV2ZW5vZGQiLCAibGluZUNhcCI6ICJyb3VuZCIsICJsaW5lSm9pbiI6ICJyb3VuZCIsICJvcGFjaXR5IjogMS4wLCAicmFkaXVzIjogNSwgInN0cm9rZSI6IHRydWUsICJ3ZWlnaHQiOiAzfQogICAgICAgICAgICApLmFkZFRvKG1hcF85MmY5Zjk0MTQ2MmQ0YmQ2ODk1MDQ4MzdjMDIwOTM2OSk7CiAgICAgICAgCiAgICAKICAgICAgICB2YXIgcG9wdXBfOTZhYWIyODE3MGY3NDliYzk4YTU0MTUxZGRlOGM2NGEgPSBMLnBvcHVwKHsibWF4V2lkdGgiOiAiMTAwJSJ9KTsKCiAgICAgICAgCiAgICAgICAgICAgIHZhciBodG1sXzJiNTkzYjc3NzRmMjQ0NDhiNTkxYTlmY2JmYzhkMzk2ID0gJChgPGRpdiBpZD0iaHRtbF8yYjU5M2I3Nzc0ZjI0NDQ4YjU5MWE5ZmNiZmM4ZDM5NiIgc3R5bGU9IndpZHRoOiAxMDAuMCU7IGhlaWdodDogMTAwLjAlOyI+VGhlIEJlYWNoZXMsIEVhc3QgVG9yb250bzwvZGl2PmApWzBdOwogICAgICAgICAgICBwb3B1cF85NmFhYjI4MTcwZjc0OWJjOThhNTQxNTFkZGU4YzY0YS5zZXRDb250ZW50KGh0bWxfMmI1OTNiNzc3NGYyNDQ0OGI1OTFhOWZjYmZjOGQzOTYpOwogICAgICAgIAoKICAgICAgICBjaXJjbGVfbWFya2VyX2FiMzZjNjZkNWVlYTRkOTFhYjI3ZjJiNjhhNzc0ZDU5LmJpbmRQb3B1cChwb3B1cF85NmFhYjI4MTcwZjc0OWJjOThhNTQxNTFkZGU4YzY0YSkKICAgICAgICA7CgogICAgICAgIAogICAgCiAgICAKICAgICAgICAgICAgdmFyIGNpcmNsZV9tYXJrZXJfMzI5ODhkZWYyOWU4NGQzY2E0MmQ5ZmEwNTI5YzY3NTYgPSBMLmNpcmNsZU1hcmtlcigKICAgICAgICAgICAgICAgIFs0My42NDQ3NzA3OTk5OTk5OTYsIC03OS4zNzMzMDY0XSwKICAgICAgICAgICAgICAgIHsiYnViYmxpbmdNb3VzZUV2ZW50cyI6IHRydWUsICJjb2xvciI6ICJibHVlIiwgImRhc2hBcnJheSI6IG51bGwsICJkYXNoT2Zmc2V0IjogbnVsbCwgImZpbGwiOiB0cnVlLCAiZmlsbENvbG9yIjogIiMzMTg2Y2MiLCAiZmlsbE9wYWNpdHkiOiAwLjcsICJmaWxsUnVsZSI6ICJldmVub2RkIiwgImxpbmVDYXAiOiAicm91bmQiLCAibGluZUpvaW4iOiAicm91bmQiLCAib3BhY2l0eSI6IDEuMCwgInJhZGl1cyI6IDUsICJzdHJva2UiOiB0cnVlLCAid2VpZ2h0IjogM30KICAgICAgICAgICAgKS5hZGRUbyhtYXBfOTJmOWY5NDE0NjJkNGJkNjg5NTA0ODM3YzAyMDkzNjkpOwogICAgICAgIAogICAgCiAgICAgICAgdmFyIHBvcHVwX2U0NDVjZmQ1YWVhMzQzYTI5NDYyMmFlYzk5YTMzN2YyID0gTC5wb3B1cCh7Im1heFdpZHRoIjogIjEwMCUifSk7CgogICAgICAgIAogICAgICAgICAgICB2YXIgaHRtbF9iZTcxMDBiMGUxMDI0Mzc0YmE3ZGRjYTM0YzI4NzYwMiA9ICQoYDxkaXYgaWQ9Imh0bWxfYmU3MTAwYjBlMTAyNDM3NGJhN2RkY2EzNGMyODc2MDIiIHN0eWxlPSJ3aWR0aDogMTAwLjAlOyBoZWlnaHQ6IDEwMC4wJTsiPkJlcmN6eSBQYXJrLCBEb3dudG93biBUb3JvbnRvPC9kaXY+YClbMF07CiAgICAgICAgICAgIHBvcHVwX2U0NDVjZmQ1YWVhMzQzYTI5NDYyMmFlYzk5YTMzN2YyLnNldENvbnRlbnQoaHRtbF9iZTcxMDBiMGUxMDI0Mzc0YmE3ZGRjYTM0YzI4NzYwMik7CiAgICAgICAgCgogICAgICAgIGNpcmNsZV9tYXJrZXJfMzI5ODhkZWYyOWU4NGQzY2E0MmQ5ZmEwNTI5YzY3NTYuYmluZFBvcHVwKHBvcHVwX2U0NDVjZmQ1YWVhMzQzYTI5NDYyMmFlYzk5YTMzN2YyKQogICAgICAgIDsKCiAgICAgICAgCiAgICAKICAgIAogICAgICAgICAgICB2YXIgY2lyY2xlX21hcmtlcl9mMzdmOTEzMWJlYjc0OGRhYjU3MWE1NTdkNGU2ZDAzNyA9IEwuY2lyY2xlTWFya2VyKAogICAgICAgICAgICAgICAgWzQzLjY4OTAyNTYsIC03OS40NTM1MTJdLAogICAgICAgICAgICAgICAgeyJidWJibGluZ01vdXNlRXZlbnRzIjogdHJ1ZSwgImNvbG9yIjogImJsdWUiLCAiZGFzaEFycmF5IjogbnVsbCwgImRhc2hPZmZzZXQiOiBudWxsLCAiZmlsbCI6IHRydWUsICJmaWxsQ29sb3IiOiAiIzMxODZjYyIsICJmaWxsT3BhY2l0eSI6IDAuNywgImZpbGxSdWxlIjogImV2ZW5vZGQiLCAibGluZUNhcCI6ICJyb3VuZCIsICJsaW5lSm9pbiI6ICJyb3VuZCIsICJvcGFjaXR5IjogMS4wLCAicmFkaXVzIjogNSwgInN0cm9rZSI6IHRydWUsICJ3ZWlnaHQiOiAzfQogICAgICAgICAgICApLmFkZFRvKG1hcF85MmY5Zjk0MTQ2MmQ0YmQ2ODk1MDQ4MzdjMDIwOTM2OSk7CiAgICAgICAgCiAgICAKICAgICAgICB2YXIgcG9wdXBfMmIzZWVlZDg0ZTIyNDkyODk1OTg0YTA1M2Y1MDUzNzEgPSBMLnBvcHVwKHsibWF4V2lkdGgiOiAiMTAwJSJ9KTsKCiAgICAgICAgCiAgICAgICAgICAgIHZhciBodG1sXzE2OTgwYjJjZjcwYTQ4YjhhZDI0YTg2ZjgwZjYxNTZjID0gJChgPGRpdiBpZD0iaHRtbF8xNjk4MGIyY2Y3MGE0OGI4YWQyNGE4NmY4MGY2MTU2YyIgc3R5bGU9IndpZHRoOiAxMDAuMCU7IGhlaWdodDogMTAwLjAlOyI+Q2FsZWRvbmlhLUZhaXJiYW5rcywgWW9yazwvZGl2PmApWzBdOwogICAgICAgICAgICBwb3B1cF8yYjNlZWVkODRlMjI0OTI4OTU5ODRhMDUzZjUwNTM3MS5zZXRDb250ZW50KGh0bWxfMTY5ODBiMmNmNzBhNDhiOGFkMjRhODZmODBmNjE1NmMpOwogICAgICAgIAoKICAgICAgICBjaXJjbGVfbWFya2VyX2YzN2Y5MTMxYmViNzQ4ZGFiNTcxYTU1N2Q0ZTZkMDM3LmJpbmRQb3B1cChwb3B1cF8yYjNlZWVkODRlMjI0OTI4OTU5ODRhMDUzZjUwNTM3MSkKICAgICAgICA7CgogICAgICAgIAogICAgCiAgICAKICAgICAgICAgICAgdmFyIGNpcmNsZV9tYXJrZXJfYzA0M2ViOGNkMGFjNDg1ZmJjODRkNWM5MDE2NzgwNzEgPSBMLmNpcmNsZU1hcmtlcigKICAgICAgICAgICAgICAgIFs0My43NzA5OTIxLCAtNzkuMjE2OTE3NDAwMDAwMDFdLAogICAgICAgICAgICAgICAgeyJidWJibGluZ01vdXNlRXZlbnRzIjogdHJ1ZSwgImNvbG9yIjogImJsdWUiLCAiZGFzaEFycmF5IjogbnVsbCwgImRhc2hPZmZzZXQiOiBudWxsLCAiZmlsbCI6IHRydWUsICJmaWxsQ29sb3IiOiAiIzMxODZjYyIsICJmaWxsT3BhY2l0eSI6IDAuNywgImZpbGxSdWxlIjogImV2ZW5vZGQiLCAibGluZUNhcCI6ICJyb3VuZCIsICJsaW5lSm9pbiI6ICJyb3VuZCIsICJvcGFjaXR5IjogMS4wLCAicmFkaXVzIjogNSwgInN0cm9rZSI6IHRydWUsICJ3ZWlnaHQiOiAzfQogICAgICAgICAgICApLmFkZFRvKG1hcF85MmY5Zjk0MTQ2MmQ0YmQ2ODk1MDQ4MzdjMDIwOTM2OSk7CiAgICAgICAgCiAgICAKICAgICAgICB2YXIgcG9wdXBfY2JmOTk3YmVmM2QxNDk4ZjliMWVmMmUyMzU4N2UzMGQgPSBMLnBvcHVwKHsibWF4V2lkdGgiOiAiMTAwJSJ9KTsKCiAgICAgICAgCiAgICAgICAgICAgIHZhciBodG1sX2EyMjY5NTgyY2JiZDQ0ODRhMGMyZDNjNWY1NDNmYTJhID0gJChgPGRpdiBpZD0iaHRtbF9hMjI2OTU4MmNiYmQ0NDg0YTBjMmQzYzVmNTQzZmEyYSIgc3R5bGU9IndpZHRoOiAxMDAuMCU7IGhlaWdodDogMTAwLjAlOyI+V29idXJuLCBTY2FyYm9yb3VnaDwvZGl2PmApWzBdOwogICAgICAgICAgICBwb3B1cF9jYmY5OTdiZWYzZDE0OThmOWIxZWYyZTIzNTg3ZTMwZC5zZXRDb250ZW50KGh0bWxfYTIyNjk1ODJjYmJkNDQ4NGEwYzJkM2M1ZjU0M2ZhMmEpOwogICAgICAgIAoKICAgICAgICBjaXJjbGVfbWFya2VyX2MwNDNlYjhjZDBhYzQ4NWZiYzg0ZDVjOTAxNjc4MDcxLmJpbmRQb3B1cChwb3B1cF9jYmY5OTdiZWYzZDE0OThmOWIxZWYyZTIzNTg3ZTMwZCkKICAgICAgICA7CgogICAgICAgIAogICAgCiAgICAKICAgICAgICAgICAgdmFyIGNpcmNsZV9tYXJrZXJfNmUxZjM4YTg5NWM0NGMyMWFiMGM2NDgyNDZjNGQ1YmYgPSBMLmNpcmNsZU1hcmtlcigKICAgICAgICAgICAgICAgIFs0My43MDkwNjA0LCAtNzkuMzYzNDUxN10sCiAgICAgICAgICAgICAgICB7ImJ1YmJsaW5nTW91c2VFdmVudHMiOiB0cnVlLCAiY29sb3IiOiAiYmx1ZSIsICJkYXNoQXJyYXkiOiBudWxsLCAiZGFzaE9mZnNldCI6IG51bGwsICJmaWxsIjogdHJ1ZSwgImZpbGxDb2xvciI6ICIjMzE4NmNjIiwgImZpbGxPcGFjaXR5IjogMC43LCAiZmlsbFJ1bGUiOiAiZXZlbm9kZCIsICJsaW5lQ2FwIjogInJvdW5kIiwgImxpbmVKb2luIjogInJvdW5kIiwgIm9wYWNpdHkiOiAxLjAsICJyYWRpdXMiOiA1LCAic3Ryb2tlIjogdHJ1ZSwgIndlaWdodCI6IDN9CiAgICAgICAgICAgICkuYWRkVG8obWFwXzkyZjlmOTQxNDYyZDRiZDY4OTUwNDgzN2MwMjA5MzY5KTsKICAgICAgICAKICAgIAogICAgICAgIHZhciBwb3B1cF9kYWY5ZGRkZjE0NTg0OTdlOGY3MDA5Mzc2OTZhODA3NSA9IEwucG9wdXAoeyJtYXhXaWR0aCI6ICIxMDAlIn0pOwoKICAgICAgICAKICAgICAgICAgICAgdmFyIGh0bWxfOWNiNWZlZGFjMjRiNDI4ZWExNGVjMzJkYjJjN2M0NWIgPSAkKGA8ZGl2IGlkPSJodG1sXzljYjVmZWRhYzI0YjQyOGVhMTRlYzMyZGIyYzdjNDViIiBzdHlsZT0id2lkdGg6IDEwMC4wJTsgaGVpZ2h0OiAxMDAuMCU7Ij5MZWFzaWRlLCBFYXN0IFlvcms8L2Rpdj5gKVswXTsKICAgICAgICAgICAgcG9wdXBfZGFmOWRkZGYxNDU4NDk3ZThmNzAwOTM3Njk2YTgwNzUuc2V0Q29udGVudChodG1sXzljYjVmZWRhYzI0YjQyOGVhMTRlYzMyZGIyYzdjNDViKTsKICAgICAgICAKCiAgICAgICAgY2lyY2xlX21hcmtlcl82ZTFmMzhhODk1YzQ0YzIxYWIwYzY0ODI0NmM0ZDViZi5iaW5kUG9wdXAocG9wdXBfZGFmOWRkZGYxNDU4NDk3ZThmNzAwOTM3Njk2YTgwNzUpCiAgICAgICAgOwoKICAgICAgICAKICAgIAogICAgCiAgICAgICAgICAgIHZhciBjaXJjbGVfbWFya2VyX2YxMWFjNDliNmYxZTQ2MmNiYWRmMGFjNDY1YzFiMDYwID0gTC5jaXJjbGVNYXJrZXIoCiAgICAgICAgICAgICAgICBbNDMuNjU3OTUyNCwgLTc5LjM4NzM4MjZdLAogICAgICAgICAgICAgICAgeyJidWJibGluZ01vdXNlRXZlbnRzIjogdHJ1ZSwgImNvbG9yIjogImJsdWUiLCAiZGFzaEFycmF5IjogbnVsbCwgImRhc2hPZmZzZXQiOiBudWxsLCAiZmlsbCI6IHRydWUsICJmaWxsQ29sb3IiOiAiIzMxODZjYyIsICJmaWxsT3BhY2l0eSI6IDAuNywgImZpbGxSdWxlIjogImV2ZW5vZGQiLCAibGluZUNhcCI6ICJyb3VuZCIsICJsaW5lSm9pbiI6ICJyb3VuZCIsICJvcGFjaXR5IjogMS4wLCAicmFkaXVzIjogNSwgInN0cm9rZSI6IHRydWUsICJ3ZWlnaHQiOiAzfQogICAgICAgICAgICApLmFkZFRvKG1hcF85MmY5Zjk0MTQ2MmQ0YmQ2ODk1MDQ4MzdjMDIwOTM2OSk7CiAgICAgICAgCiAgICAKICAgICAgICB2YXIgcG9wdXBfMmNmMGY1ZWY5NWYyNGExNWI0N2VmNzVkZTgzYTYyZDEgPSBMLnBvcHVwKHsibWF4V2lkdGgiOiAiMTAwJSJ9KTsKCiAgICAgICAgCiAgICAgICAgICAgIHZhciBodG1sXzFhMjM0Y2I3ZmQ2OTRlNWI5Mjc1YWM2YzU3NTg5MDhlID0gJChgPGRpdiBpZD0iaHRtbF8xYTIzNGNiN2ZkNjk0ZTViOTI3NWFjNmM1NzU4OTA4ZSIgc3R5bGU9IndpZHRoOiAxMDAuMCU7IGhlaWdodDogMTAwLjAlOyI+Q2VudHJhbCBCYXkgU3RyZWV0LCBEb3dudG93biBUb3JvbnRvPC9kaXY+YClbMF07CiAgICAgICAgICAgIHBvcHVwXzJjZjBmNWVmOTVmMjRhMTViNDdlZjc1ZGU4M2E2MmQxLnNldENvbnRlbnQoaHRtbF8xYTIzNGNiN2ZkNjk0ZTViOTI3NWFjNmM1NzU4OTA4ZSk7CiAgICAgICAgCgogICAgICAgIGNpcmNsZV9tYXJrZXJfZjExYWM0OWI2ZjFlNDYyY2JhZGYwYWM0NjVjMWIwNjAuYmluZFBvcHVwKHBvcHVwXzJjZjBmNWVmOTVmMjRhMTViNDdlZjc1ZGU4M2E2MmQxKQogICAgICAgIDsKCiAgICAgICAgCiAgICAKICAgIAogICAgICAgICAgICB2YXIgY2lyY2xlX21hcmtlcl85ZjY3MmZhOTU2M2I0YWM3ODQwOTBlNzM0MmQ2NzkxNiA9IEwuY2lyY2xlTWFya2VyKAogICAgICAgICAgICAgICAgWzQzLjY2OTU0MiwgLTc5LjQyMjU2MzddLAogICAgICAgICAgICAgICAgeyJidWJibGluZ01vdXNlRXZlbnRzIjogdHJ1ZSwgImNvbG9yIjogImJsdWUiLCAiZGFzaEFycmF5IjogbnVsbCwgImRhc2hPZmZzZXQiOiBudWxsLCAiZmlsbCI6IHRydWUsICJmaWxsQ29sb3IiOiAiIzMxODZjYyIsICJmaWxsT3BhY2l0eSI6IDAuNywgImZpbGxSdWxlIjogImV2ZW5vZGQiLCAibGluZUNhcCI6ICJyb3VuZCIsICJsaW5lSm9pbiI6ICJyb3VuZCIsICJvcGFjaXR5IjogMS4wLCAicmFkaXVzIjogNSwgInN0cm9rZSI6IHRydWUsICJ3ZWlnaHQiOiAzfQogICAgICAgICAgICApLmFkZFRvKG1hcF85MmY5Zjk0MTQ2MmQ0YmQ2ODk1MDQ4MzdjMDIwOTM2OSk7CiAgICAgICAgCiAgICAKICAgICAgICB2YXIgcG9wdXBfODZmZWIwNDdkYmQ2NGMyZWI3ODc2ZWY1YTI3M2I3OGIgPSBMLnBvcHVwKHsibWF4V2lkdGgiOiAiMTAwJSJ9KTsKCiAgICAgICAgCiAgICAgICAgICAgIHZhciBodG1sXzgzMDBkM2NhNDFiODRhNjE4OTA4OTFkYzc1OTViZjJmID0gJChgPGRpdiBpZD0iaHRtbF84MzAwZDNjYTQxYjg0YTYxODkwODkxZGM3NTk1YmYyZiIgc3R5bGU9IndpZHRoOiAxMDAuMCU7IGhlaWdodDogMTAwLjAlOyI+Q2hyaXN0aWUsIERvd250b3duIFRvcm9udG88L2Rpdj5gKVswXTsKICAgICAgICAgICAgcG9wdXBfODZmZWIwNDdkYmQ2NGMyZWI3ODc2ZWY1YTI3M2I3OGIuc2V0Q29udGVudChodG1sXzgzMDBkM2NhNDFiODRhNjE4OTA4OTFkYzc1OTViZjJmKTsKICAgICAgICAKCiAgICAgICAgY2lyY2xlX21hcmtlcl85ZjY3MmZhOTU2M2I0YWM3ODQwOTBlNzM0MmQ2NzkxNi5iaW5kUG9wdXAocG9wdXBfODZmZWIwNDdkYmQ2NGMyZWI3ODc2ZWY1YTI3M2I3OGIpCiAgICAgICAgOwoKICAgICAgICAKICAgIAogICAgCiAgICAgICAgICAgIHZhciBjaXJjbGVfbWFya2VyXzczN2Q1MzhhMDdkMDRkYWY5ZTlhYmViNmY3ODJmMGE1ID0gTC5jaXJjbGVNYXJrZXIoCiAgICAgICAgICAgICAgICBbNDMuNzczMTM2LCAtNzkuMjM5NDc2MDk5OTk5OTldLAogICAgICAgICAgICAgICAgeyJidWJibGluZ01vdXNlRXZlbnRzIjogdHJ1ZSwgImNvbG9yIjogImJsdWUiLCAiZGFzaEFycmF5IjogbnVsbCwgImRhc2hPZmZzZXQiOiBudWxsLCAiZmlsbCI6IHRydWUsICJmaWxsQ29sb3IiOiAiIzMxODZjYyIsICJmaWxsT3BhY2l0eSI6IDAuNywgImZpbGxSdWxlIjogImV2ZW5vZGQiLCAibGluZUNhcCI6ICJyb3VuZCIsICJsaW5lSm9pbiI6ICJyb3VuZCIsICJvcGFjaXR5IjogMS4wLCAicmFkaXVzIjogNSwgInN0cm9rZSI6IHRydWUsICJ3ZWlnaHQiOiAzfQogICAgICAgICAgICApLmFkZFRvKG1hcF85MmY5Zjk0MTQ2MmQ0YmQ2ODk1MDQ4MzdjMDIwOTM2OSk7CiAgICAgICAgCiAgICAKICAgICAgICB2YXIgcG9wdXBfZjhlMDQyM2MzZDU5NDI4NGJmYmFlM2ViZjJmN2VkNDQgPSBMLnBvcHVwKHsibWF4V2lkdGgiOiAiMTAwJSJ9KTsKCiAgICAgICAgCiAgICAgICAgICAgIHZhciBodG1sX2Q0M2Y2MTQ3NzUwMTRiYWY5YjdmMmI5YjVkYjY0ZDg5ID0gJChgPGRpdiBpZD0iaHRtbF9kNDNmNjE0Nzc1MDE0YmFmOWI3ZjJiOWI1ZGI2NGQ4OSIgc3R5bGU9IndpZHRoOiAxMDAuMCU7IGhlaWdodDogMTAwLjAlOyI+Q2VkYXJicmFlLCBTY2FyYm9yb3VnaDwvZGl2PmApWzBdOwogICAgICAgICAgICBwb3B1cF9mOGUwNDIzYzNkNTk0Mjg0YmZiYWUzZWJmMmY3ZWQ0NC5zZXRDb250ZW50KGh0bWxfZDQzZjYxNDc3NTAxNGJhZjliN2YyYjliNWRiNjRkODkpOwogICAgICAgIAoKICAgICAgICBjaXJjbGVfbWFya2VyXzczN2Q1MzhhMDdkMDRkYWY5ZTlhYmViNmY3ODJmMGE1LmJpbmRQb3B1cChwb3B1cF9mOGUwNDIzYzNkNTk0Mjg0YmZiYWUzZWJmMmY3ZWQ0NCkKICAgICAgICA7CgogICAgICAgIAogICAgCiAgICAKICAgICAgICAgICAgdmFyIGNpcmNsZV9tYXJrZXJfMWRhNTFiNWEwMzkzNDVkNmEzZDQ0YzA0NTMzODU0MmMgPSBMLmNpcmNsZU1hcmtlcigKICAgICAgICAgICAgICAgIFs0My44MDM3NjIyLCAtNzkuMzYzNDUxN10sCiAgICAgICAgICAgICAgICB7ImJ1YmJsaW5nTW91c2VFdmVudHMiOiB0cnVlLCAiY29sb3IiOiAiYmx1ZSIsICJkYXNoQXJyYXkiOiBudWxsLCAiZGFzaE9mZnNldCI6IG51bGwsICJmaWxsIjogdHJ1ZSwgImZpbGxDb2xvciI6ICIjMzE4NmNjIiwgImZpbGxPcGFjaXR5IjogMC43LCAiZmlsbFJ1bGUiOiAiZXZlbm9kZCIsICJsaW5lQ2FwIjogInJvdW5kIiwgImxpbmVKb2luIjogInJvdW5kIiwgIm9wYWNpdHkiOiAxLjAsICJyYWRpdXMiOiA1LCAic3Ryb2tlIjogdHJ1ZSwgIndlaWdodCI6IDN9CiAgICAgICAgICAgICkuYWRkVG8obWFwXzkyZjlmOTQxNDYyZDRiZDY4OTUwNDgzN2MwMjA5MzY5KTsKICAgICAgICAKICAgIAogICAgICAgIHZhciBwb3B1cF9hNTcwMGU4ODVhYjE0M2Y2ODYyYTAzZDc1ZjI1YTRmNCA9IEwucG9wdXAoeyJtYXhXaWR0aCI6ICIxMDAlIn0pOwoKICAgICAgICAKICAgICAgICAgICAgdmFyIGh0bWxfN2Q1MzgxYjc1NTdmNGNiN2I3NjNjMjc3ZjY4YTQ2ZTQgPSAkKGA8ZGl2IGlkPSJodG1sXzdkNTM4MWI3NTU3ZjRjYjdiNzYzYzI3N2Y2OGE0NmU0IiBzdHlsZT0id2lkdGg6IDEwMC4wJTsgaGVpZ2h0OiAxMDAuMCU7Ij5IaWxsY3Jlc3QgVmlsbGFnZSwgTm9ydGggWW9yazwvZGl2PmApWzBdOwogICAgICAgICAgICBwb3B1cF9hNTcwMGU4ODVhYjE0M2Y2ODYyYTAzZDc1ZjI1YTRmNC5zZXRDb250ZW50KGh0bWxfN2Q1MzgxYjc1NTdmNGNiN2I3NjNjMjc3ZjY4YTQ2ZTQpOwogICAgICAgIAoKICAgICAgICBjaXJjbGVfbWFya2VyXzFkYTUxYjVhMDM5MzQ1ZDZhM2Q0NGMwNDUzMzg1NDJjLmJpbmRQb3B1cChwb3B1cF9hNTcwMGU4ODVhYjE0M2Y2ODYyYTAzZDc1ZjI1YTRmNCkKICAgICAgICA7CgogICAgICAgIAogICAgCiAgICAKICAgICAgICAgICAgdmFyIGNpcmNsZV9tYXJrZXJfMjNlMDE0OTkyODU1NDk5Mjg2YTZkZGJhNDFjNjUxMTggPSBMLmNpcmNsZU1hcmtlcigKICAgICAgICAgICAgICAgIFs0My43NTQzMjgzLCAtNzkuNDQyMjU5M10sCiAgICAgICAgICAgICAgICB7ImJ1YmJsaW5nTW91c2VFdmVudHMiOiB0cnVlLCAiY29sb3IiOiAiYmx1ZSIsICJkYXNoQXJyYXkiOiBudWxsLCAiZGFzaE9mZnNldCI6IG51bGwsICJmaWxsIjogdHJ1ZSwgImZpbGxDb2xvciI6ICIjMzE4NmNjIiwgImZpbGxPcGFjaXR5IjogMC43LCAiZmlsbFJ1bGUiOiAiZXZlbm9kZCIsICJsaW5lQ2FwIjogInJvdW5kIiwgImxpbmVKb2luIjogInJvdW5kIiwgIm9wYWNpdHkiOiAxLjAsICJyYWRpdXMiOiA1LCAic3Ryb2tlIjogdHJ1ZSwgIndlaWdodCI6IDN9CiAgICAgICAgICAgICkuYWRkVG8obWFwXzkyZjlmOTQxNDYyZDRiZDY4OTUwNDgzN2MwMjA5MzY5KTsKICAgICAgICAKICAgIAogICAgICAgIHZhciBwb3B1cF82MzRhOWU0NWRlMDY0NjBmOGU2Njk1YTkwMGRjY2QxYiA9IEwucG9wdXAoeyJtYXhXaWR0aCI6ICIxMDAlIn0pOwoKICAgICAgICAKICAgICAgICAgICAgdmFyIGh0bWxfMGQ1NDA5NmU0MWM4NGIwODg5NjQ4YWYyMmM2MzhkMGYgPSAkKGA8ZGl2IGlkPSJodG1sXzBkNTQwOTZlNDFjODRiMDg4OTY0OGFmMjJjNjM4ZDBmIiBzdHlsZT0id2lkdGg6IDEwMC4wJTsgaGVpZ2h0OiAxMDAuMCU7Ij5CYXRodXJzdCBNYW5vciwgV2lsc29uIEhlaWdodHMsIERvd25zdmlldyBOb3J0aCwgTm9ydGggWW9yazwvZGl2PmApWzBdOwogICAgICAgICAgICBwb3B1cF82MzRhOWU0NWRlMDY0NjBmOGU2Njk1YTkwMGRjY2QxYi5zZXRDb250ZW50KGh0bWxfMGQ1NDA5NmU0MWM4NGIwODg5NjQ4YWYyMmM2MzhkMGYpOwogICAgICAgIAoKICAgICAgICBjaXJjbGVfbWFya2VyXzIzZTAxNDk5Mjg1NTQ5OTI4NmE2ZGRiYTQxYzY1MTE4LmJpbmRQb3B1cChwb3B1cF82MzRhOWU0NWRlMDY0NjBmOGU2Njk1YTkwMGRjY2QxYikKICAgICAgICA7CgogICAgICAgIAogICAgCiAgICAKICAgICAgICAgICAgdmFyIGNpcmNsZV9tYXJrZXJfOTcyZmZmMmI0ZGExNDQwNzhiOTkxMWI5NWE4MjhmZmEgPSBMLmNpcmNsZU1hcmtlcigKICAgICAgICAgICAgICAgIFs0My43MDUzNjg5LCAtNzkuMzQ5MzcxOTAwMDAwMDFdLAogICAgICAgICAgICAgICAgeyJidWJibGluZ01vdXNlRXZlbnRzIjogdHJ1ZSwgImNvbG9yIjogImJsdWUiLCAiZGFzaEFycmF5IjogbnVsbCwgImRhc2hPZmZzZXQiOiBudWxsLCAiZmlsbCI6IHRydWUsICJmaWxsQ29sb3IiOiAiIzMxODZjYyIsICJmaWxsT3BhY2l0eSI6IDAuNywgImZpbGxSdWxlIjogImV2ZW5vZGQiLCAibGluZUNhcCI6ICJyb3VuZCIsICJsaW5lSm9pbiI6ICJyb3VuZCIsICJvcGFjaXR5IjogMS4wLCAicmFkaXVzIjogNSwgInN0cm9rZSI6IHRydWUsICJ3ZWlnaHQiOiAzfQogICAgICAgICAgICApLmFkZFRvKG1hcF85MmY5Zjk0MTQ2MmQ0YmQ2ODk1MDQ4MzdjMDIwOTM2OSk7CiAgICAgICAgCiAgICAKICAgICAgICB2YXIgcG9wdXBfMDhjMTg4ZGZjNmI1NDFkY2EzZmY5YmQ5MWI2ZmYyYzYgPSBMLnBvcHVwKHsibWF4V2lkdGgiOiAiMTAwJSJ9KTsKCiAgICAgICAgCiAgICAgICAgICAgIHZhciBodG1sXzkzMzMyNWY0MDk3ZTQ4ZTc5MzU5YjI3YjA2M2JkMjhiID0gJChgPGRpdiBpZD0iaHRtbF85MzMzMjVmNDA5N2U0OGU3OTM1OWIyN2IwNjNiZDI4YiIgc3R5bGU9IndpZHRoOiAxMDAuMCU7IGhlaWdodDogMTAwLjAlOyI+VGhvcm5jbGlmZmUgUGFyaywgRWFzdCBZb3JrPC9kaXY+YClbMF07CiAgICAgICAgICAgIHBvcHVwXzA4YzE4OGRmYzZiNTQxZGNhM2ZmOWJkOTFiNmZmMmM2LnNldENvbnRlbnQoaHRtbF85MzMzMjVmNDA5N2U0OGU3OTM1OWIyN2IwNjNiZDI4Yik7CiAgICAgICAgCgogICAgICAgIGNpcmNsZV9tYXJrZXJfOTcyZmZmMmI0ZGExNDQwNzhiOTkxMWI5NWE4MjhmZmEuYmluZFBvcHVwKHBvcHVwXzA4YzE4OGRmYzZiNTQxZGNhM2ZmOWJkOTFiNmZmMmM2KQogICAgICAgIDsKCiAgICAgICAgCiAgICAKICAgIAogICAgICAgICAgICB2YXIgY2lyY2xlX21hcmtlcl9lOGE5ODA4ZTBlY2Y0ZDU0YjhkMTZiNmI3ZTQ2ODg5OCA9IEwuY2lyY2xlTWFya2VyKAogICAgICAgICAgICAgICAgWzQzLjY1MDU3MTIwMDAwMDAxLCAtNzkuMzg0NTY3NV0sCiAgICAgICAgICAgICAgICB7ImJ1YmJsaW5nTW91c2VFdmVudHMiOiB0cnVlLCAiY29sb3IiOiAiYmx1ZSIsICJkYXNoQXJyYXkiOiBudWxsLCAiZGFzaE9mZnNldCI6IG51bGwsICJmaWxsIjogdHJ1ZSwgImZpbGxDb2xvciI6ICIjMzE4NmNjIiwgImZpbGxPcGFjaXR5IjogMC43LCAiZmlsbFJ1bGUiOiAiZXZlbm9kZCIsICJsaW5lQ2FwIjogInJvdW5kIiwgImxpbmVKb2luIjogInJvdW5kIiwgIm9wYWNpdHkiOiAxLjAsICJyYWRpdXMiOiA1LCAic3Ryb2tlIjogdHJ1ZSwgIndlaWdodCI6IDN9CiAgICAgICAgICAgICkuYWRkVG8obWFwXzkyZjlmOTQxNDYyZDRiZDY4OTUwNDgzN2MwMjA5MzY5KTsKICAgICAgICAKICAgIAogICAgICAgIHZhciBwb3B1cF84YjcyODJmZTUxMTY0ZDg0OTZjMGU5NDA0NDVkZjRiMyA9IEwucG9wdXAoeyJtYXhXaWR0aCI6ICIxMDAlIn0pOwoKICAgICAgICAKICAgICAgICAgICAgdmFyIGh0bWxfMDdlZjQyYTU1NjU1NDlhNjg1MWJhN2UyYWRkZDI2MmMgPSAkKGA8ZGl2IGlkPSJodG1sXzA3ZWY0MmE1NTY1NTQ5YTY4NTFiYTdlMmFkZGQyNjJjIiBzdHlsZT0id2lkdGg6IDEwMC4wJTsgaGVpZ2h0OiAxMDAuMCU7Ij5SaWNobW9uZCwgQWRlbGFpZGUsIEtpbmcsIERvd250b3duIFRvcm9udG88L2Rpdj5gKVswXTsKICAgICAgICAgICAgcG9wdXBfOGI3MjgyZmU1MTE2NGQ4NDk2YzBlOTQwNDQ1ZGY0YjMuc2V0Q29udGVudChodG1sXzA3ZWY0MmE1NTY1NTQ5YTY4NTFiYTdlMmFkZGQyNjJjKTsKICAgICAgICAKCiAgICAgICAgY2lyY2xlX21hcmtlcl9lOGE5ODA4ZTBlY2Y0ZDU0YjhkMTZiNmI3ZTQ2ODg5OC5iaW5kUG9wdXAocG9wdXBfOGI3MjgyZmU1MTE2NGQ4NDk2YzBlOTQwNDQ1ZGY0YjMpCiAgICAgICAgOwoKICAgICAgICAKICAgIAogICAgCiAgICAgICAgICAgIHZhciBjaXJjbGVfbWFya2VyX2Y3ODVmOTZiNzE0YjRkMGQ4ZjMwYzBiYWI0MGM0NmQ0ID0gTC5jaXJjbGVNYXJrZXIoCiAgICAgICAgICAgICAgICBbNDMuNjY5MDA1MTAwMDAwMDEsIC03OS40NDIyNTkzXSwKICAgICAgICAgICAgICAgIHsiYnViYmxpbmdNb3VzZUV2ZW50cyI6IHRydWUsICJjb2xvciI6ICJibHVlIiwgImRhc2hBcnJheSI6IG51bGwsICJkYXNoT2Zmc2V0IjogbnVsbCwgImZpbGwiOiB0cnVlLCAiZmlsbENvbG9yIjogIiMzMTg2Y2MiLCAiZmlsbE9wYWNpdHkiOiAwLjcsICJmaWxsUnVsZSI6ICJldmVub2RkIiwgImxpbmVDYXAiOiAicm91bmQiLCAibGluZUpvaW4iOiAicm91bmQiLCAib3BhY2l0eSI6IDEuMCwgInJhZGl1cyI6IDUsICJzdHJva2UiOiB0cnVlLCAid2VpZ2h0IjogM30KICAgICAgICAgICAgKS5hZGRUbyhtYXBfOTJmOWY5NDE0NjJkNGJkNjg5NTA0ODM3YzAyMDkzNjkpOwogICAgICAgIAogICAgCiAgICAgICAgdmFyIHBvcHVwXzczZDg5ZDkzNzFkMDQ4MjI5MDMyZDY0YWEyMDY0YmVhID0gTC5wb3B1cCh7Im1heFdpZHRoIjogIjEwMCUifSk7CgogICAgICAgIAogICAgICAgICAgICB2YXIgaHRtbF8zZTg5NWE1MjNlY2Y0OGU2ODZhNzU1OTQxNGYyNzM1MyA9ICQoYDxkaXYgaWQ9Imh0bWxfM2U4OTVhNTIzZWNmNDhlNjg2YTc1NTk0MTRmMjczNTMiIHN0eWxlPSJ3aWR0aDogMTAwLjAlOyBoZWlnaHQ6IDEwMC4wJTsiPkR1ZmZlcmluLCBEb3ZlcmNvdXJ0IFZpbGxhZ2UsIFdlc3QgVG9yb250bzwvZGl2PmApWzBdOwogICAgICAgICAgICBwb3B1cF83M2Q4OWQ5MzcxZDA0ODIyOTAzMmQ2NGFhMjA2NGJlYS5zZXRDb250ZW50KGh0bWxfM2U4OTVhNTIzZWNmNDhlNjg2YTc1NTk0MTRmMjczNTMpOwogICAgICAgIAoKICAgICAgICBjaXJjbGVfbWFya2VyX2Y3ODVmOTZiNzE0YjRkMGQ4ZjMwYzBiYWI0MGM0NmQ0LmJpbmRQb3B1cChwb3B1cF83M2Q4OWQ5MzcxZDA0ODIyOTAzMmQ2NGFhMjA2NGJlYSkKICAgICAgICA7CgogICAgICAgIAogICAgCiAgICAKICAgICAgICAgICAgdmFyIGNpcmNsZV9tYXJrZXJfZGQ5OGE0YjVhMGQ5NGMwZjgzMjI3MmQyMDEwYWY1NzQgPSBMLmNpcmNsZU1hcmtlcigKICAgICAgICAgICAgICAgIFs0My43NDQ3MzQyLCAtNzkuMjM5NDc2MDk5OTk5OTldLAogICAgICAgICAgICAgICAgeyJidWJibGluZ01vdXNlRXZlbnRzIjogdHJ1ZSwgImNvbG9yIjogImJsdWUiLCAiZGFzaEFycmF5IjogbnVsbCwgImRhc2hPZmZzZXQiOiBudWxsLCAiZmlsbCI6IHRydWUsICJmaWxsQ29sb3IiOiAiIzMxODZjYyIsICJmaWxsT3BhY2l0eSI6IDAuNywgImZpbGxSdWxlIjogImV2ZW5vZGQiLCAibGluZUNhcCI6ICJyb3VuZCIsICJsaW5lSm9pbiI6ICJyb3VuZCIsICJvcGFjaXR5IjogMS4wLCAicmFkaXVzIjogNSwgInN0cm9rZSI6IHRydWUsICJ3ZWlnaHQiOiAzfQogICAgICAgICAgICApLmFkZFRvKG1hcF85MmY5Zjk0MTQ2MmQ0YmQ2ODk1MDQ4MzdjMDIwOTM2OSk7CiAgICAgICAgCiAgICAKICAgICAgICB2YXIgcG9wdXBfMzhmZTllYWE4MmFhNDY2YWI2NDY3NThkNmFhNTQxMTggPSBMLnBvcHVwKHsibWF4V2lkdGgiOiAiMTAwJSJ9KTsKCiAgICAgICAgCiAgICAgICAgICAgIHZhciBodG1sX2M2ZTEzNDA2OWRiNjQ2NmU4MDg3YjUzOWQwY2JkNTAxID0gJChgPGRpdiBpZD0iaHRtbF9jNmUxMzQwNjlkYjY0NjZlODA4N2I1MzlkMGNiZDUwMSIgc3R5bGU9IndpZHRoOiAxMDAuMCU7IGhlaWdodDogMTAwLjAlOyI+U2NhcmJvcm91Z2ggVmlsbGFnZSwgU2NhcmJvcm91Z2g8L2Rpdj5gKVswXTsKICAgICAgICAgICAgcG9wdXBfMzhmZTllYWE4MmFhNDY2YWI2NDY3NThkNmFhNTQxMTguc2V0Q29udGVudChodG1sX2M2ZTEzNDA2OWRiNjQ2NmU4MDg3YjUzOWQwY2JkNTAxKTsKICAgICAgICAKCiAgICAgICAgY2lyY2xlX21hcmtlcl9kZDk4YTRiNWEwZDk0YzBmODMyMjcyZDIwMTBhZjU3NC5iaW5kUG9wdXAocG9wdXBfMzhmZTllYWE4MmFhNDY2YWI2NDY3NThkNmFhNTQxMTgpCiAgICAgICAgOwoKICAgICAgICAKICAgIAogICAgCiAgICAgICAgICAgIHZhciBjaXJjbGVfbWFya2VyXzAzOGNjMThlYjk4NzQ4MTVhM2M4OGFhZjgzNmM1YjZhID0gTC5jaXJjbGVNYXJrZXIoCiAgICAgICAgICAgICAgICBbNDMuNzc4NTE3NSwgLTc5LjM0NjU1NTddLAogICAgICAgICAgICAgICAgeyJidWJibGluZ01vdXNlRXZlbnRzIjogdHJ1ZSwgImNvbG9yIjogImJsdWUiLCAiZGFzaEFycmF5IjogbnVsbCwgImRhc2hPZmZzZXQiOiBudWxsLCAiZmlsbCI6IHRydWUsICJmaWxsQ29sb3IiOiAiIzMxODZjYyIsICJmaWxsT3BhY2l0eSI6IDAuNywgImZpbGxSdWxlIjogImV2ZW5vZGQiLCAibGluZUNhcCI6ICJyb3VuZCIsICJsaW5lSm9pbiI6ICJyb3VuZCIsICJvcGFjaXR5IjogMS4wLCAicmFkaXVzIjogNSwgInN0cm9rZSI6IHRydWUsICJ3ZWlnaHQiOiAzfQogICAgICAgICAgICApLmFkZFRvKG1hcF85MmY5Zjk0MTQ2MmQ0YmQ2ODk1MDQ4MzdjMDIwOTM2OSk7CiAgICAgICAgCiAgICAKICAgICAgICB2YXIgcG9wdXBfMjIyMTE5YzJkOWE1NDNkN2E4YjRmOGE5ODI4OWY0MTggPSBMLnBvcHVwKHsibWF4V2lkdGgiOiAiMTAwJSJ9KTsKCiAgICAgICAgCiAgICAgICAgICAgIHZhciBodG1sX2JkNjVmMTZhNjAwYTQ2N2M5MmRmNjUzNzk2ZjFlMDRiID0gJChgPGRpdiBpZD0iaHRtbF9iZDY1ZjE2YTYwMGE0NjdjOTJkZjY1Mzc5NmYxZTA0YiIgc3R5bGU9IndpZHRoOiAxMDAuMCU7IGhlaWdodDogMTAwLjAlOyI+RmFpcnZpZXcsIEhlbnJ5IEZhcm0sIE9yaW9sZSwgTm9ydGggWW9yazwvZGl2PmApWzBdOwogICAgICAgICAgICBwb3B1cF8yMjIxMTljMmQ5YTU0M2Q3YThiNGY4YTk4Mjg5ZjQxOC5zZXRDb250ZW50KGh0bWxfYmQ2NWYxNmE2MDBhNDY3YzkyZGY2NTM3OTZmMWUwNGIpOwogICAgICAgIAoKICAgICAgICBjaXJjbGVfbWFya2VyXzAzOGNjMThlYjk4NzQ4MTVhM2M4OGFhZjgzNmM1YjZhLmJpbmRQb3B1cChwb3B1cF8yMjIxMTljMmQ5YTU0M2Q3YThiNGY4YTk4Mjg5ZjQxOCkKICAgICAgICA7CgogICAgICAgIAogICAgCiAgICAKICAgICAgICAgICAgdmFyIGNpcmNsZV9tYXJrZXJfNjQ3YmU0MTM1ODhhNDNkMTg1MzA1YTliOGJiM2ZhMjkgPSBMLmNpcmNsZU1hcmtlcigKICAgICAgICAgICAgICAgIFs0My43Njc5ODAzLCAtNzkuNDg3MjYxOTAwMDAwMDFdLAogICAgICAgICAgICAgICAgeyJidWJibGluZ01vdXNlRXZlbnRzIjogdHJ1ZSwgImNvbG9yIjogImJsdWUiLCAiZGFzaEFycmF5IjogbnVsbCwgImRhc2hPZmZzZXQiOiBudWxsLCAiZmlsbCI6IHRydWUsICJmaWxsQ29sb3IiOiAiIzMxODZjYyIsICJmaWxsT3BhY2l0eSI6IDAuNywgImZpbGxSdWxlIjogImV2ZW5vZGQiLCAibGluZUNhcCI6ICJyb3VuZCIsICJsaW5lSm9pbiI6ICJyb3VuZCIsICJvcGFjaXR5IjogMS4wLCAicmFkaXVzIjogNSwgInN0cm9rZSI6IHRydWUsICJ3ZWlnaHQiOiAzfQogICAgICAgICAgICApLmFkZFRvKG1hcF85MmY5Zjk0MTQ2MmQ0YmQ2ODk1MDQ4MzdjMDIwOTM2OSk7CiAgICAgICAgCiAgICAKICAgICAgICB2YXIgcG9wdXBfNGZmYjQwY2Q5NmViNDRlNTgwMGUwMmU4YjUzYjM1OWQgPSBMLnBvcHVwKHsibWF4V2lkdGgiOiAiMTAwJSJ9KTsKCiAgICAgICAgCiAgICAgICAgICAgIHZhciBodG1sXzYxMTE5NDU5NDJmZjRhNzViYmZlZTQwOTM0NmI0MmI4ID0gJChgPGRpdiBpZD0iaHRtbF82MTExOTQ1OTQyZmY0YTc1YmJmZWU0MDkzNDZiNDJiOCIgc3R5bGU9IndpZHRoOiAxMDAuMCU7IGhlaWdodDogMTAwLjAlOyI+Tm9ydGh3b29kIFBhcmssIFlvcmsgVW5pdmVyc2l0eSwgTm9ydGggWW9yazwvZGl2PmApWzBdOwogICAgICAgICAgICBwb3B1cF80ZmZiNDBjZDk2ZWI0NGU1ODAwZTAyZThiNTNiMzU5ZC5zZXRDb250ZW50KGh0bWxfNjExMTk0NTk0MmZmNGE3NWJiZmVlNDA5MzQ2YjQyYjgpOwogICAgICAgIAoKICAgICAgICBjaXJjbGVfbWFya2VyXzY0N2JlNDEzNTg4YTQzZDE4NTMwNWE5YjhiYjNmYTI5LmJpbmRQb3B1cChwb3B1cF80ZmZiNDBjZDk2ZWI0NGU1ODAwZTAyZThiNTNiMzU5ZCkKICAgICAgICA7CgogICAgICAgIAogICAgCiAgICAKICAgICAgICAgICAgdmFyIGNpcmNsZV9tYXJrZXJfMTQxZTMzOThiNTc2NDQ1OTgzMmVmNzBjNzJkODJmOWMgPSBMLmNpcmNsZU1hcmtlcigKICAgICAgICAgICAgICAgIFs0My42ODUzNDcsIC03OS4zMzgxMDY1XSwKICAgICAgICAgICAgICAgIHsiYnViYmxpbmdNb3VzZUV2ZW50cyI6IHRydWUsICJjb2xvciI6ICJibHVlIiwgImRhc2hBcnJheSI6IG51bGwsICJkYXNoT2Zmc2V0IjogbnVsbCwgImZpbGwiOiB0cnVlLCAiZmlsbENvbG9yIjogIiMzMTg2Y2MiLCAiZmlsbE9wYWNpdHkiOiAwLjcsICJmaWxsUnVsZSI6ICJldmVub2RkIiwgImxpbmVDYXAiOiAicm91bmQiLCAibGluZUpvaW4iOiAicm91bmQiLCAib3BhY2l0eSI6IDEuMCwgInJhZGl1cyI6IDUsICJzdHJva2UiOiB0cnVlLCAid2VpZ2h0IjogM30KICAgICAgICAgICAgKS5hZGRUbyhtYXBfOTJmOWY5NDE0NjJkNGJkNjg5NTA0ODM3YzAyMDkzNjkpOwogICAgICAgIAogICAgCiAgICAgICAgdmFyIHBvcHVwXzAxNWI4Yjc5MGQwZDQ4OWM4NWUxMTNiZDI2NDRjMTdmID0gTC5wb3B1cCh7Im1heFdpZHRoIjogIjEwMCUifSk7CgogICAgICAgIAogICAgICAgICAgICB2YXIgaHRtbF80OTY4NGY0NDUwMWI0ZWJkOTMxNzg3NGJmYjljOTg2MyA9ICQoYDxkaXYgaWQ9Imh0bWxfNDk2ODRmNDQ1MDFiNGViZDkzMTc4NzRiZmI5Yzk4NjMiIHN0eWxlPSJ3aWR0aDogMTAwLjAlOyBoZWlnaHQ6IDEwMC4wJTsiPkVhc3QgVG9yb250bywgQnJvYWR2aWV3IE5vcnRoIChPbGQgRWFzdCBZb3JrKSwgRWFzdCBZb3JrPC9kaXY+YClbMF07CiAgICAgICAgICAgIHBvcHVwXzAxNWI4Yjc5MGQwZDQ4OWM4NWUxMTNiZDI2NDRjMTdmLnNldENvbnRlbnQoaHRtbF80OTY4NGY0NDUwMWI0ZWJkOTMxNzg3NGJmYjljOTg2Myk7CiAgICAgICAgCgogICAgICAgIGNpcmNsZV9tYXJrZXJfMTQxZTMzOThiNTc2NDQ1OTgzMmVmNzBjNzJkODJmOWMuYmluZFBvcHVwKHBvcHVwXzAxNWI4Yjc5MGQwZDQ4OWM4NWUxMTNiZDI2NDRjMTdmKQogICAgICAgIDsKCiAgICAgICAgCiAgICAKICAgIAogICAgICAgICAgICB2YXIgY2lyY2xlX21hcmtlcl84MmYxNmM5M2EyYmQ0YTVhYTllMTZkNzc0NzlhNjdhNSA9IEwuY2lyY2xlTWFya2VyKAogICAgICAgICAgICAgICAgWzQzLjY0MDgxNTcsIC03OS4zODE3NTIyOTk5OTk5OV0sCiAgICAgICAgICAgICAgICB7ImJ1YmJsaW5nTW91c2VFdmVudHMiOiB0cnVlLCAiY29sb3IiOiAiYmx1ZSIsICJkYXNoQXJyYXkiOiBudWxsLCAiZGFzaE9mZnNldCI6IG51bGwsICJmaWxsIjogdHJ1ZSwgImZpbGxDb2xvciI6ICIjMzE4NmNjIiwgImZpbGxPcGFjaXR5IjogMC43LCAiZmlsbFJ1bGUiOiAiZXZlbm9kZCIsICJsaW5lQ2FwIjogInJvdW5kIiwgImxpbmVKb2luIjogInJvdW5kIiwgIm9wYWNpdHkiOiAxLjAsICJyYWRpdXMiOiA1LCAic3Ryb2tlIjogdHJ1ZSwgIndlaWdodCI6IDN9CiAgICAgICAgICAgICkuYWRkVG8obWFwXzkyZjlmOTQxNDYyZDRiZDY4OTUwNDgzN2MwMjA5MzY5KTsKICAgICAgICAKICAgIAogICAgICAgIHZhciBwb3B1cF9lMDdlZjM3MmY5MmE0MmJjYmVlZTZjMzRlZmRiZDIzYyA9IEwucG9wdXAoeyJtYXhXaWR0aCI6ICIxMDAlIn0pOwoKICAgICAgICAKICAgICAgICAgICAgdmFyIGh0bWxfNjcxNjIzZWViODA3NDE2ZWJkNTQ3MzE5MjU3NWEyNjggPSAkKGA8ZGl2IGlkPSJodG1sXzY3MTYyM2VlYjgwNzQxNmViZDU0NzMxOTI1NzVhMjY4IiBzdHlsZT0id2lkdGg6IDEwMC4wJTsgaGVpZ2h0OiAxMDAuMCU7Ij5IYXJib3VyZnJvbnQgRWFzdCwgVW5pb24gU3RhdGlvbiwgVG9yb250byBJc2xhbmRzLCBEb3dudG93biBUb3JvbnRvPC9kaXY+YClbMF07CiAgICAgICAgICAgIHBvcHVwX2UwN2VmMzcyZjkyYTQyYmNiZWVlNmMzNGVmZGJkMjNjLnNldENvbnRlbnQoaHRtbF82NzE2MjNlZWI4MDc0MTZlYmQ1NDczMTkyNTc1YTI2OCk7CiAgICAgICAgCgogICAgICAgIGNpcmNsZV9tYXJrZXJfODJmMTZjOTNhMmJkNGE1YWE5ZTE2ZDc3NDc5YTY3YTUuYmluZFBvcHVwKHBvcHVwX2UwN2VmMzcyZjkyYTQyYmNiZWVlNmMzNGVmZGJkMjNjKQogICAgICAgIDsKCiAgICAgICAgCiAgICAKICAgIAogICAgICAgICAgICB2YXIgY2lyY2xlX21hcmtlcl9hZTllMWY0YjQwODY0NGM4YWQxMjJmMGJmOGU0YzExZCA9IEwuY2lyY2xlTWFya2VyKAogICAgICAgICAgICAgICAgWzQzLjY0NzkyNjcwMDAwMDAwNiwgLTc5LjQxOTc0OTddLAogICAgICAgICAgICAgICAgeyJidWJibGluZ01vdXNlRXZlbnRzIjogdHJ1ZSwgImNvbG9yIjogImJsdWUiLCAiZGFzaEFycmF5IjogbnVsbCwgImRhc2hPZmZzZXQiOiBudWxsLCAiZmlsbCI6IHRydWUsICJmaWxsQ29sb3IiOiAiIzMxODZjYyIsICJmaWxsT3BhY2l0eSI6IDAuNywgImZpbGxSdWxlIjogImV2ZW5vZGQiLCAibGluZUNhcCI6ICJyb3VuZCIsICJsaW5lSm9pbiI6ICJyb3VuZCIsICJvcGFjaXR5IjogMS4wLCAicmFkaXVzIjogNSwgInN0cm9rZSI6IHRydWUsICJ3ZWlnaHQiOiAzfQogICAgICAgICAgICApLmFkZFRvKG1hcF85MmY5Zjk0MTQ2MmQ0YmQ2ODk1MDQ4MzdjMDIwOTM2OSk7CiAgICAgICAgCiAgICAKICAgICAgICB2YXIgcG9wdXBfOWVlM2I1MTY1MDQ1NDRjNmI5ZDFhYjczYmY1NWZjYmEgPSBMLnBvcHVwKHsibWF4V2lkdGgiOiAiMTAwJSJ9KTsKCiAgICAgICAgCiAgICAgICAgICAgIHZhciBodG1sXzQwNGI4ZGFjMWQ3MTRhOWRhZjhlNjFlMWE4ZTcwOTQ4ID0gJChgPGRpdiBpZD0iaHRtbF80MDRiOGRhYzFkNzE0YTlkYWY4ZTYxZTFhOGU3MDk0OCIgc3R5bGU9IndpZHRoOiAxMDAuMCU7IGhlaWdodDogMTAwLjAlOyI+TGl0dGxlIFBvcnR1Z2FsLCBUcmluaXR5LCBXZXN0IFRvcm9udG88L2Rpdj5gKVswXTsKICAgICAgICAgICAgcG9wdXBfOWVlM2I1MTY1MDQ1NDRjNmI5ZDFhYjczYmY1NWZjYmEuc2V0Q29udGVudChodG1sXzQwNGI4ZGFjMWQ3MTRhOWRhZjhlNjFlMWE4ZTcwOTQ4KTsKICAgICAgICAKCiAgICAgICAgY2lyY2xlX21hcmtlcl9hZTllMWY0YjQwODY0NGM4YWQxMjJmMGJmOGU0YzExZC5iaW5kUG9wdXAocG9wdXBfOWVlM2I1MTY1MDQ1NDRjNmI5ZDFhYjczYmY1NWZjYmEpCiAgICAgICAgOwoKICAgICAgICAKICAgIAogICAgCiAgICAgICAgICAgIHZhciBjaXJjbGVfbWFya2VyXzkzNzFhNDkxNzFjZDRjMTdiY2Q5YzQxNzg4OTFmYWQwID0gTC5jaXJjbGVNYXJrZXIoCiAgICAgICAgICAgICAgICBbNDMuNzI3OTI5MiwgLTc5LjI2MjAyOTQwMDAwMDAyXSwKICAgICAgICAgICAgICAgIHsiYnViYmxpbmdNb3VzZUV2ZW50cyI6IHRydWUsICJjb2xvciI6ICJibHVlIiwgImRhc2hBcnJheSI6IG51bGwsICJkYXNoT2Zmc2V0IjogbnVsbCwgImZpbGwiOiB0cnVlLCAiZmlsbENvbG9yIjogIiMzMTg2Y2MiLCAiZmlsbE9wYWNpdHkiOiAwLjcsICJmaWxsUnVsZSI6ICJldmVub2RkIiwgImxpbmVDYXAiOiAicm91bmQiLCAibGluZUpvaW4iOiAicm91bmQiLCAib3BhY2l0eSI6IDEuMCwgInJhZGl1cyI6IDUsICJzdHJva2UiOiB0cnVlLCAid2VpZ2h0IjogM30KICAgICAgICAgICAgKS5hZGRUbyhtYXBfOTJmOWY5NDE0NjJkNGJkNjg5NTA0ODM3YzAyMDkzNjkpOwogICAgICAgIAogICAgCiAgICAgICAgdmFyIHBvcHVwXzE5ZDZjYWM2YjkwMzRlNmI4ZDViY2RjMzA2N2M4Nzc0ID0gTC5wb3B1cCh7Im1heFdpZHRoIjogIjEwMCUifSk7CgogICAgICAgIAogICAgICAgICAgICB2YXIgaHRtbF81ODYxNGFjNzI5ODI0M2I5ODM3MDM4MzhjMjFlMDIwNSA9ICQoYDxkaXYgaWQ9Imh0bWxfNTg2MTRhYzcyOTgyNDNiOTgzNzAzODM4YzIxZTAyMDUiIHN0eWxlPSJ3aWR0aDogMTAwLjAlOyBoZWlnaHQ6IDEwMC4wJTsiPktlbm5lZHkgUGFyaywgSW9udmlldywgRWFzdCBCaXJjaG1vdW50IFBhcmssIFNjYXJib3JvdWdoPC9kaXY+YClbMF07CiAgICAgICAgICAgIHBvcHVwXzE5ZDZjYWM2YjkwMzRlNmI4ZDViY2RjMzA2N2M4Nzc0LnNldENvbnRlbnQoaHRtbF81ODYxNGFjNzI5ODI0M2I5ODM3MDM4MzhjMjFlMDIwNSk7CiAgICAgICAgCgogICAgICAgIGNpcmNsZV9tYXJrZXJfOTM3MWE0OTE3MWNkNGMxN2JjZDljNDE3ODg5MWZhZDAuYmluZFBvcHVwKHBvcHVwXzE5ZDZjYWM2YjkwMzRlNmI4ZDViY2RjMzA2N2M4Nzc0KQogICAgICAgIDsKCiAgICAgICAgCiAgICAKICAgIAogICAgICAgICAgICB2YXIgY2lyY2xlX21hcmtlcl9lNDUxMTE0ZTUwMDM0M2Q5OGEzYTBiYTc5YmI5MmI5NiA9IEwuY2lyY2xlTWFya2VyKAogICAgICAgICAgICAgICAgWzQzLjc4Njk0NzMsIC03OS4zODU5NzVdLAogICAgICAgICAgICAgICAgeyJidWJibGluZ01vdXNlRXZlbnRzIjogdHJ1ZSwgImNvbG9yIjogImJsdWUiLCAiZGFzaEFycmF5IjogbnVsbCwgImRhc2hPZmZzZXQiOiBudWxsLCAiZmlsbCI6IHRydWUsICJmaWxsQ29sb3IiOiAiIzMxODZjYyIsICJmaWxsT3BhY2l0eSI6IDAuNywgImZpbGxSdWxlIjogImV2ZW5vZGQiLCAibGluZUNhcCI6ICJyb3VuZCIsICJsaW5lSm9pbiI6ICJyb3VuZCIsICJvcGFjaXR5IjogMS4wLCAicmFkaXVzIjogNSwgInN0cm9rZSI6IHRydWUsICJ3ZWlnaHQiOiAzfQogICAgICAgICAgICApLmFkZFRvKG1hcF85MmY5Zjk0MTQ2MmQ0YmQ2ODk1MDQ4MzdjMDIwOTM2OSk7CiAgICAgICAgCiAgICAKICAgICAgICB2YXIgcG9wdXBfMGM0NGViNmI5MWNmNDMzZWJiY2Q4MWExMzZmNzZmYzAgPSBMLnBvcHVwKHsibWF4V2lkdGgiOiAiMTAwJSJ9KTsKCiAgICAgICAgCiAgICAgICAgICAgIHZhciBodG1sX2M0Nzc3NTFjMjkwYjQ4NmZhYzYzZGM4OGI2MzUzZjQ0ID0gJChgPGRpdiBpZD0iaHRtbF9jNDc3NzUxYzI5MGI0ODZmYWM2M2RjODhiNjM1M2Y0NCIgc3R5bGU9IndpZHRoOiAxMDAuMCU7IGhlaWdodDogMTAwLjAlOyI+QmF5dmlldyBWaWxsYWdlLCBOb3J0aCBZb3JrPC9kaXY+YClbMF07CiAgICAgICAgICAgIHBvcHVwXzBjNDRlYjZiOTFjZjQzM2ViYmNkODFhMTM2Zjc2ZmMwLnNldENvbnRlbnQoaHRtbF9jNDc3NzUxYzI5MGI0ODZmYWM2M2RjODhiNjM1M2Y0NCk7CiAgICAgICAgCgogICAgICAgIGNpcmNsZV9tYXJrZXJfZTQ1MTExNGU1MDAzNDNkOThhM2EwYmE3OWJiOTJiOTYuYmluZFBvcHVwKHBvcHVwXzBjNDRlYjZiOTFjZjQzM2ViYmNkODFhMTM2Zjc2ZmMwKQogICAgICAgIDsKCiAgICAgICAgCiAgICAKICAgIAogICAgICAgICAgICB2YXIgY2lyY2xlX21hcmtlcl8zN2FhY2JkZjAyM2M0OGNlOGQxYWMxN2ExNjkyNDJhMSA9IEwuY2lyY2xlTWFya2VyKAogICAgICAgICAgICAgICAgWzQzLjczNzQ3MzIwMDAwMDAwNCwgLTc5LjQ2NDc2MzI5OTk5OTk5XSwKICAgICAgICAgICAgICAgIHsiYnViYmxpbmdNb3VzZUV2ZW50cyI6IHRydWUsICJjb2xvciI6ICJibHVlIiwgImRhc2hBcnJheSI6IG51bGwsICJkYXNoT2Zmc2V0IjogbnVsbCwgImZpbGwiOiB0cnVlLCAiZmlsbENvbG9yIjogIiMzMTg2Y2MiLCAiZmlsbE9wYWNpdHkiOiAwLjcsICJmaWxsUnVsZSI6ICJldmVub2RkIiwgImxpbmVDYXAiOiAicm91bmQiLCAibGluZUpvaW4iOiAicm91bmQiLCAib3BhY2l0eSI6IDEuMCwgInJhZGl1cyI6IDUsICJzdHJva2UiOiB0cnVlLCAid2VpZ2h0IjogM30KICAgICAgICAgICAgKS5hZGRUbyhtYXBfOTJmOWY5NDE0NjJkNGJkNjg5NTA0ODM3YzAyMDkzNjkpOwogICAgICAgIAogICAgCiAgICAgICAgdmFyIHBvcHVwXzljNjFhNjliYjBmNDQ5Y2U4YWE3ZDY2NzU5YTlmMjFmID0gTC5wb3B1cCh7Im1heFdpZHRoIjogIjEwMCUifSk7CgogICAgICAgIAogICAgICAgICAgICB2YXIgaHRtbF81NDQxMTk1NDQ2MzE0MDNlYWVkODhiZTdhZGRiNjdjMiA9ICQoYDxkaXYgaWQ9Imh0bWxfNTQ0MTE5NTQ0NjMxNDAzZWFlZDg4YmU3YWRkYjY3YzIiIHN0eWxlPSJ3aWR0aDogMTAwLjAlOyBoZWlnaHQ6IDEwMC4wJTsiPkRvd25zdmlldywgTm9ydGggWW9yazwvZGl2PmApWzBdOwogICAgICAgICAgICBwb3B1cF85YzYxYTY5YmIwZjQ0OWNlOGFhN2Q2Njc1OWE5ZjIxZi5zZXRDb250ZW50KGh0bWxfNTQ0MTE5NTQ0NjMxNDAzZWFlZDg4YmU3YWRkYjY3YzIpOwogICAgICAgIAoKICAgICAgICBjaXJjbGVfbWFya2VyXzM3YWFjYmRmMDIzYzQ4Y2U4ZDFhYzE3YTE2OTI0MmExLmJpbmRQb3B1cChwb3B1cF85YzYxYTY5YmIwZjQ0OWNlOGFhN2Q2Njc1OWE5ZjIxZikKICAgICAgICA7CgogICAgICAgIAogICAgCiAgICAKICAgICAgICAgICAgdmFyIGNpcmNsZV9tYXJrZXJfZDI0ZDc1ODVjMzJmNDY4NGI1NGFiYzlkMmE5NzRiNjcgPSBMLmNpcmNsZU1hcmtlcigKICAgICAgICAgICAgICAgIFs0My42Nzk1NTcxLCAtNzkuMzUyMTg4XSwKICAgICAgICAgICAgICAgIHsiYnViYmxpbmdNb3VzZUV2ZW50cyI6IHRydWUsICJjb2xvciI6ICJibHVlIiwgImRhc2hBcnJheSI6IG51bGwsICJkYXNoT2Zmc2V0IjogbnVsbCwgImZpbGwiOiB0cnVlLCAiZmlsbENvbG9yIjogIiMzMTg2Y2MiLCAiZmlsbE9wYWNpdHkiOiAwLjcsICJmaWxsUnVsZSI6ICJldmVub2RkIiwgImxpbmVDYXAiOiAicm91bmQiLCAibGluZUpvaW4iOiAicm91bmQiLCAib3BhY2l0eSI6IDEuMCwgInJhZGl1cyI6IDUsICJzdHJva2UiOiB0cnVlLCAid2VpZ2h0IjogM30KICAgICAgICAgICAgKS5hZGRUbyhtYXBfOTJmOWY5NDE0NjJkNGJkNjg5NTA0ODM3YzAyMDkzNjkpOwogICAgICAgIAogICAgCiAgICAgICAgdmFyIHBvcHVwXzE2ZWM3NzI0OWQ5NDQ5MDk4ZmFlZWZiMWZmY2RhYzA0ID0gTC5wb3B1cCh7Im1heFdpZHRoIjogIjEwMCUifSk7CgogICAgICAgIAogICAgICAgICAgICB2YXIgaHRtbF9iZGE4YjE4MTdjZDE0ZjBiYWMyODg3YWIzZWNkNjc3YSA9ICQoYDxkaXYgaWQ9Imh0bWxfYmRhOGIxODE3Y2QxNGYwYmFjMjg4N2FiM2VjZDY3N2EiIHN0eWxlPSJ3aWR0aDogMTAwLjAlOyBoZWlnaHQ6IDEwMC4wJTsiPlRoZSBEYW5mb3J0aCBXZXN0LCBSaXZlcmRhbGUsIEVhc3QgVG9yb250bzwvZGl2PmApWzBdOwogICAgICAgICAgICBwb3B1cF8xNmVjNzcyNDlkOTQ0OTA5OGZhZWVmYjFmZmNkYWMwNC5zZXRDb250ZW50KGh0bWxfYmRhOGIxODE3Y2QxNGYwYmFjMjg4N2FiM2VjZDY3N2EpOwogICAgICAgIAoKICAgICAgICBjaXJjbGVfbWFya2VyX2QyNGQ3NTg1YzMyZjQ2ODRiNTRhYmM5ZDJhOTc0YjY3LmJpbmRQb3B1cChwb3B1cF8xNmVjNzcyNDlkOTQ0OTA5OGZhZWVmYjFmZmNkYWMwNCkKICAgICAgICA7CgogICAgICAgIAogICAgCiAgICAKICAgICAgICAgICAgdmFyIGNpcmNsZV9tYXJrZXJfZWZkNTdkZDI5ZGQ0NGVmY2I3OGUwN2Y2MGE0YWVkMDUgPSBMLmNpcmNsZU1hcmtlcigKICAgICAgICAgICAgICAgIFs0My42NDcxNzY4LCAtNzkuMzgxNTc2NDAwMDAwMDFdLAogICAgICAgICAgICAgICAgeyJidWJibGluZ01vdXNlRXZlbnRzIjogdHJ1ZSwgImNvbG9yIjogImJsdWUiLCAiZGFzaEFycmF5IjogbnVsbCwgImRhc2hPZmZzZXQiOiBudWxsLCAiZmlsbCI6IHRydWUsICJmaWxsQ29sb3IiOiAiIzMxODZjYyIsICJmaWxsT3BhY2l0eSI6IDAuNywgImZpbGxSdWxlIjogImV2ZW5vZGQiLCAibGluZUNhcCI6ICJyb3VuZCIsICJsaW5lSm9pbiI6ICJyb3VuZCIsICJvcGFjaXR5IjogMS4wLCAicmFkaXVzIjogNSwgInN0cm9rZSI6IHRydWUsICJ3ZWlnaHQiOiAzfQogICAgICAgICAgICApLmFkZFRvKG1hcF85MmY5Zjk0MTQ2MmQ0YmQ2ODk1MDQ4MzdjMDIwOTM2OSk7CiAgICAgICAgCiAgICAKICAgICAgICB2YXIgcG9wdXBfZTU0ZTUyYzAyMWJlNGJhMzhlMDY5ZmVlYzgwOGZjODAgPSBMLnBvcHVwKHsibWF4V2lkdGgiOiAiMTAwJSJ9KTsKCiAgICAgICAgCiAgICAgICAgICAgIHZhciBodG1sXzEzZDhlNTZmNjZlZTRlOTdhZWE0OTdjZDg5NWYxZjRjID0gJChgPGRpdiBpZD0iaHRtbF8xM2Q4ZTU2ZjY2ZWU0ZTk3YWVhNDk3Y2Q4OTVmMWY0YyIgc3R5bGU9IndpZHRoOiAxMDAuMCU7IGhlaWdodDogMTAwLjAlOyI+VG9yb250byBEb21pbmlvbiBDZW50cmUsIERlc2lnbiBFeGNoYW5nZSwgRG93bnRvd24gVG9yb250bzwvZGl2PmApWzBdOwogICAgICAgICAgICBwb3B1cF9lNTRlNTJjMDIxYmU0YmEzOGUwNjlmZWVjODA4ZmM4MC5zZXRDb250ZW50KGh0bWxfMTNkOGU1NmY2NmVlNGU5N2FlYTQ5N2NkODk1ZjFmNGMpOwogICAgICAgIAoKICAgICAgICBjaXJjbGVfbWFya2VyX2VmZDU3ZGQyOWRkNDRlZmNiNzhlMDdmNjBhNGFlZDA1LmJpbmRQb3B1cChwb3B1cF9lNTRlNTJjMDIxYmU0YmEzOGUwNjlmZWVjODA4ZmM4MCkKICAgICAgICA7CgogICAgICAgIAogICAgCiAgICAKICAgICAgICAgICAgdmFyIGNpcmNsZV9tYXJrZXJfM2Y4NDcyMmE2Nzg4NDZhMDk1NmJjZmM2MzM2NzZmNzcgPSBMLmNpcmNsZU1hcmtlcigKICAgICAgICAgICAgICAgIFs0My42MzY4NDcyLCAtNzkuNDI4MTkxNDAwMDAwMDJdLAogICAgICAgICAgICAgICAgeyJidWJibGluZ01vdXNlRXZlbnRzIjogdHJ1ZSwgImNvbG9yIjogImJsdWUiLCAiZGFzaEFycmF5IjogbnVsbCwgImRhc2hPZmZzZXQiOiBudWxsLCAiZmlsbCI6IHRydWUsICJmaWxsQ29sb3IiOiAiIzMxODZjYyIsICJmaWxsT3BhY2l0eSI6IDAuNywgImZpbGxSdWxlIjogImV2ZW5vZGQiLCAibGluZUNhcCI6ICJyb3VuZCIsICJsaW5lSm9pbiI6ICJyb3VuZCIsICJvcGFjaXR5IjogMS4wLCAicmFkaXVzIjogNSwgInN0cm9rZSI6IHRydWUsICJ3ZWlnaHQiOiAzfQogICAgICAgICAgICApLmFkZFRvKG1hcF85MmY5Zjk0MTQ2MmQ0YmQ2ODk1MDQ4MzdjMDIwOTM2OSk7CiAgICAgICAgCiAgICAKICAgICAgICB2YXIgcG9wdXBfZDhlMWQwOTdhYzQyNGQ2MzliN2FjMjkyMTE1OWY3NWIgPSBMLnBvcHVwKHsibWF4V2lkdGgiOiAiMTAwJSJ9KTsKCiAgICAgICAgCiAgICAgICAgICAgIHZhciBodG1sXzlmODVjMzY0ODUxNTRkNjg4OGQ5YWM3MTU2YWMyNDdmID0gJChgPGRpdiBpZD0iaHRtbF85Zjg1YzM2NDg1MTU0ZDY4ODhkOWFjNzE1NmFjMjQ3ZiIgc3R5bGU9IndpZHRoOiAxMDAuMCU7IGhlaWdodDogMTAwLjAlOyI+QnJvY2t0b24sIFBhcmtkYWxlIFZpbGxhZ2UsIEV4aGliaXRpb24gUGxhY2UsIFdlc3QgVG9yb250bzwvZGl2PmApWzBdOwogICAgICAgICAgICBwb3B1cF9kOGUxZDA5N2FjNDI0ZDYzOWI3YWMyOTIxMTU5Zjc1Yi5zZXRDb250ZW50KGh0bWxfOWY4NWMzNjQ4NTE1NGQ2ODg4ZDlhYzcxNTZhYzI0N2YpOwogICAgICAgIAoKICAgICAgICBjaXJjbGVfbWFya2VyXzNmODQ3MjJhNjc4ODQ2YTA5NTZiY2ZjNjMzNjc2Zjc3LmJpbmRQb3B1cChwb3B1cF9kOGUxZDA5N2FjNDI0ZDYzOWI3YWMyOTIxMTU5Zjc1YikKICAgICAgICA7CgogICAgICAgIAogICAgCiAgICAKICAgICAgICAgICAgdmFyIGNpcmNsZV9tYXJrZXJfMzdjMzVjMDMwNmVjNDQ0ZjhjMTAwYzZiYzBjZGJiODggPSBMLmNpcmNsZU1hcmtlcigKICAgICAgICAgICAgICAgIFs0My43MTExMTE3MDAwMDAwMDQsIC03OS4yODQ1NzcyXSwKICAgICAgICAgICAgICAgIHsiYnViYmxpbmdNb3VzZUV2ZW50cyI6IHRydWUsICJjb2xvciI6ICJibHVlIiwgImRhc2hBcnJheSI6IG51bGwsICJkYXNoT2Zmc2V0IjogbnVsbCwgImZpbGwiOiB0cnVlLCAiZmlsbENvbG9yIjogIiMzMTg2Y2MiLCAiZmlsbE9wYWNpdHkiOiAwLjcsICJmaWxsUnVsZSI6ICJldmVub2RkIiwgImxpbmVDYXAiOiAicm91bmQiLCAibGluZUpvaW4iOiAicm91bmQiLCAib3BhY2l0eSI6IDEuMCwgInJhZGl1cyI6IDUsICJzdHJva2UiOiB0cnVlLCAid2VpZ2h0IjogM30KICAgICAgICAgICAgKS5hZGRUbyhtYXBfOTJmOWY5NDE0NjJkNGJkNjg5NTA0ODM3YzAyMDkzNjkpOwogICAgICAgIAogICAgCiAgICAgICAgdmFyIHBvcHVwX2IyYWQ3ZjhhMWU4NTQyNTZiYmFjYmJkMjA0YTE0NGUyID0gTC5wb3B1cCh7Im1heFdpZHRoIjogIjEwMCUifSk7CgogICAgICAgIAogICAgICAgICAgICB2YXIgaHRtbF9kNzUxZDJjOGI4MWY0ZGY5ODg3ZTMwMWE2MTJmZTFkZiA9ICQoYDxkaXYgaWQ9Imh0bWxfZDc1MWQyYzhiODFmNGRmOTg4N2UzMDFhNjEyZmUxZGYiIHN0eWxlPSJ3aWR0aDogMTAwLjAlOyBoZWlnaHQ6IDEwMC4wJTsiPkdvbGRlbiBNaWxlLCBDbGFpcmxlYSwgT2FrcmlkZ2UsIFNjYXJib3JvdWdoPC9kaXY+YClbMF07CiAgICAgICAgICAgIHBvcHVwX2IyYWQ3ZjhhMWU4NTQyNTZiYmFjYmJkMjA0YTE0NGUyLnNldENvbnRlbnQoaHRtbF9kNzUxZDJjOGI4MWY0ZGY5ODg3ZTMwMWE2MTJmZTFkZik7CiAgICAgICAgCgogICAgICAgIGNpcmNsZV9tYXJrZXJfMzdjMzVjMDMwNmVjNDQ0ZjhjMTAwYzZiYzBjZGJiODguYmluZFBvcHVwKHBvcHVwX2IyYWQ3ZjhhMWU4NTQyNTZiYmFjYmJkMjA0YTE0NGUyKQogICAgICAgIDsKCiAgICAgICAgCiAgICAKICAgIAogICAgICAgICAgICB2YXIgY2lyY2xlX21hcmtlcl8xYjBiODQwNDcwM2Y0NzQ5OWYzMjZhOWJmMjZjNDYzNCA9IEwuY2lyY2xlTWFya2VyKAogICAgICAgICAgICAgICAgWzQzLjc1NzQ5MDIsIC03OS4zNzQ3MTQwOTk5OTk5OV0sCiAgICAgICAgICAgICAgICB7ImJ1YmJsaW5nTW91c2VFdmVudHMiOiB0cnVlLCAiY29sb3IiOiAiYmx1ZSIsICJkYXNoQXJyYXkiOiBudWxsLCAiZGFzaE9mZnNldCI6IG51bGwsICJmaWxsIjogdHJ1ZSwgImZpbGxDb2xvciI6ICIjMzE4NmNjIiwgImZpbGxPcGFjaXR5IjogMC43LCAiZmlsbFJ1bGUiOiAiZXZlbm9kZCIsICJsaW5lQ2FwIjogInJvdW5kIiwgImxpbmVKb2luIjogInJvdW5kIiwgIm9wYWNpdHkiOiAxLjAsICJyYWRpdXMiOiA1LCAic3Ryb2tlIjogdHJ1ZSwgIndlaWdodCI6IDN9CiAgICAgICAgICAgICkuYWRkVG8obWFwXzkyZjlmOTQxNDYyZDRiZDY4OTUwNDgzN2MwMjA5MzY5KTsKICAgICAgICAKICAgIAogICAgICAgIHZhciBwb3B1cF84NTVlNTJlYjhhOWU0MThmYWI5MmIzZTA5ZjlkMDFhNyA9IEwucG9wdXAoeyJtYXhXaWR0aCI6ICIxMDAlIn0pOwoKICAgICAgICAKICAgICAgICAgICAgdmFyIGh0bWxfM2IwMDAxZjA3ZGU3NGQyNDk5NDBlYzliNzU5MzgwYWEgPSAkKGA8ZGl2IGlkPSJodG1sXzNiMDAwMWYwN2RlNzRkMjQ5OTQwZWM5Yjc1OTM4MGFhIiBzdHlsZT0id2lkdGg6IDEwMC4wJTsgaGVpZ2h0OiAxMDAuMCU7Ij5Zb3JrIE1pbGxzLCBTaWx2ZXIgSGlsbHMsIE5vcnRoIFlvcms8L2Rpdj5gKVswXTsKICAgICAgICAgICAgcG9wdXBfODU1ZTUyZWI4YTllNDE4ZmFiOTJiM2UwOWY5ZDAxYTcuc2V0Q29udGVudChodG1sXzNiMDAwMWYwN2RlNzRkMjQ5OTQwZWM5Yjc1OTM4MGFhKTsKICAgICAgICAKCiAgICAgICAgY2lyY2xlX21hcmtlcl8xYjBiODQwNDcwM2Y0NzQ5OWYzMjZhOWJmMjZjNDYzNC5iaW5kUG9wdXAocG9wdXBfODU1ZTUyZWI4YTllNDE4ZmFiOTJiM2UwOWY5ZDAxYTcpCiAgICAgICAgOwoKICAgICAgICAKICAgIAogICAgCiAgICAgICAgICAgIHZhciBjaXJjbGVfbWFya2VyX2YxZWU2OTlmMDE4OTRhYzlhNzM3NzQ3ZDBlNDVmOThkID0gTC5jaXJjbGVNYXJrZXIoCiAgICAgICAgICAgICAgICBbNDMuNzM5MDE0NiwgLTc5LjUwNjk0MzZdLAogICAgICAgICAgICAgICAgeyJidWJibGluZ01vdXNlRXZlbnRzIjogdHJ1ZSwgImNvbG9yIjogImJsdWUiLCAiZGFzaEFycmF5IjogbnVsbCwgImRhc2hPZmZzZXQiOiBudWxsLCAiZmlsbCI6IHRydWUsICJmaWxsQ29sb3IiOiAiIzMxODZjYyIsICJmaWxsT3BhY2l0eSI6IDAuNywgImZpbGxSdWxlIjogImV2ZW5vZGQiLCAibGluZUNhcCI6ICJyb3VuZCIsICJsaW5lSm9pbiI6ICJyb3VuZCIsICJvcGFjaXR5IjogMS4wLCAicmFkaXVzIjogNSwgInN0cm9rZSI6IHRydWUsICJ3ZWlnaHQiOiAzfQogICAgICAgICAgICApLmFkZFRvKG1hcF85MmY5Zjk0MTQ2MmQ0YmQ2ODk1MDQ4MzdjMDIwOTM2OSk7CiAgICAgICAgCiAgICAKICAgICAgICB2YXIgcG9wdXBfZDcwYjA0MjU5ODcwNDRmODhiMTYwMjc0ZTZkMTcyZDAgPSBMLnBvcHVwKHsibWF4V2lkdGgiOiAiMTAwJSJ9KTsKCiAgICAgICAgCiAgICAgICAgICAgIHZhciBodG1sX2M4NjQ0MzY5ZTkwOTRjNTA4ZWM3MWU2ZjE2MzAzY2ZiID0gJChgPGRpdiBpZD0iaHRtbF9jODY0NDM2OWU5MDk0YzUwOGVjNzFlNmYxNjMwM2NmYiIgc3R5bGU9IndpZHRoOiAxMDAuMCU7IGhlaWdodDogMTAwLjAlOyI+RG93bnN2aWV3LCBOb3J0aCBZb3JrPC9kaXY+YClbMF07CiAgICAgICAgICAgIHBvcHVwX2Q3MGIwNDI1OTg3MDQ0Zjg4YjE2MDI3NGU2ZDE3MmQwLnNldENvbnRlbnQoaHRtbF9jODY0NDM2OWU5MDk0YzUwOGVjNzFlNmYxNjMwM2NmYik7CiAgICAgICAgCgogICAgICAgIGNpcmNsZV9tYXJrZXJfZjFlZTY5OWYwMTg5NGFjOWE3Mzc3NDdkMGU0NWY5OGQuYmluZFBvcHVwKHBvcHVwX2Q3MGIwNDI1OTg3MDQ0Zjg4YjE2MDI3NGU2ZDE3MmQwKQogICAgICAgIDsKCiAgICAgICAgCiAgICAKICAgIAogICAgICAgICAgICB2YXIgY2lyY2xlX21hcmtlcl8zZGRhM2ViMDRiNDk0ODk0YjlkNTQxZmNkMzU0ZDkzMSA9IEwuY2lyY2xlTWFya2VyKAogICAgICAgICAgICAgICAgWzQzLjY2ODk5ODUsIC03OS4zMTU1NzE1OTk5OTk5OF0sCiAgICAgICAgICAgICAgICB7ImJ1YmJsaW5nTW91c2VFdmVudHMiOiB0cnVlLCAiY29sb3IiOiAiYmx1ZSIsICJkYXNoQXJyYXkiOiBudWxsLCAiZGFzaE9mZnNldCI6IG51bGwsICJmaWxsIjogdHJ1ZSwgImZpbGxDb2xvciI6ICIjMzE4NmNjIiwgImZpbGxPcGFjaXR5IjogMC43LCAiZmlsbFJ1bGUiOiAiZXZlbm9kZCIsICJsaW5lQ2FwIjogInJvdW5kIiwgImxpbmVKb2luIjogInJvdW5kIiwgIm9wYWNpdHkiOiAxLjAsICJyYWRpdXMiOiA1LCAic3Ryb2tlIjogdHJ1ZSwgIndlaWdodCI6IDN9CiAgICAgICAgICAgICkuYWRkVG8obWFwXzkyZjlmOTQxNDYyZDRiZDY4OTUwNDgzN2MwMjA5MzY5KTsKICAgICAgICAKICAgIAogICAgICAgIHZhciBwb3B1cF8wYmY0Zjg2NzQ4NDE0NTNjODY3MzYwODhhMmRkMGJlZCA9IEwucG9wdXAoeyJtYXhXaWR0aCI6ICIxMDAlIn0pOwoKICAgICAgICAKICAgICAgICAgICAgdmFyIGh0bWxfMTZlNTRlNjgwM2ZmNDg5Yzk2YzU0NDgyMDMyMmE4NjQgPSAkKGA8ZGl2IGlkPSJodG1sXzE2ZTU0ZTY4MDNmZjQ4OWM5NmM1NDQ4MjAzMjJhODY0IiBzdHlsZT0id2lkdGg6IDEwMC4wJTsgaGVpZ2h0OiAxMDAuMCU7Ij5JbmRpYSBCYXphYXIsIFRoZSBCZWFjaGVzIFdlc3QsIEVhc3QgVG9yb250bzwvZGl2PmApWzBdOwogICAgICAgICAgICBwb3B1cF8wYmY0Zjg2NzQ4NDE0NTNjODY3MzYwODhhMmRkMGJlZC5zZXRDb250ZW50KGh0bWxfMTZlNTRlNjgwM2ZmNDg5Yzk2YzU0NDgyMDMyMmE4NjQpOwogICAgICAgIAoKICAgICAgICBjaXJjbGVfbWFya2VyXzNkZGEzZWIwNGI0OTQ4OTRiOWQ1NDFmY2QzNTRkOTMxLmJpbmRQb3B1cChwb3B1cF8wYmY0Zjg2NzQ4NDE0NTNjODY3MzYwODhhMmRkMGJlZCkKICAgICAgICA7CgogICAgICAgIAogICAgCiAgICAKICAgICAgICAgICAgdmFyIGNpcmNsZV9tYXJrZXJfMTZhMzRkMDc2ODBjNDExNWEwMTk4ZTNjNjQ3MTk4MzEgPSBMLmNpcmNsZU1hcmtlcigKICAgICAgICAgICAgICAgIFs0My42NDgxOTg1LCAtNzkuMzc5ODE2OTAwMDAwMDFdLAogICAgICAgICAgICAgICAgeyJidWJibGluZ01vdXNlRXZlbnRzIjogdHJ1ZSwgImNvbG9yIjogImJsdWUiLCAiZGFzaEFycmF5IjogbnVsbCwgImRhc2hPZmZzZXQiOiBudWxsLCAiZmlsbCI6IHRydWUsICJmaWxsQ29sb3IiOiAiIzMxODZjYyIsICJmaWxsT3BhY2l0eSI6IDAuNywgImZpbGxSdWxlIjogImV2ZW5vZGQiLCAibGluZUNhcCI6ICJyb3VuZCIsICJsaW5lSm9pbiI6ICJyb3VuZCIsICJvcGFjaXR5IjogMS4wLCAicmFkaXVzIjogNSwgInN0cm9rZSI6IHRydWUsICJ3ZWlnaHQiOiAzfQogICAgICAgICAgICApLmFkZFRvKG1hcF85MmY5Zjk0MTQ2MmQ0YmQ2ODk1MDQ4MzdjMDIwOTM2OSk7CiAgICAgICAgCiAgICAKICAgICAgICB2YXIgcG9wdXBfMTM2ZTQ1NzE0ZjlmNDU5Njg2MTJkZmRlZmY5ODc4YWYgPSBMLnBvcHVwKHsibWF4V2lkdGgiOiAiMTAwJSJ9KTsKCiAgICAgICAgCiAgICAgICAgICAgIHZhciBodG1sXzQxYTZlNTk3NDQxNTRiZjViMWM1ZThlNjQ1MWU4MDRiID0gJChgPGRpdiBpZD0iaHRtbF80MWE2ZTU5NzQ0MTU0YmY1YjFjNWU4ZTY0NTFlODA0YiIgc3R5bGU9IndpZHRoOiAxMDAuMCU7IGhlaWdodDogMTAwLjAlOyI+Q29tbWVyY2UgQ291cnQsIFZpY3RvcmlhIEhvdGVsLCBEb3dudG93biBUb3JvbnRvPC9kaXY+YClbMF07CiAgICAgICAgICAgIHBvcHVwXzEzNmU0NTcxNGY5ZjQ1OTY4NjEyZGZkZWZmOTg3OGFmLnNldENvbnRlbnQoaHRtbF80MWE2ZTU5NzQ0MTU0YmY1YjFjNWU4ZTY0NTFlODA0Yik7CiAgICAgICAgCgogICAgICAgIGNpcmNsZV9tYXJrZXJfMTZhMzRkMDc2ODBjNDExNWEwMTk4ZTNjNjQ3MTk4MzEuYmluZFBvcHVwKHBvcHVwXzEzNmU0NTcxNGY5ZjQ1OTY4NjEyZGZkZWZmOTg3OGFmKQogICAgICAgIDsKCiAgICAgICAgCiAgICAKICAgIAogICAgICAgICAgICB2YXIgY2lyY2xlX21hcmtlcl9mYzQ0NWVhOWY1ZWI0YjAyYTY5MDdkZjEzYTUyNTgxOSA9IEwuY2lyY2xlTWFya2VyKAogICAgICAgICAgICAgICAgWzQzLjcxMzc1NjIwMDAwMDAwNiwgLTc5LjQ5MDA3MzhdLAogICAgICAgICAgICAgICAgeyJidWJibGluZ01vdXNlRXZlbnRzIjogdHJ1ZSwgImNvbG9yIjogImJsdWUiLCAiZGFzaEFycmF5IjogbnVsbCwgImRhc2hPZmZzZXQiOiBudWxsLCAiZmlsbCI6IHRydWUsICJmaWxsQ29sb3IiOiAiIzMxODZjYyIsICJmaWxsT3BhY2l0eSI6IDAuNywgImZpbGxSdWxlIjogImV2ZW5vZGQiLCAibGluZUNhcCI6ICJyb3VuZCIsICJsaW5lSm9pbiI6ICJyb3VuZCIsICJvcGFjaXR5IjogMS4wLCAicmFkaXVzIjogNSwgInN0cm9rZSI6IHRydWUsICJ3ZWlnaHQiOiAzfQogICAgICAgICAgICApLmFkZFRvKG1hcF85MmY5Zjk0MTQ2MmQ0YmQ2ODk1MDQ4MzdjMDIwOTM2OSk7CiAgICAgICAgCiAgICAKICAgICAgICB2YXIgcG9wdXBfY2I5YjQyNzIzYTkxNDRlZWFhZDY5MGM3NWQzZTc5YWMgPSBMLnBvcHVwKHsibWF4V2lkdGgiOiAiMTAwJSJ9KTsKCiAgICAgICAgCiAgICAgICAgICAgIHZhciBodG1sX2UzZDRiM2NiODQ5YzQ2ZTZhM2JhZjIxMWZjZWJlZTY1ID0gJChgPGRpdiBpZD0iaHRtbF9lM2Q0YjNjYjg0OWM0NmU2YTNiYWYyMTFmY2ViZWU2NSIgc3R5bGU9IndpZHRoOiAxMDAuMCU7IGhlaWdodDogMTAwLjAlOyI+Tm9ydGggUGFyaywgTWFwbGUgTGVhZiBQYXJrLCBVcHdvb2QgUGFyaywgTm9ydGggWW9yazwvZGl2PmApWzBdOwogICAgICAgICAgICBwb3B1cF9jYjliNDI3MjNhOTE0NGVlYWFkNjkwYzc1ZDNlNzlhYy5zZXRDb250ZW50KGh0bWxfZTNkNGIzY2I4NDljNDZlNmEzYmFmMjExZmNlYmVlNjUpOwogICAgICAgIAoKICAgICAgICBjaXJjbGVfbWFya2VyX2ZjNDQ1ZWE5ZjVlYjRiMDJhNjkwN2RmMTNhNTI1ODE5LmJpbmRQb3B1cChwb3B1cF9jYjliNDI3MjNhOTE0NGVlYWFkNjkwYzc1ZDNlNzlhYykKICAgICAgICA7CgogICAgICAgIAogICAgCiAgICAKICAgICAgICAgICAgdmFyIGNpcmNsZV9tYXJrZXJfNWM3MTBlOTgwZmZkNDk1ZDkwODNkMGJiZTM1YjMxMjQgPSBMLmNpcmNsZU1hcmtlcigKICAgICAgICAgICAgICAgIFs0My43NTYzMDMzLCAtNzkuNTY1OTYzMjk5OTk5OTldLAogICAgICAgICAgICAgICAgeyJidWJibGluZ01vdXNlRXZlbnRzIjogdHJ1ZSwgImNvbG9yIjogImJsdWUiLCAiZGFzaEFycmF5IjogbnVsbCwgImRhc2hPZmZzZXQiOiBudWxsLCAiZmlsbCI6IHRydWUsICJmaWxsQ29sb3IiOiAiIzMxODZjYyIsICJmaWxsT3BhY2l0eSI6IDAuNywgImZpbGxSdWxlIjogImV2ZW5vZGQiLCAibGluZUNhcCI6ICJyb3VuZCIsICJsaW5lSm9pbiI6ICJyb3VuZCIsICJvcGFjaXR5IjogMS4wLCAicmFkaXVzIjogNSwgInN0cm9rZSI6IHRydWUsICJ3ZWlnaHQiOiAzfQogICAgICAgICAgICApLmFkZFRvKG1hcF85MmY5Zjk0MTQ2MmQ0YmQ2ODk1MDQ4MzdjMDIwOTM2OSk7CiAgICAgICAgCiAgICAKICAgICAgICB2YXIgcG9wdXBfZjZjNThhYzZlM2M4NDI3ZTg2MDExNWRkZDJiMjEyNDAgPSBMLnBvcHVwKHsibWF4V2lkdGgiOiAiMTAwJSJ9KTsKCiAgICAgICAgCiAgICAgICAgICAgIHZhciBodG1sXzFmNDA4NzZmOTlhNDQyMjg5OGY4OTM0Nzk3ZjRlZmY0ID0gJChgPGRpdiBpZD0iaHRtbF8xZjQwODc2Zjk5YTQ0MjI4OThmODkzNDc5N2Y0ZWZmNCIgc3R5bGU9IndpZHRoOiAxMDAuMCU7IGhlaWdodDogMTAwLjAlOyI+SHVtYmVyIFN1bW1pdCwgTm9ydGggWW9yazwvZGl2PmApWzBdOwogICAgICAgICAgICBwb3B1cF9mNmM1OGFjNmUzYzg0MjdlODYwMTE1ZGRkMmIyMTI0MC5zZXRDb250ZW50KGh0bWxfMWY0MDg3NmY5OWE0NDIyODk4Zjg5MzQ3OTdmNGVmZjQpOwogICAgICAgIAoKICAgICAgICBjaXJjbGVfbWFya2VyXzVjNzEwZTk4MGZmZDQ5NWQ5MDgzZDBiYmUzNWIzMTI0LmJpbmRQb3B1cChwb3B1cF9mNmM1OGFjNmUzYzg0MjdlODYwMTE1ZGRkMmIyMTI0MCkKICAgICAgICA7CgogICAgICAgIAogICAgCiAgICAKICAgICAgICAgICAgdmFyIGNpcmNsZV9tYXJrZXJfYzQwZDVhNjk3MWZhNGYxYzljYWJjNzRmODhjNjIwMGIgPSBMLmNpcmNsZU1hcmtlcigKICAgICAgICAgICAgICAgIFs0My43MTYzMTYsIC03OS4yMzk0NzYwOTk5OTk5OV0sCiAgICAgICAgICAgICAgICB7ImJ1YmJsaW5nTW91c2VFdmVudHMiOiB0cnVlLCAiY29sb3IiOiAiYmx1ZSIsICJkYXNoQXJyYXkiOiBudWxsLCAiZGFzaE9mZnNldCI6IG51bGwsICJmaWxsIjogdHJ1ZSwgImZpbGxDb2xvciI6ICIjMzE4NmNjIiwgImZpbGxPcGFjaXR5IjogMC43LCAiZmlsbFJ1bGUiOiAiZXZlbm9kZCIsICJsaW5lQ2FwIjogInJvdW5kIiwgImxpbmVKb2luIjogInJvdW5kIiwgIm9wYWNpdHkiOiAxLjAsICJyYWRpdXMiOiA1LCAic3Ryb2tlIjogdHJ1ZSwgIndlaWdodCI6IDN9CiAgICAgICAgICAgICkuYWRkVG8obWFwXzkyZjlmOTQxNDYyZDRiZDY4OTUwNDgzN2MwMjA5MzY5KTsKICAgICAgICAKICAgIAogICAgICAgIHZhciBwb3B1cF84ZmQ4NWMzNWQ0NzU0NGExYjE4NjA4Njg3OTQyMjNlYiA9IEwucG9wdXAoeyJtYXhXaWR0aCI6ICIxMDAlIn0pOwoKICAgICAgICAKICAgICAgICAgICAgdmFyIGh0bWxfYzIwOTZjNDcxZGYzNGIzMmJiODcwYWQyMzUwN2VjYjMgPSAkKGA8ZGl2IGlkPSJodG1sX2MyMDk2YzQ3MWRmMzRiMzJiYjg3MGFkMjM1MDdlY2IzIiBzdHlsZT0id2lkdGg6IDEwMC4wJTsgaGVpZ2h0OiAxMDAuMCU7Ij5DbGlmZnNpZGUsIENsaWZmY3Jlc3QsIFNjYXJib3JvdWdoIFZpbGxhZ2UgV2VzdCwgU2NhcmJvcm91Z2g8L2Rpdj5gKVswXTsKICAgICAgICAgICAgcG9wdXBfOGZkODVjMzVkNDc1NDRhMWIxODYwODY4Nzk0MjIzZWIuc2V0Q29udGVudChodG1sX2MyMDk2YzQ3MWRmMzRiMzJiYjg3MGFkMjM1MDdlY2IzKTsKICAgICAgICAKCiAgICAgICAgY2lyY2xlX21hcmtlcl9jNDBkNWE2OTcxZmE0ZjFjOWNhYmM3NGY4OGM2MjAwYi5iaW5kUG9wdXAocG9wdXBfOGZkODVjMzVkNDc1NDRhMWIxODYwODY4Nzk0MjIzZWIpCiAgICAgICAgOwoKICAgICAgICAKICAgIAogICAgCiAgICAgICAgICAgIHZhciBjaXJjbGVfbWFya2VyX2IwNmUxYzZiMWEwZTQ2NGI5NTdlYjRmZmRhZTRmMGU4ID0gTC5jaXJjbGVNYXJrZXIoCiAgICAgICAgICAgICAgICBbNDMuNzg5MDUzLCAtNzkuNDA4NDkyNzk5OTk5OTldLAogICAgICAgICAgICAgICAgeyJidWJibGluZ01vdXNlRXZlbnRzIjogdHJ1ZSwgImNvbG9yIjogImJsdWUiLCAiZGFzaEFycmF5IjogbnVsbCwgImRhc2hPZmZzZXQiOiBudWxsLCAiZmlsbCI6IHRydWUsICJmaWxsQ29sb3IiOiAiIzMxODZjYyIsICJmaWxsT3BhY2l0eSI6IDAuNywgImZpbGxSdWxlIjogImV2ZW5vZGQiLCAibGluZUNhcCI6ICJyb3VuZCIsICJsaW5lSm9pbiI6ICJyb3VuZCIsICJvcGFjaXR5IjogMS4wLCAicmFkaXVzIjogNSwgInN0cm9rZSI6IHRydWUsICJ3ZWlnaHQiOiAzfQogICAgICAgICAgICApLmFkZFRvKG1hcF85MmY5Zjk0MTQ2MmQ0YmQ2ODk1MDQ4MzdjMDIwOTM2OSk7CiAgICAgICAgCiAgICAKICAgICAgICB2YXIgcG9wdXBfYzg2OWJmZjgxYmM0NDFjYWI5OWQ3MTc3MWFmYzQ5NDQgPSBMLnBvcHVwKHsibWF4V2lkdGgiOiAiMTAwJSJ9KTsKCiAgICAgICAgCiAgICAgICAgICAgIHZhciBodG1sX2FjOGFhMDFjM2FlMDRmYTU5ZmU3ZDQ3YjBlNzU3YWFjID0gJChgPGRpdiBpZD0iaHRtbF9hYzhhYTAxYzNhZTA0ZmE1OWZlN2Q0N2IwZTc1N2FhYyIgc3R5bGU9IndpZHRoOiAxMDAuMCU7IGhlaWdodDogMTAwLjAlOyI+V2lsbG93ZGFsZSwgTmV3dG9uYnJvb2ssIE5vcnRoIFlvcms8L2Rpdj5gKVswXTsKICAgICAgICAgICAgcG9wdXBfYzg2OWJmZjgxYmM0NDFjYWI5OWQ3MTc3MWFmYzQ5NDQuc2V0Q29udGVudChodG1sX2FjOGFhMDFjM2FlMDRmYTU5ZmU3ZDQ3YjBlNzU3YWFjKTsKICAgICAgICAKCiAgICAgICAgY2lyY2xlX21hcmtlcl9iMDZlMWM2YjFhMGU0NjRiOTU3ZWI0ZmZkYWU0ZjBlOC5iaW5kUG9wdXAocG9wdXBfYzg2OWJmZjgxYmM0NDFjYWI5OWQ3MTc3MWFmYzQ5NDQpCiAgICAgICAgOwoKICAgICAgICAKICAgIAogICAgCiAgICAgICAgICAgIHZhciBjaXJjbGVfbWFya2VyXzc0OGUwMjQ5MmU5YjRhYWI4N2Y1ZTkyZjc0M2QwZmE0ID0gTC5jaXJjbGVNYXJrZXIoCiAgICAgICAgICAgICAgICBbNDMuNzI4NDk2NCwgLTc5LjQ5NTY5NzQwMDAwMDAxXSwKICAgICAgICAgICAgICAgIHsiYnViYmxpbmdNb3VzZUV2ZW50cyI6IHRydWUsICJjb2xvciI6ICJibHVlIiwgImRhc2hBcnJheSI6IG51bGwsICJkYXNoT2Zmc2V0IjogbnVsbCwgImZpbGwiOiB0cnVlLCAiZmlsbENvbG9yIjogIiMzMTg2Y2MiLCAiZmlsbE9wYWNpdHkiOiAwLjcsICJmaWxsUnVsZSI6ICJldmVub2RkIiwgImxpbmVDYXAiOiAicm91bmQiLCAibGluZUpvaW4iOiAicm91bmQiLCAib3BhY2l0eSI6IDEuMCwgInJhZGl1cyI6IDUsICJzdHJva2UiOiB0cnVlLCAid2VpZ2h0IjogM30KICAgICAgICAgICAgKS5hZGRUbyhtYXBfOTJmOWY5NDE0NjJkNGJkNjg5NTA0ODM3YzAyMDkzNjkpOwogICAgICAgIAogICAgCiAgICAgICAgdmFyIHBvcHVwXzU0NTc2OWVkYTJmOTQ1NzBiOGZlNjhjZjcyN2Q1MTYwID0gTC5wb3B1cCh7Im1heFdpZHRoIjogIjEwMCUifSk7CgogICAgICAgIAogICAgICAgICAgICB2YXIgaHRtbF80MjljNDQ3NjBjMzQ0MThmYWJmYmY5MGM0OWU5YWEyNyA9ICQoYDxkaXYgaWQ9Imh0bWxfNDI5YzQ0NzYwYzM0NDE4ZmFiZmJmOTBjNDllOWFhMjciIHN0eWxlPSJ3aWR0aDogMTAwLjAlOyBoZWlnaHQ6IDEwMC4wJTsiPkRvd25zdmlldywgTm9ydGggWW9yazwvZGl2PmApWzBdOwogICAgICAgICAgICBwb3B1cF81NDU3NjllZGEyZjk0NTcwYjhmZTY4Y2Y3MjdkNTE2MC5zZXRDb250ZW50KGh0bWxfNDI5YzQ0NzYwYzM0NDE4ZmFiZmJmOTBjNDllOWFhMjcpOwogICAgICAgIAoKICAgICAgICBjaXJjbGVfbWFya2VyXzc0OGUwMjQ5MmU5YjRhYWI4N2Y1ZTkyZjc0M2QwZmE0LmJpbmRQb3B1cChwb3B1cF81NDU3NjllZGEyZjk0NTcwYjhmZTY4Y2Y3MjdkNTE2MCkKICAgICAgICA7CgogICAgICAgIAogICAgCiAgICAKICAgICAgICAgICAgdmFyIGNpcmNsZV9tYXJrZXJfYmFmYTUzZjkwZmEwNDM1OTkwNTE2NGVjZTBjMWMzOTMgPSBMLmNpcmNsZU1hcmtlcigKICAgICAgICAgICAgICAgIFs0My42NTk1MjU1LCAtNzkuMzQwOTIzXSwKICAgICAgICAgICAgICAgIHsiYnViYmxpbmdNb3VzZUV2ZW50cyI6IHRydWUsICJjb2xvciI6ICJibHVlIiwgImRhc2hBcnJheSI6IG51bGwsICJkYXNoT2Zmc2V0IjogbnVsbCwgImZpbGwiOiB0cnVlLCAiZmlsbENvbG9yIjogIiMzMTg2Y2MiLCAiZmlsbE9wYWNpdHkiOiAwLjcsICJmaWxsUnVsZSI6ICJldmVub2RkIiwgImxpbmVDYXAiOiAicm91bmQiLCAibGluZUpvaW4iOiAicm91bmQiLCAib3BhY2l0eSI6IDEuMCwgInJhZGl1cyI6IDUsICJzdHJva2UiOiB0cnVlLCAid2VpZ2h0IjogM30KICAgICAgICAgICAgKS5hZGRUbyhtYXBfOTJmOWY5NDE0NjJkNGJkNjg5NTA0ODM3YzAyMDkzNjkpOwogICAgICAgIAogICAgCiAgICAgICAgdmFyIHBvcHVwXzAyMTk3MzQ2NjM2NzRmMDY4ZGU3Y2I2MDk0OGM0Nzg0ID0gTC5wb3B1cCh7Im1heFdpZHRoIjogIjEwMCUifSk7CgogICAgICAgIAogICAgICAgICAgICB2YXIgaHRtbF9iNWJmYTZjNTM3OTc0NGRlOTFhMzU1ODhjZmRjNmY2NiA9ICQoYDxkaXYgaWQ9Imh0bWxfYjViZmE2YzUzNzk3NDRkZTkxYTM1NTg4Y2ZkYzZmNjYiIHN0eWxlPSJ3aWR0aDogMTAwLjAlOyBoZWlnaHQ6IDEwMC4wJTsiPlN0dWRpbyBEaXN0cmljdCwgRWFzdCBUb3JvbnRvPC9kaXY+YClbMF07CiAgICAgICAgICAgIHBvcHVwXzAyMTk3MzQ2NjM2NzRmMDY4ZGU3Y2I2MDk0OGM0Nzg0LnNldENvbnRlbnQoaHRtbF9iNWJmYTZjNTM3OTc0NGRlOTFhMzU1ODhjZmRjNmY2Nik7CiAgICAgICAgCgogICAgICAgIGNpcmNsZV9tYXJrZXJfYmFmYTUzZjkwZmEwNDM1OTkwNTE2NGVjZTBjMWMzOTMuYmluZFBvcHVwKHBvcHVwXzAyMTk3MzQ2NjM2NzRmMDY4ZGU3Y2I2MDk0OGM0Nzg0KQogICAgICAgIDsKCiAgICAgICAgCiAgICAKICAgIAogICAgICAgICAgICB2YXIgY2lyY2xlX21hcmtlcl8wODQ3ZTcyNzhlMDg0OGQ1YTg2OTMzMTkyYThiYjBhMSA9IEwuY2lyY2xlTWFya2VyKAogICAgICAgICAgICAgICAgWzQzLjczMzI4MjUsIC03OS40MTk3NDk3XSwKICAgICAgICAgICAgICAgIHsiYnViYmxpbmdNb3VzZUV2ZW50cyI6IHRydWUsICJjb2xvciI6ICJibHVlIiwgImRhc2hBcnJheSI6IG51bGwsICJkYXNoT2Zmc2V0IjogbnVsbCwgImZpbGwiOiB0cnVlLCAiZmlsbENvbG9yIjogIiMzMTg2Y2MiLCAiZmlsbE9wYWNpdHkiOiAwLjcsICJmaWxsUnVsZSI6ICJldmVub2RkIiwgImxpbmVDYXAiOiAicm91bmQiLCAibGluZUpvaW4iOiAicm91bmQiLCAib3BhY2l0eSI6IDEuMCwgInJhZGl1cyI6IDUsICJzdHJva2UiOiB0cnVlLCAid2VpZ2h0IjogM30KICAgICAgICAgICAgKS5hZGRUbyhtYXBfOTJmOWY5NDE0NjJkNGJkNjg5NTA0ODM3YzAyMDkzNjkpOwogICAgICAgIAogICAgCiAgICAgICAgdmFyIHBvcHVwX2FiMjBjNDcxYzk4MzRhMGM4MjQxNzJhZTUwY2E4MmQ2ID0gTC5wb3B1cCh7Im1heFdpZHRoIjogIjEwMCUifSk7CgogICAgICAgIAogICAgICAgICAgICB2YXIgaHRtbF84MDAxNTVlZmQ0Y2M0NTQ2OGI0YTcyYTllODE0YWMwZCA9ICQoYDxkaXYgaWQ9Imh0bWxfODAwMTU1ZWZkNGNjNDU0NjhiNGE3MmE5ZTgxNGFjMGQiIHN0eWxlPSJ3aWR0aDogMTAwLjAlOyBoZWlnaHQ6IDEwMC4wJTsiPkJlZGZvcmQgUGFyaywgTGF3cmVuY2UgTWFub3IgRWFzdCwgTm9ydGggWW9yazwvZGl2PmApWzBdOwogICAgICAgICAgICBwb3B1cF9hYjIwYzQ3MWM5ODM0YTBjODI0MTcyYWU1MGNhODJkNi5zZXRDb250ZW50KGh0bWxfODAwMTU1ZWZkNGNjNDU0NjhiNGE3MmE5ZTgxNGFjMGQpOwogICAgICAgIAoKICAgICAgICBjaXJjbGVfbWFya2VyXzA4NDdlNzI3OGUwODQ4ZDVhODY5MzMxOTJhOGJiMGExLmJpbmRQb3B1cChwb3B1cF9hYjIwYzQ3MWM5ODM0YTBjODI0MTcyYWU1MGNhODJkNikKICAgICAgICA7CgogICAgICAgIAogICAgCiAgICAKICAgICAgICAgICAgdmFyIGNpcmNsZV9tYXJrZXJfMzlkZGE0ZjljZGY2NDEyYjllNWRhZjUyMjQ1YWRkYTkgPSBMLmNpcmNsZU1hcmtlcigKICAgICAgICAgICAgICAgIFs0My42OTExMTU4LCAtNzkuNDc2MDEzMjk5OTk5OTldLAogICAgICAgICAgICAgICAgeyJidWJibGluZ01vdXNlRXZlbnRzIjogdHJ1ZSwgImNvbG9yIjogImJsdWUiLCAiZGFzaEFycmF5IjogbnVsbCwgImRhc2hPZmZzZXQiOiBudWxsLCAiZmlsbCI6IHRydWUsICJmaWxsQ29sb3IiOiAiIzMxODZjYyIsICJmaWxsT3BhY2l0eSI6IDAuNywgImZpbGxSdWxlIjogImV2ZW5vZGQiLCAibGluZUNhcCI6ICJyb3VuZCIsICJsaW5lSm9pbiI6ICJyb3VuZCIsICJvcGFjaXR5IjogMS4wLCAicmFkaXVzIjogNSwgInN0cm9rZSI6IHRydWUsICJ3ZWlnaHQiOiAzfQogICAgICAgICAgICApLmFkZFRvKG1hcF85MmY5Zjk0MTQ2MmQ0YmQ2ODk1MDQ4MzdjMDIwOTM2OSk7CiAgICAgICAgCiAgICAKICAgICAgICB2YXIgcG9wdXBfNzE5NGVmODdkZjFmNDdlNThkODQzYjI1ZTg3NDRiMWQgPSBMLnBvcHVwKHsibWF4V2lkdGgiOiAiMTAwJSJ9KTsKCiAgICAgICAgCiAgICAgICAgICAgIHZhciBodG1sX2EyMWU5NWI1NTY1NjQwOTNiMDZmYmU5M2U4ZmM4MzFjID0gJChgPGRpdiBpZD0iaHRtbF9hMjFlOTViNTU2NTY0MDkzYjA2ZmJlOTNlOGZjODMxYyIgc3R5bGU9IndpZHRoOiAxMDAuMCU7IGhlaWdodDogMTAwLjAlOyI+RGVsIFJheSwgTW91bnQgRGVubmlzLCBLZWVsc2RhbGUgYW5kIFNpbHZlcnRob3JuLCBZb3JrPC9kaXY+YClbMF07CiAgICAgICAgICAgIHBvcHVwXzcxOTRlZjg3ZGYxZjQ3ZTU4ZDg0M2IyNWU4NzQ0YjFkLnNldENvbnRlbnQoaHRtbF9hMjFlOTViNTU2NTY0MDkzYjA2ZmJlOTNlOGZjODMxYyk7CiAgICAgICAgCgogICAgICAgIGNpcmNsZV9tYXJrZXJfMzlkZGE0ZjljZGY2NDEyYjllNWRhZjUyMjQ1YWRkYTkuYmluZFBvcHVwKHBvcHVwXzcxOTRlZjg3ZGYxZjQ3ZTU4ZDg0M2IyNWU4NzQ0YjFkKQogICAgICAgIDsKCiAgICAgICAgCiAgICAKICAgIAogICAgICAgICAgICB2YXIgY2lyY2xlX21hcmtlcl84NjRiZjk2ODZiYjc0MGIyYTJjZGNkNTZkZWZlYjRhZiA9IEwuY2lyY2xlTWFya2VyKAogICAgICAgICAgICAgICAgWzQzLjcyNDc2NTksIC03OS41MzIyNDI0MDAwMDAwMl0sCiAgICAgICAgICAgICAgICB7ImJ1YmJsaW5nTW91c2VFdmVudHMiOiB0cnVlLCAiY29sb3IiOiAiYmx1ZSIsICJkYXNoQXJyYXkiOiBudWxsLCAiZGFzaE9mZnNldCI6IG51bGwsICJmaWxsIjogdHJ1ZSwgImZpbGxDb2xvciI6ICIjMzE4NmNjIiwgImZpbGxPcGFjaXR5IjogMC43LCAiZmlsbFJ1bGUiOiAiZXZlbm9kZCIsICJsaW5lQ2FwIjogInJvdW5kIiwgImxpbmVKb2luIjogInJvdW5kIiwgIm9wYWNpdHkiOiAxLjAsICJyYWRpdXMiOiA1LCAic3Ryb2tlIjogdHJ1ZSwgIndlaWdodCI6IDN9CiAgICAgICAgICAgICkuYWRkVG8obWFwXzkyZjlmOTQxNDYyZDRiZDY4OTUwNDgzN2MwMjA5MzY5KTsKICAgICAgICAKICAgIAogICAgICAgIHZhciBwb3B1cF82YTZhN2U1MzZjYWE0ZmE4OTAyYjkyYTA0NDEzMjc0YSA9IEwucG9wdXAoeyJtYXhXaWR0aCI6ICIxMDAlIn0pOwoKICAgICAgICAKICAgICAgICAgICAgdmFyIGh0bWxfNmQ0NDRlNDU4Y2Q3NDAyYzhjMzQzMGMwY2VkYWEwYjYgPSAkKGA8ZGl2IGlkPSJodG1sXzZkNDQ0ZTQ1OGNkNzQwMmM4YzM0MzBjMGNlZGFhMGI2IiBzdHlsZT0id2lkdGg6IDEwMC4wJTsgaGVpZ2h0OiAxMDAuMCU7Ij5IdW1iZXJsZWEsIEVtZXJ5LCBOb3J0aCBZb3JrPC9kaXY+YClbMF07CiAgICAgICAgICAgIHBvcHVwXzZhNmE3ZTUzNmNhYTRmYTg5MDJiOTJhMDQ0MTMyNzRhLnNldENvbnRlbnQoaHRtbF82ZDQ0NGU0NThjZDc0MDJjOGMzNDMwYzBjZWRhYTBiNik7CiAgICAgICAgCgogICAgICAgIGNpcmNsZV9tYXJrZXJfODY0YmY5Njg2YmI3NDBiMmEyY2RjZDU2ZGVmZWI0YWYuYmluZFBvcHVwKHBvcHVwXzZhNmE3ZTUzNmNhYTRmYTg5MDJiOTJhMDQ0MTMyNzRhKQogICAgICAgIDsKCiAgICAgICAgCiAgICAKICAgIAogICAgICAgICAgICB2YXIgY2lyY2xlX21hcmtlcl9hZTU2NmNlZmI1MzI0N2Q2OGMyYjM5OWRmMzQyMTU2MiA9IEwuY2lyY2xlTWFya2VyKAogICAgICAgICAgICAgICAgWzQzLjY5MjY1NzAwMDAwMDAwNCwgLTc5LjI2NDg0ODFdLAogICAgICAgICAgICAgICAgeyJidWJibGluZ01vdXNlRXZlbnRzIjogdHJ1ZSwgImNvbG9yIjogImJsdWUiLCAiZGFzaEFycmF5IjogbnVsbCwgImRhc2hPZmZzZXQiOiBudWxsLCAiZmlsbCI6IHRydWUsICJmaWxsQ29sb3IiOiAiIzMxODZjYyIsICJmaWxsT3BhY2l0eSI6IDAuNywgImZpbGxSdWxlIjogImV2ZW5vZGQiLCAibGluZUNhcCI6ICJyb3VuZCIsICJsaW5lSm9pbiI6ICJyb3VuZCIsICJvcGFjaXR5IjogMS4wLCAicmFkaXVzIjogNSwgInN0cm9rZSI6IHRydWUsICJ3ZWlnaHQiOiAzfQogICAgICAgICAgICApLmFkZFRvKG1hcF85MmY5Zjk0MTQ2MmQ0YmQ2ODk1MDQ4MzdjMDIwOTM2OSk7CiAgICAgICAgCiAgICAKICAgICAgICB2YXIgcG9wdXBfMWJmMTViMjFiMmY0NGJiNmIwZTJjMDMwM2U3NDM3MWEgPSBMLnBvcHVwKHsibWF4V2lkdGgiOiAiMTAwJSJ9KTsKCiAgICAgICAgCiAgICAgICAgICAgIHZhciBodG1sX2Q3MGMwNjczNDRkMzQ0ZmM4M2Q1YmQ5ZjQzYzQ0NGQ2ID0gJChgPGRpdiBpZD0iaHRtbF9kNzBjMDY3MzQ0ZDM0NGZjODNkNWJkOWY0M2M0NDRkNiIgc3R5bGU9IndpZHRoOiAxMDAuMCU7IGhlaWdodDogMTAwLjAlOyI+QmlyY2ggQ2xpZmYsIENsaWZmc2lkZSBXZXN0LCBTY2FyYm9yb3VnaDwvZGl2PmApWzBdOwogICAgICAgICAgICBwb3B1cF8xYmYxNWIyMWIyZjQ0YmI2YjBlMmMwMzAzZTc0MzcxYS5zZXRDb250ZW50KGh0bWxfZDcwYzA2NzM0NGQzNDRmYzgzZDViZDlmNDNjNDQ0ZDYpOwogICAgICAgIAoKICAgICAgICBjaXJjbGVfbWFya2VyX2FlNTY2Y2VmYjUzMjQ3ZDY4YzJiMzk5ZGYzNDIxNTYyLmJpbmRQb3B1cChwb3B1cF8xYmYxNWIyMWIyZjQ0YmI2YjBlMmMwMzAzZTc0MzcxYSkKICAgICAgICA7CgogICAgICAgIAogICAgCiAgICAKICAgICAgICAgICAgdmFyIGNpcmNsZV9tYXJrZXJfMzczZTg2ZmQ0YjJhNGI4MWFkNTJmZmE2YmU3ZThkMGIgPSBMLmNpcmNsZU1hcmtlcigKICAgICAgICAgICAgICAgIFs0My43NzAxMTk5LCAtNzkuNDA4NDkyNzk5OTk5OTldLAogICAgICAgICAgICAgICAgeyJidWJibGluZ01vdXNlRXZlbnRzIjogdHJ1ZSwgImNvbG9yIjogImJsdWUiLCAiZGFzaEFycmF5IjogbnVsbCwgImRhc2hPZmZzZXQiOiBudWxsLCAiZmlsbCI6IHRydWUsICJmaWxsQ29sb3IiOiAiIzMxODZjYyIsICJmaWxsT3BhY2l0eSI6IDAuNywgImZpbGxSdWxlIjogImV2ZW5vZGQiLCAibGluZUNhcCI6ICJyb3VuZCIsICJsaW5lSm9pbiI6ICJyb3VuZCIsICJvcGFjaXR5IjogMS4wLCAicmFkaXVzIjogNSwgInN0cm9rZSI6IHRydWUsICJ3ZWlnaHQiOiAzfQogICAgICAgICAgICApLmFkZFRvKG1hcF85MmY5Zjk0MTQ2MmQ0YmQ2ODk1MDQ4MzdjMDIwOTM2OSk7CiAgICAgICAgCiAgICAKICAgICAgICB2YXIgcG9wdXBfMTIzYTBmMmUyOGYzNDlmYTllMzRlMGIyNGU5NDJiMzcgPSBMLnBvcHVwKHsibWF4V2lkdGgiOiAiMTAwJSJ9KTsKCiAgICAgICAgCiAgICAgICAgICAgIHZhciBodG1sX2FmNzAyMThkOWM3MjRjYWZhOTZlMGJjODdlZGZhZmQyID0gJChgPGRpdiBpZD0iaHRtbF9hZjcwMjE4ZDljNzI0Y2FmYTk2ZTBiYzg3ZWRmYWZkMiIgc3R5bGU9IndpZHRoOiAxMDAuMCU7IGhlaWdodDogMTAwLjAlOyI+V2lsbG93ZGFsZSwgV2lsbG93ZGFsZSBFYXN0LCBOb3J0aCBZb3JrPC9kaXY+YClbMF07CiAgICAgICAgICAgIHBvcHVwXzEyM2EwZjJlMjhmMzQ5ZmE5ZTM0ZTBiMjRlOTQyYjM3LnNldENvbnRlbnQoaHRtbF9hZjcwMjE4ZDljNzI0Y2FmYTk2ZTBiYzg3ZWRmYWZkMik7CiAgICAgICAgCgogICAgICAgIGNpcmNsZV9tYXJrZXJfMzczZTg2ZmQ0YjJhNGI4MWFkNTJmZmE2YmU3ZThkMGIuYmluZFBvcHVwKHBvcHVwXzEyM2EwZjJlMjhmMzQ5ZmE5ZTM0ZTBiMjRlOTQyYjM3KQogICAgICAgIDsKCiAgICAgICAgCiAgICAKICAgIAogICAgICAgICAgICB2YXIgY2lyY2xlX21hcmtlcl8wMWY3YjgxMWRkMGU0NGIxOWViNWFlZTY3MDVmMGQxOCA9IEwuY2lyY2xlTWFya2VyKAogICAgICAgICAgICAgICAgWzQzLjc2MTYzMTMsIC03OS41MjA5OTk0MDAwMDAwMV0sCiAgICAgICAgICAgICAgICB7ImJ1YmJsaW5nTW91c2VFdmVudHMiOiB0cnVlLCAiY29sb3IiOiAiYmx1ZSIsICJkYXNoQXJyYXkiOiBudWxsLCAiZGFzaE9mZnNldCI6IG51bGwsICJmaWxsIjogdHJ1ZSwgImZpbGxDb2xvciI6ICIjMzE4NmNjIiwgImZpbGxPcGFjaXR5IjogMC43LCAiZmlsbFJ1bGUiOiAiZXZlbm9kZCIsICJsaW5lQ2FwIjogInJvdW5kIiwgImxpbmVKb2luIjogInJvdW5kIiwgIm9wYWNpdHkiOiAxLjAsICJyYWRpdXMiOiA1LCAic3Ryb2tlIjogdHJ1ZSwgIndlaWdodCI6IDN9CiAgICAgICAgICAgICkuYWRkVG8obWFwXzkyZjlmOTQxNDYyZDRiZDY4OTUwNDgzN2MwMjA5MzY5KTsKICAgICAgICAKICAgIAogICAgICAgIHZhciBwb3B1cF9lMTc5MjA4M2JkODU0MTgwYjI1ODdiMDI0ZmZlNmVkMyA9IEwucG9wdXAoeyJtYXhXaWR0aCI6ICIxMDAlIn0pOwoKICAgICAgICAKICAgICAgICAgICAgdmFyIGh0bWxfYmIxMzgyMmRiM2NkNDVmNzllN2E3NmYxNzcwMmY0MGIgPSAkKGA8ZGl2IGlkPSJodG1sX2JiMTM4MjJkYjNjZDQ1Zjc5ZTdhNzZmMTc3MDJmNDBiIiBzdHlsZT0id2lkdGg6IDEwMC4wJTsgaGVpZ2h0OiAxMDAuMCU7Ij5Eb3duc3ZpZXcsIE5vcnRoIFlvcms8L2Rpdj5gKVswXTsKICAgICAgICAgICAgcG9wdXBfZTE3OTIwODNiZDg1NDE4MGIyNTg3YjAyNGZmZTZlZDMuc2V0Q29udGVudChodG1sX2JiMTM4MjJkYjNjZDQ1Zjc5ZTdhNzZmMTc3MDJmNDBiKTsKICAgICAgICAKCiAgICAgICAgY2lyY2xlX21hcmtlcl8wMWY3YjgxMWRkMGU0NGIxOWViNWFlZTY3MDVmMGQxOC5iaW5kUG9wdXAocG9wdXBfZTE3OTIwODNiZDg1NDE4MGIyNTg3YjAyNGZmZTZlZDMpCiAgICAgICAgOwoKICAgICAgICAKICAgIAogICAgCiAgICAgICAgICAgIHZhciBjaXJjbGVfbWFya2VyXzJlODlkNDI0Y2U0YzQyMzRiNDNkY2VkYjQ4MzViOTM5ID0gTC5jaXJjbGVNYXJrZXIoCiAgICAgICAgICAgICAgICBbNDMuNzI4MDIwNSwgLTc5LjM4ODc5MDFdLAogICAgICAgICAgICAgICAgeyJidWJibGluZ01vdXNlRXZlbnRzIjogdHJ1ZSwgImNvbG9yIjogImJsdWUiLCAiZGFzaEFycmF5IjogbnVsbCwgImRhc2hPZmZzZXQiOiBudWxsLCAiZmlsbCI6IHRydWUsICJmaWxsQ29sb3IiOiAiIzMxODZjYyIsICJmaWxsT3BhY2l0eSI6IDAuNywgImZpbGxSdWxlIjogImV2ZW5vZGQiLCAibGluZUNhcCI6ICJyb3VuZCIsICJsaW5lSm9pbiI6ICJyb3VuZCIsICJvcGFjaXR5IjogMS4wLCAicmFkaXVzIjogNSwgInN0cm9rZSI6IHRydWUsICJ3ZWlnaHQiOiAzfQogICAgICAgICAgICApLmFkZFRvKG1hcF85MmY5Zjk0MTQ2MmQ0YmQ2ODk1MDQ4MzdjMDIwOTM2OSk7CiAgICAgICAgCiAgICAKICAgICAgICB2YXIgcG9wdXBfMDQxYzI1MTA2NDE0NDliYzhmMzVmNmM5ODlkNzgwNmEgPSBMLnBvcHVwKHsibWF4V2lkdGgiOiAiMTAwJSJ9KTsKCiAgICAgICAgCiAgICAgICAgICAgIHZhciBodG1sX2FkOGZlNTRkZmYxMjQ2MTViYTM2YzI3MGRhNjg5NWI0ID0gJChgPGRpdiBpZD0iaHRtbF9hZDhmZTU0ZGZmMTI0NjE1YmEzNmMyNzBkYTY4OTViNCIgc3R5bGU9IndpZHRoOiAxMDAuMCU7IGhlaWdodDogMTAwLjAlOyI+TGF3cmVuY2UgUGFyaywgQ2VudHJhbCBUb3JvbnRvPC9kaXY+YClbMF07CiAgICAgICAgICAgIHBvcHVwXzA0MWMyNTEwNjQxNDQ5YmM4ZjM1ZjZjOTg5ZDc4MDZhLnNldENvbnRlbnQoaHRtbF9hZDhmZTU0ZGZmMTI0NjE1YmEzNmMyNzBkYTY4OTViNCk7CiAgICAgICAgCgogICAgICAgIGNpcmNsZV9tYXJrZXJfMmU4OWQ0MjRjZTRjNDIzNGI0M2RjZWRiNDgzNWI5MzkuYmluZFBvcHVwKHBvcHVwXzA0MWMyNTEwNjQxNDQ5YmM4ZjM1ZjZjOTg5ZDc4MDZhKQogICAgICAgIDsKCiAgICAgICAgCiAgICAKICAgIAogICAgICAgICAgICB2YXIgY2lyY2xlX21hcmtlcl81NWYwZDEzYzU4YWU0MmIzYWEyMzBkZTg0ZmU4NGIxOCA9IEwuY2lyY2xlTWFya2VyKAogICAgICAgICAgICAgICAgWzQzLjcxMTY5NDgsIC03OS40MTY5MzU1OTk5OTk5OV0sCiAgICAgICAgICAgICAgICB7ImJ1YmJsaW5nTW91c2VFdmVudHMiOiB0cnVlLCAiY29sb3IiOiAiYmx1ZSIsICJkYXNoQXJyYXkiOiBudWxsLCAiZGFzaE9mZnNldCI6IG51bGwsICJmaWxsIjogdHJ1ZSwgImZpbGxDb2xvciI6ICIjMzE4NmNjIiwgImZpbGxPcGFjaXR5IjogMC43LCAiZmlsbFJ1bGUiOiAiZXZlbm9kZCIsICJsaW5lQ2FwIjogInJvdW5kIiwgImxpbmVKb2luIjogInJvdW5kIiwgIm9wYWNpdHkiOiAxLjAsICJyYWRpdXMiOiA1LCAic3Ryb2tlIjogdHJ1ZSwgIndlaWdodCI6IDN9CiAgICAgICAgICAgICkuYWRkVG8obWFwXzkyZjlmOTQxNDYyZDRiZDY4OTUwNDgzN2MwMjA5MzY5KTsKICAgICAgICAKICAgIAogICAgICAgIHZhciBwb3B1cF84MGE0Y2E3NTk5ZDE0MjM3YTVhYjU2NTIyMTZkNjNiNiA9IEwucG9wdXAoeyJtYXhXaWR0aCI6ICIxMDAlIn0pOwoKICAgICAgICAKICAgICAgICAgICAgdmFyIGh0bWxfZjdlNGQyOWZjYWUxNGYyM2FlMTc0MzA5MGUzYzU2YTggPSAkKGA8ZGl2IGlkPSJodG1sX2Y3ZTRkMjlmY2FlMTRmMjNhZTE3NDMwOTBlM2M1NmE4IiBzdHlsZT0id2lkdGg6IDEwMC4wJTsgaGVpZ2h0OiAxMDAuMCU7Ij5Sb3NlbGF3biwgQ2VudHJhbCBUb3JvbnRvPC9kaXY+YClbMF07CiAgICAgICAgICAgIHBvcHVwXzgwYTRjYTc1OTlkMTQyMzdhNWFiNTY1MjIxNmQ2M2I2LnNldENvbnRlbnQoaHRtbF9mN2U0ZDI5ZmNhZTE0ZjIzYWUxNzQzMDkwZTNjNTZhOCk7CiAgICAgICAgCgogICAgICAgIGNpcmNsZV9tYXJrZXJfNTVmMGQxM2M1OGFlNDJiM2FhMjMwZGU4NGZlODRiMTguYmluZFBvcHVwKHBvcHVwXzgwYTRjYTc1OTlkMTQyMzdhNWFiNTY1MjIxNmQ2M2I2KQogICAgICAgIDsKCiAgICAgICAgCiAgICAKICAgIAogICAgICAgICAgICB2YXIgY2lyY2xlX21hcmtlcl9lMGZlMTM1ODk1Mzc0Zjc0YjI4NmY2YWZmZGU4MGViYSA9IEwuY2lyY2xlTWFya2VyKAogICAgICAgICAgICAgICAgWzQzLjY3MzE4NTI5OTk5OTk5LCAtNzkuNDg3MjYxOTAwMDAwMDFdLAogICAgICAgICAgICAgICAgeyJidWJibGluZ01vdXNlRXZlbnRzIjogdHJ1ZSwgImNvbG9yIjogImJsdWUiLCAiZGFzaEFycmF5IjogbnVsbCwgImRhc2hPZmZzZXQiOiBudWxsLCAiZmlsbCI6IHRydWUsICJmaWxsQ29sb3IiOiAiIzMxODZjYyIsICJmaWxsT3BhY2l0eSI6IDAuNywgImZpbGxSdWxlIjogImV2ZW5vZGQiLCAibGluZUNhcCI6ICJyb3VuZCIsICJsaW5lSm9pbiI6ICJyb3VuZCIsICJvcGFjaXR5IjogMS4wLCAicmFkaXVzIjogNSwgInN0cm9rZSI6IHRydWUsICJ3ZWlnaHQiOiAzfQogICAgICAgICAgICApLmFkZFRvKG1hcF85MmY5Zjk0MTQ2MmQ0YmQ2ODk1MDQ4MzdjMDIwOTM2OSk7CiAgICAgICAgCiAgICAKICAgICAgICB2YXIgcG9wdXBfZjMzYzNhNzE3ZGY5NDllYmIyYmNjNWYzNzdkZjY0ODUgPSBMLnBvcHVwKHsibWF4V2lkdGgiOiAiMTAwJSJ9KTsKCiAgICAgICAgCiAgICAgICAgICAgIHZhciBodG1sX2ZhYWNlNzNmMmMxZTQwMzA4N2U5ZDhlZWRlNTNlNDg1ID0gJChgPGRpdiBpZD0iaHRtbF9mYWFjZTczZjJjMWU0MDMwODdlOWQ4ZWVkZTUzZTQ4NSIgc3R5bGU9IndpZHRoOiAxMDAuMCU7IGhlaWdodDogMTAwLjAlOyI+UnVubnltZWRlLCBUaGUgSnVuY3Rpb24gTm9ydGgsIFlvcms8L2Rpdj5gKVswXTsKICAgICAgICAgICAgcG9wdXBfZjMzYzNhNzE3ZGY5NDllYmIyYmNjNWYzNzdkZjY0ODUuc2V0Q29udGVudChodG1sX2ZhYWNlNzNmMmMxZTQwMzA4N2U5ZDhlZWRlNTNlNDg1KTsKICAgICAgICAKCiAgICAgICAgY2lyY2xlX21hcmtlcl9lMGZlMTM1ODk1Mzc0Zjc0YjI4NmY2YWZmZGU4MGViYS5iaW5kUG9wdXAocG9wdXBfZjMzYzNhNzE3ZGY5NDllYmIyYmNjNWYzNzdkZjY0ODUpCiAgICAgICAgOwoKICAgICAgICAKICAgIAogICAgCiAgICAgICAgICAgIHZhciBjaXJjbGVfbWFya2VyXzQ5YWU4MmE4ZDljODQ2ZjY5NzBmZTNkZmI2MDhkYjFlID0gTC5jaXJjbGVNYXJrZXIoCiAgICAgICAgICAgICAgICBbNDMuNzA2ODc2LCAtNzkuNTE4MTg4NDAwMDAwMDFdLAogICAgICAgICAgICAgICAgeyJidWJibGluZ01vdXNlRXZlbnRzIjogdHJ1ZSwgImNvbG9yIjogImJsdWUiLCAiZGFzaEFycmF5IjogbnVsbCwgImRhc2hPZmZzZXQiOiBudWxsLCAiZmlsbCI6IHRydWUsICJmaWxsQ29sb3IiOiAiIzMxODZjYyIsICJmaWxsT3BhY2l0eSI6IDAuNywgImZpbGxSdWxlIjogImV2ZW5vZGQiLCAibGluZUNhcCI6ICJyb3VuZCIsICJsaW5lSm9pbiI6ICJyb3VuZCIsICJvcGFjaXR5IjogMS4wLCAicmFkaXVzIjogNSwgInN0cm9rZSI6IHRydWUsICJ3ZWlnaHQiOiAzfQogICAgICAgICAgICApLmFkZFRvKG1hcF85MmY5Zjk0MTQ2MmQ0YmQ2ODk1MDQ4MzdjMDIwOTM2OSk7CiAgICAgICAgCiAgICAKICAgICAgICB2YXIgcG9wdXBfMjM5ZmQ1MTVkOTRkNGIzYzgzNmExNmM1MjEzZjlmMGEgPSBMLnBvcHVwKHsibWF4V2lkdGgiOiAiMTAwJSJ9KTsKCiAgICAgICAgCiAgICAgICAgICAgIHZhciBodG1sX2RmNWNkYjEwZTM2NDQ3N2FiMGRiYjZiNDkwNjRkMGI0ID0gJChgPGRpdiBpZD0iaHRtbF9kZjVjZGIxMGUzNjQ0NzdhYjBkYmI2YjQ5MDY0ZDBiNCIgc3R5bGU9IndpZHRoOiAxMDAuMCU7IGhlaWdodDogMTAwLjAlOyI+V2VzdG9uLCBZb3JrPC9kaXY+YClbMF07CiAgICAgICAgICAgIHBvcHVwXzIzOWZkNTE1ZDk0ZDRiM2M4MzZhMTZjNTIxM2Y5ZjBhLnNldENvbnRlbnQoaHRtbF9kZjVjZGIxMGUzNjQ0NzdhYjBkYmI2YjQ5MDY0ZDBiNCk7CiAgICAgICAgCgogICAgICAgIGNpcmNsZV9tYXJrZXJfNDlhZTgyYThkOWM4NDZmNjk3MGZlM2RmYjYwOGRiMWUuYmluZFBvcHVwKHBvcHVwXzIzOWZkNTE1ZDk0ZDRiM2M4MzZhMTZjNTIxM2Y5ZjBhKQogICAgICAgIDsKCiAgICAgICAgCiAgICAKICAgIAogICAgICAgICAgICB2YXIgY2lyY2xlX21hcmtlcl81MDdhMzNmMjM3ZGQ0MTk1OGU0NjZhZmRjMmI4ZmY4NyA9IEwuY2lyY2xlTWFya2VyKAogICAgICAgICAgICAgICAgWzQzLjc1NzQwOTYsIC03OS4yNzMzMDQwMDAwMDAwMV0sCiAgICAgICAgICAgICAgICB7ImJ1YmJsaW5nTW91c2VFdmVudHMiOiB0cnVlLCAiY29sb3IiOiAiYmx1ZSIsICJkYXNoQXJyYXkiOiBudWxsLCAiZGFzaE9mZnNldCI6IG51bGwsICJmaWxsIjogdHJ1ZSwgImZpbGxDb2xvciI6ICIjMzE4NmNjIiwgImZpbGxPcGFjaXR5IjogMC43LCAiZmlsbFJ1bGUiOiAiZXZlbm9kZCIsICJsaW5lQ2FwIjogInJvdW5kIiwgImxpbmVKb2luIjogInJvdW5kIiwgIm9wYWNpdHkiOiAxLjAsICJyYWRpdXMiOiA1LCAic3Ryb2tlIjogdHJ1ZSwgIndlaWdodCI6IDN9CiAgICAgICAgICAgICkuYWRkVG8obWFwXzkyZjlmOTQxNDYyZDRiZDY4OTUwNDgzN2MwMjA5MzY5KTsKICAgICAgICAKICAgIAogICAgICAgIHZhciBwb3B1cF8yMzUzYWMxY2RlODc0YjVkYmIzMTgyYjczODFiNjAxYiA9IEwucG9wdXAoeyJtYXhXaWR0aCI6ICIxMDAlIn0pOwoKICAgICAgICAKICAgICAgICAgICAgdmFyIGh0bWxfM2U1NjdjMzlhYWU3NGY3OGJmOWJlZjM4MzM0NDRjOTQgPSAkKGA8ZGl2IGlkPSJodG1sXzNlNTY3YzM5YWFlNzRmNzhiZjliZWYzODMzNDQ0Yzk0IiBzdHlsZT0id2lkdGg6IDEwMC4wJTsgaGVpZ2h0OiAxMDAuMCU7Ij5Eb3JzZXQgUGFyaywgV2V4Zm9yZCBIZWlnaHRzLCBTY2FyYm9yb3VnaCBUb3duIENlbnRyZSwgU2NhcmJvcm91Z2g8L2Rpdj5gKVswXTsKICAgICAgICAgICAgcG9wdXBfMjM1M2FjMWNkZTg3NGI1ZGJiMzE4MmI3MzgxYjYwMWIuc2V0Q29udGVudChodG1sXzNlNTY3YzM5YWFlNzRmNzhiZjliZWYzODMzNDQ0Yzk0KTsKICAgICAgICAKCiAgICAgICAgY2lyY2xlX21hcmtlcl81MDdhMzNmMjM3ZGQ0MTk1OGU0NjZhZmRjMmI4ZmY4Ny5iaW5kUG9wdXAocG9wdXBfMjM1M2FjMWNkZTg3NGI1ZGJiMzE4MmI3MzgxYjYwMWIpCiAgICAgICAgOwoKICAgICAgICAKICAgIAogICAgCiAgICAgICAgICAgIHZhciBjaXJjbGVfbWFya2VyX2QxNWVlOGFiNTFiNzQ4NDRhNTFhMDMzMmQzYTNiYjZiID0gTC5jaXJjbGVNYXJrZXIoCiAgICAgICAgICAgICAgICBbNDMuNzUyNzU4Mjk5OTk5OTk2LCAtNzkuNDAwMDQ5M10sCiAgICAgICAgICAgICAgICB7ImJ1YmJsaW5nTW91c2VFdmVudHMiOiB0cnVlLCAiY29sb3IiOiAiYmx1ZSIsICJkYXNoQXJyYXkiOiBudWxsLCAiZGFzaE9mZnNldCI6IG51bGwsICJmaWxsIjogdHJ1ZSwgImZpbGxDb2xvciI6ICIjMzE4NmNjIiwgImZpbGxPcGFjaXR5IjogMC43LCAiZmlsbFJ1bGUiOiAiZXZlbm9kZCIsICJsaW5lQ2FwIjogInJvdW5kIiwgImxpbmVKb2luIjogInJvdW5kIiwgIm9wYWNpdHkiOiAxLjAsICJyYWRpdXMiOiA1LCAic3Ryb2tlIjogdHJ1ZSwgIndlaWdodCI6IDN9CiAgICAgICAgICAgICkuYWRkVG8obWFwXzkyZjlmOTQxNDYyZDRiZDY4OTUwNDgzN2MwMjA5MzY5KTsKICAgICAgICAKICAgIAogICAgICAgIHZhciBwb3B1cF9lZWIxNTM2MDk4NzU0NTgwYmZhMWM5NzRhNjAzM2E3MCA9IEwucG9wdXAoeyJtYXhXaWR0aCI6ICIxMDAlIn0pOwoKICAgICAgICAKICAgICAgICAgICAgdmFyIGh0bWxfNTRkYTYyYTU2Njg0NGNmM2EwYzA1ZmNiMTEwZDEyMTMgPSAkKGA8ZGl2IGlkPSJodG1sXzU0ZGE2MmE1NjY4NDRjZjNhMGMwNWZjYjExMGQxMjEzIiBzdHlsZT0id2lkdGg6IDEwMC4wJTsgaGVpZ2h0OiAxMDAuMCU7Ij5Zb3JrIE1pbGxzIFdlc3QsIE5vcnRoIFlvcms8L2Rpdj5gKVswXTsKICAgICAgICAgICAgcG9wdXBfZWViMTUzNjA5ODc1NDU4MGJmYTFjOTc0YTYwMzNhNzAuc2V0Q29udGVudChodG1sXzU0ZGE2MmE1NjY4NDRjZjNhMGMwNWZjYjExMGQxMjEzKTsKICAgICAgICAKCiAgICAgICAgY2lyY2xlX21hcmtlcl9kMTVlZThhYjUxYjc0ODQ0YTUxYTAzMzJkM2EzYmI2Yi5iaW5kUG9wdXAocG9wdXBfZWViMTUzNjA5ODc1NDU4MGJmYTFjOTc0YTYwMzNhNzApCiAgICAgICAgOwoKICAgICAgICAKICAgIAogICAgCiAgICAgICAgICAgIHZhciBjaXJjbGVfbWFya2VyXzEyNzM0MGE0ODM0MzQ0ZTI5OWY4Y2Y3OWE3OTFkY2RkID0gTC5jaXJjbGVNYXJrZXIoCiAgICAgICAgICAgICAgICBbNDMuNzEyNzUxMSwgLTc5LjM5MDE5NzVdLAogICAgICAgICAgICAgICAgeyJidWJibGluZ01vdXNlRXZlbnRzIjogdHJ1ZSwgImNvbG9yIjogImJsdWUiLCAiZGFzaEFycmF5IjogbnVsbCwgImRhc2hPZmZzZXQiOiBudWxsLCAiZmlsbCI6IHRydWUsICJmaWxsQ29sb3IiOiAiIzMxODZjYyIsICJmaWxsT3BhY2l0eSI6IDAuNywgImZpbGxSdWxlIjogImV2ZW5vZGQiLCAibGluZUNhcCI6ICJyb3VuZCIsICJsaW5lSm9pbiI6ICJyb3VuZCIsICJvcGFjaXR5IjogMS4wLCAicmFkaXVzIjogNSwgInN0cm9rZSI6IHRydWUsICJ3ZWlnaHQiOiAzfQogICAgICAgICAgICApLmFkZFRvKG1hcF85MmY5Zjk0MTQ2MmQ0YmQ2ODk1MDQ4MzdjMDIwOTM2OSk7CiAgICAgICAgCiAgICAKICAgICAgICB2YXIgcG9wdXBfNzgwOTYyYzIzNDUzNGI4ZmExNDE0OGI3NjMwNDFhZjIgPSBMLnBvcHVwKHsibWF4V2lkdGgiOiAiMTAwJSJ9KTsKCiAgICAgICAgCiAgICAgICAgICAgIHZhciBodG1sXzExZDY4NDE0YTlhMzQ2NjhhMzI2YWY3MWY4Y2U5OTgxID0gJChgPGRpdiBpZD0iaHRtbF8xMWQ2ODQxNGE5YTM0NjY4YTMyNmFmNzFmOGNlOTk4MSIgc3R5bGU9IndpZHRoOiAxMDAuMCU7IGhlaWdodDogMTAwLjAlOyI+RGF2aXN2aWxsZSBOb3J0aCwgQ2VudHJhbCBUb3JvbnRvPC9kaXY+YClbMF07CiAgICAgICAgICAgIHBvcHVwXzc4MDk2MmMyMzQ1MzRiOGZhMTQxNDhiNzYzMDQxYWYyLnNldENvbnRlbnQoaHRtbF8xMWQ2ODQxNGE5YTM0NjY4YTMyNmFmNzFmOGNlOTk4MSk7CiAgICAgICAgCgogICAgICAgIGNpcmNsZV9tYXJrZXJfMTI3MzQwYTQ4MzQzNDRlMjk5ZjhjZjc5YTc5MWRjZGQuYmluZFBvcHVwKHBvcHVwXzc4MDk2MmMyMzQ1MzRiOGZhMTQxNDhiNzYzMDQxYWYyKQogICAgICAgIDsKCiAgICAgICAgCiAgICAKICAgIAogICAgICAgICAgICB2YXIgY2lyY2xlX21hcmtlcl9mNjUzYTY0M2YyZjE0YTQ0OTVhNjIyZjQ3NGQzOTk4ZiA9IEwuY2lyY2xlTWFya2VyKAogICAgICAgICAgICAgICAgWzQzLjY5Njk0NzYsIC03OS40MTEzMDcyMDAwMDAwMV0sCiAgICAgICAgICAgICAgICB7ImJ1YmJsaW5nTW91c2VFdmVudHMiOiB0cnVlLCAiY29sb3IiOiAiYmx1ZSIsICJkYXNoQXJyYXkiOiBudWxsLCAiZGFzaE9mZnNldCI6IG51bGwsICJmaWxsIjogdHJ1ZSwgImZpbGxDb2xvciI6ICIjMzE4NmNjIiwgImZpbGxPcGFjaXR5IjogMC43LCAiZmlsbFJ1bGUiOiAiZXZlbm9kZCIsICJsaW5lQ2FwIjogInJvdW5kIiwgImxpbmVKb2luIjogInJvdW5kIiwgIm9wYWNpdHkiOiAxLjAsICJyYWRpdXMiOiA1LCAic3Ryb2tlIjogdHJ1ZSwgIndlaWdodCI6IDN9CiAgICAgICAgICAgICkuYWRkVG8obWFwXzkyZjlmOTQxNDYyZDRiZDY4OTUwNDgzN2MwMjA5MzY5KTsKICAgICAgICAKICAgIAogICAgICAgIHZhciBwb3B1cF8xNDE5MjI1MGQ1MzY0YjkyYmNjNTllNzY0MjFlNjYwZSA9IEwucG9wdXAoeyJtYXhXaWR0aCI6ICIxMDAlIn0pOwoKICAgICAgICAKICAgICAgICAgICAgdmFyIGh0bWxfZGEyYzIyMmFmZTJkNGM0MTk0MTFmN2NjODJjMDljNWYgPSAkKGA8ZGl2IGlkPSJodG1sX2RhMmMyMjJhZmUyZDRjNDE5NDExZjdjYzgyYzA5YzVmIiBzdHlsZT0id2lkdGg6IDEwMC4wJTsgaGVpZ2h0OiAxMDAuMCU7Ij5Gb3Jlc3QgSGlsbCBOb3J0aCAmYW1wOyBXZXN0LCBGb3Jlc3QgSGlsbCBSb2FkIFBhcmssIENlbnRyYWwgVG9yb250bzwvZGl2PmApWzBdOwogICAgICAgICAgICBwb3B1cF8xNDE5MjI1MGQ1MzY0YjkyYmNjNTllNzY0MjFlNjYwZS5zZXRDb250ZW50KGh0bWxfZGEyYzIyMmFmZTJkNGM0MTk0MTFmN2NjODJjMDljNWYpOwogICAgICAgIAoKICAgICAgICBjaXJjbGVfbWFya2VyX2Y2NTNhNjQzZjJmMTRhNDQ5NWE2MjJmNDc0ZDM5OThmLmJpbmRQb3B1cChwb3B1cF8xNDE5MjI1MGQ1MzY0YjkyYmNjNTllNzY0MjFlNjYwZSkKICAgICAgICA7CgogICAgICAgIAogICAgCiAgICAKICAgICAgICAgICAgdmFyIGNpcmNsZV9tYXJrZXJfN2EwZjQ0YjVjYWI3NDdjM2FiYzVlYjY4NDJjNTliYWYgPSBMLmNpcmNsZU1hcmtlcigKICAgICAgICAgICAgICAgIFs0My42NjE2MDgzLCAtNzkuNDY0NzYzMjk5OTk5OTldLAogICAgICAgICAgICAgICAgeyJidWJibGluZ01vdXNlRXZlbnRzIjogdHJ1ZSwgImNvbG9yIjogImJsdWUiLCAiZGFzaEFycmF5IjogbnVsbCwgImRhc2hPZmZzZXQiOiBudWxsLCAiZmlsbCI6IHRydWUsICJmaWxsQ29sb3IiOiAiIzMxODZjYyIsICJmaWxsT3BhY2l0eSI6IDAuNywgImZpbGxSdWxlIjogImV2ZW5vZGQiLCAibGluZUNhcCI6ICJyb3VuZCIsICJsaW5lSm9pbiI6ICJyb3VuZCIsICJvcGFjaXR5IjogMS4wLCAicmFkaXVzIjogNSwgInN0cm9rZSI6IHRydWUsICJ3ZWlnaHQiOiAzfQogICAgICAgICAgICApLmFkZFRvKG1hcF85MmY5Zjk0MTQ2MmQ0YmQ2ODk1MDQ4MzdjMDIwOTM2OSk7CiAgICAgICAgCiAgICAKICAgICAgICB2YXIgcG9wdXBfNTVhMmY4MWVjYTcyNGU4ZWFiNWMwNDE2MGRkZmQ3MDkgPSBMLnBvcHVwKHsibWF4V2lkdGgiOiAiMTAwJSJ9KTsKCiAgICAgICAgCiAgICAgICAgICAgIHZhciBodG1sXzY4ZjRjZjczYWU4ODRmMmE4ZTdiODE0ZDA0ZWMzYmEwID0gJChgPGRpdiBpZD0iaHRtbF82OGY0Y2Y3M2FlODg0ZjJhOGU3YjgxNGQwNGVjM2JhMCIgc3R5bGU9IndpZHRoOiAxMDAuMCU7IGhlaWdodDogMTAwLjAlOyI+SGlnaCBQYXJrLCBUaGUgSnVuY3Rpb24gU291dGgsIFdlc3QgVG9yb250bzwvZGl2PmApWzBdOwogICAgICAgICAgICBwb3B1cF81NWEyZjgxZWNhNzI0ZThlYWI1YzA0MTYwZGRmZDcwOS5zZXRDb250ZW50KGh0bWxfNjhmNGNmNzNhZTg4NGYyYThlN2I4MTRkMDRlYzNiYTApOwogICAgICAgIAoKICAgICAgICBjaXJjbGVfbWFya2VyXzdhMGY0NGI1Y2FiNzQ3YzNhYmM1ZWI2ODQyYzU5YmFmLmJpbmRQb3B1cChwb3B1cF81NWEyZjgxZWNhNzI0ZThlYWI1YzA0MTYwZGRmZDcwOSkKICAgICAgICA7CgogICAgICAgIAogICAgCiAgICAKICAgICAgICAgICAgdmFyIGNpcmNsZV9tYXJrZXJfM2QyZDA5NTk1M2JmNDlmN2I1OWI3YThhNDQzYTc3ZjkgPSBMLmNpcmNsZU1hcmtlcigKICAgICAgICAgICAgICAgIFs0My42OTYzMTksIC03OS41MzIyNDI0MDAwMDAwMl0sCiAgICAgICAgICAgICAgICB7ImJ1YmJsaW5nTW91c2VFdmVudHMiOiB0cnVlLCAiY29sb3IiOiAiYmx1ZSIsICJkYXNoQXJyYXkiOiBudWxsLCAiZGFzaE9mZnNldCI6IG51bGwsICJmaWxsIjogdHJ1ZSwgImZpbGxDb2xvciI6ICIjMzE4NmNjIiwgImZpbGxPcGFjaXR5IjogMC43LCAiZmlsbFJ1bGUiOiAiZXZlbm9kZCIsICJsaW5lQ2FwIjogInJvdW5kIiwgImxpbmVKb2luIjogInJvdW5kIiwgIm9wYWNpdHkiOiAxLjAsICJyYWRpdXMiOiA1LCAic3Ryb2tlIjogdHJ1ZSwgIndlaWdodCI6IDN9CiAgICAgICAgICAgICkuYWRkVG8obWFwXzkyZjlmOTQxNDYyZDRiZDY4OTUwNDgzN2MwMjA5MzY5KTsKICAgICAgICAKICAgIAogICAgICAgIHZhciBwb3B1cF9iNjE1NzI1OTExODI0ZjRkYjRlMDM4OTIzZTdlZDFhOSA9IEwucG9wdXAoeyJtYXhXaWR0aCI6ICIxMDAlIn0pOwoKICAgICAgICAKICAgICAgICAgICAgdmFyIGh0bWxfZjU3MTBmZGUzMjdiNGE2Mjg5ZDk0N2ZjZGQ1NjUzMTUgPSAkKGA8ZGl2IGlkPSJodG1sX2Y1NzEwZmRlMzI3YjRhNjI4OWQ5NDdmY2RkNTY1MzE1IiBzdHlsZT0id2lkdGg6IDEwMC4wJTsgaGVpZ2h0OiAxMDAuMCU7Ij5XZXN0bW91bnQsIEV0b2JpY29rZTwvZGl2PmApWzBdOwogICAgICAgICAgICBwb3B1cF9iNjE1NzI1OTExODI0ZjRkYjRlMDM4OTIzZTdlZDFhOS5zZXRDb250ZW50KGh0bWxfZjU3MTBmZGUzMjdiNGE2Mjg5ZDk0N2ZjZGQ1NjUzMTUpOwogICAgICAgIAoKICAgICAgICBjaXJjbGVfbWFya2VyXzNkMmQwOTU5NTNiZjQ5ZjdiNTliN2E4YTQ0M2E3N2Y5LmJpbmRQb3B1cChwb3B1cF9iNjE1NzI1OTExODI0ZjRkYjRlMDM4OTIzZTdlZDFhOSkKICAgICAgICA7CgogICAgICAgIAogICAgCiAgICAKICAgICAgICAgICAgdmFyIGNpcmNsZV9tYXJrZXJfZmFhOGQ3M2I0M2Y2NGEyYWIyNTdmZTBjODAwMmQ4MzIgPSBMLmNpcmNsZU1hcmtlcigKICAgICAgICAgICAgICAgIFs0My43NTAwNzE1MDAwMDAwMDQsIC03OS4yOTU4NDkxXSwKICAgICAgICAgICAgICAgIHsiYnViYmxpbmdNb3VzZUV2ZW50cyI6IHRydWUsICJjb2xvciI6ICJibHVlIiwgImRhc2hBcnJheSI6IG51bGwsICJkYXNoT2Zmc2V0IjogbnVsbCwgImZpbGwiOiB0cnVlLCAiZmlsbENvbG9yIjogIiMzMTg2Y2MiLCAiZmlsbE9wYWNpdHkiOiAwLjcsICJmaWxsUnVsZSI6ICJldmVub2RkIiwgImxpbmVDYXAiOiAicm91bmQiLCAibGluZUpvaW4iOiAicm91bmQiLCAib3BhY2l0eSI6IDEuMCwgInJhZGl1cyI6IDUsICJzdHJva2UiOiB0cnVlLCAid2VpZ2h0IjogM30KICAgICAgICAgICAgKS5hZGRUbyhtYXBfOTJmOWY5NDE0NjJkNGJkNjg5NTA0ODM3YzAyMDkzNjkpOwogICAgICAgIAogICAgCiAgICAgICAgdmFyIHBvcHVwXzcwYmQ1OGUxZTQ1ZDQxOGViZjIxODM1MDE1YjMxYjk3ID0gTC5wb3B1cCh7Im1heFdpZHRoIjogIjEwMCUifSk7CgogICAgICAgIAogICAgICAgICAgICB2YXIgaHRtbF9kOWM4Zjk0MWU0MTg0YzcxODZlYTRkYjM3MzFlZjU1MiA9ICQoYDxkaXYgaWQ9Imh0bWxfZDljOGY5NDFlNDE4NGM3MTg2ZWE0ZGIzNzMxZWY1NTIiIHN0eWxlPSJ3aWR0aDogMTAwLjAlOyBoZWlnaHQ6IDEwMC4wJTsiPldleGZvcmQsIE1hcnl2YWxlLCBTY2FyYm9yb3VnaDwvZGl2PmApWzBdOwogICAgICAgICAgICBwb3B1cF83MGJkNThlMWU0NWQ0MThlYmYyMTgzNTAxNWIzMWI5Ny5zZXRDb250ZW50KGh0bWxfZDljOGY5NDFlNDE4NGM3MTg2ZWE0ZGIzNzMxZWY1NTIpOwogICAgICAgIAoKICAgICAgICBjaXJjbGVfbWFya2VyX2ZhYThkNzNiNDNmNjRhMmFiMjU3ZmUwYzgwMDJkODMyLmJpbmRQb3B1cChwb3B1cF83MGJkNThlMWU0NWQ0MThlYmYyMTgzNTAxNWIzMWI5NykKICAgICAgICA7CgogICAgICAgIAogICAgCiAgICAKICAgICAgICAgICAgdmFyIGNpcmNsZV9tYXJrZXJfNTU2ZmE0NzhhOWJiNGQ0MmI1OWZhMDBkNzEwMWRlODAgPSBMLmNpcmNsZU1hcmtlcigKICAgICAgICAgICAgICAgIFs0My43ODI3MzY0LCAtNzkuNDQyMjU5M10sCiAgICAgICAgICAgICAgICB7ImJ1YmJsaW5nTW91c2VFdmVudHMiOiB0cnVlLCAiY29sb3IiOiAiYmx1ZSIsICJkYXNoQXJyYXkiOiBudWxsLCAiZGFzaE9mZnNldCI6IG51bGwsICJmaWxsIjogdHJ1ZSwgImZpbGxDb2xvciI6ICIjMzE4NmNjIiwgImZpbGxPcGFjaXR5IjogMC43LCAiZmlsbFJ1bGUiOiAiZXZlbm9kZCIsICJsaW5lQ2FwIjogInJvdW5kIiwgImxpbmVKb2luIjogInJvdW5kIiwgIm9wYWNpdHkiOiAxLjAsICJyYWRpdXMiOiA1LCAic3Ryb2tlIjogdHJ1ZSwgIndlaWdodCI6IDN9CiAgICAgICAgICAgICkuYWRkVG8obWFwXzkyZjlmOTQxNDYyZDRiZDY4OTUwNDgzN2MwMjA5MzY5KTsKICAgICAgICAKICAgIAogICAgICAgIHZhciBwb3B1cF8zYmIxYTkzNjBlODI0YmE1YTg5MTU4NmI3ZTY5MGJkOCA9IEwucG9wdXAoeyJtYXhXaWR0aCI6ICIxMDAlIn0pOwoKICAgICAgICAKICAgICAgICAgICAgdmFyIGh0bWxfY2ZiY2U4YThjYmRiNDZkOGE0MWUxMDc5MWY4NGRhY2YgPSAkKGA8ZGl2IGlkPSJodG1sX2NmYmNlOGE4Y2JkYjQ2ZDhhNDFlMTA3OTFmODRkYWNmIiBzdHlsZT0id2lkdGg6IDEwMC4wJTsgaGVpZ2h0OiAxMDAuMCU7Ij5XaWxsb3dkYWxlLCBXaWxsb3dkYWxlIFdlc3QsIE5vcnRoIFlvcms8L2Rpdj5gKVswXTsKICAgICAgICAgICAgcG9wdXBfM2JiMWE5MzYwZTgyNGJhNWE4OTE1ODZiN2U2OTBiZDguc2V0Q29udGVudChodG1sX2NmYmNlOGE4Y2JkYjQ2ZDhhNDFlMTA3OTFmODRkYWNmKTsKICAgICAgICAKCiAgICAgICAgY2lyY2xlX21hcmtlcl81NTZmYTQ3OGE5YmI0ZDQyYjU5ZmEwMGQ3MTAxZGU4MC5iaW5kUG9wdXAocG9wdXBfM2JiMWE5MzYwZTgyNGJhNWE4OTE1ODZiN2U2OTBiZDgpCiAgICAgICAgOwoKICAgICAgICAKICAgIAogICAgCiAgICAgICAgICAgIHZhciBjaXJjbGVfbWFya2VyXzBlYzBhNTE3YmFkNDRhYThhNzc4ODIzOWM2ZmM4YjExID0gTC5jaXJjbGVNYXJrZXIoCiAgICAgICAgICAgICAgICBbNDMuNzE1MzgzNCwgLTc5LjQwNTY3ODQwMDAwMDAxXSwKICAgICAgICAgICAgICAgIHsiYnViYmxpbmdNb3VzZUV2ZW50cyI6IHRydWUsICJjb2xvciI6ICJibHVlIiwgImRhc2hBcnJheSI6IG51bGwsICJkYXNoT2Zmc2V0IjogbnVsbCwgImZpbGwiOiB0cnVlLCAiZmlsbENvbG9yIjogIiMzMTg2Y2MiLCAiZmlsbE9wYWNpdHkiOiAwLjcsICJmaWxsUnVsZSI6ICJldmVub2RkIiwgImxpbmVDYXAiOiAicm91bmQiLCAibGluZUpvaW4iOiAicm91bmQiLCAib3BhY2l0eSI6IDEuMCwgInJhZGl1cyI6IDUsICJzdHJva2UiOiB0cnVlLCAid2VpZ2h0IjogM30KICAgICAgICAgICAgKS5hZGRUbyhtYXBfOTJmOWY5NDE0NjJkNGJkNjg5NTA0ODM3YzAyMDkzNjkpOwogICAgICAgIAogICAgCiAgICAgICAgdmFyIHBvcHVwXzU2ZTM5YzNlYWE2MTQ1NWU5Nzg3ZTc1ZWZmNmVhYjJlID0gTC5wb3B1cCh7Im1heFdpZHRoIjogIjEwMCUifSk7CgogICAgICAgIAogICAgICAgICAgICB2YXIgaHRtbF8xYTlhM2NlOGRkNWM0M2M0YTcyZmQ1M2JkNDFmYjA0MCA9ICQoYDxkaXYgaWQ9Imh0bWxfMWE5YTNjZThkZDVjNDNjNGE3MmZkNTNiZDQxZmIwNDAiIHN0eWxlPSJ3aWR0aDogMTAwLjAlOyBoZWlnaHQ6IDEwMC4wJTsiPk5vcnRoIFRvcm9udG8gV2VzdCwgIExhd3JlbmNlIFBhcmssIENlbnRyYWwgVG9yb250bzwvZGl2PmApWzBdOwogICAgICAgICAgICBwb3B1cF81NmUzOWMzZWFhNjE0NTVlOTc4N2U3NWVmZjZlYWIyZS5zZXRDb250ZW50KGh0bWxfMWE5YTNjZThkZDVjNDNjNGE3MmZkNTNiZDQxZmIwNDApOwogICAgICAgIAoKICAgICAgICBjaXJjbGVfbWFya2VyXzBlYzBhNTE3YmFkNDRhYThhNzc4ODIzOWM2ZmM4YjExLmJpbmRQb3B1cChwb3B1cF81NmUzOWMzZWFhNjE0NTVlOTc4N2U3NWVmZjZlYWIyZSkKICAgICAgICA7CgogICAgICAgIAogICAgCiAgICAKICAgICAgICAgICAgdmFyIGNpcmNsZV9tYXJrZXJfODIwZmI3OTNjNmEwNDNiNDlmMTZlYzliYWI4M2YwMTAgPSBMLmNpcmNsZU1hcmtlcigKICAgICAgICAgICAgICAgIFs0My42NzI3MDk3LCAtNzkuNDA1Njc4NDAwMDAwMDFdLAogICAgICAgICAgICAgICAgeyJidWJibGluZ01vdXNlRXZlbnRzIjogdHJ1ZSwgImNvbG9yIjogImJsdWUiLCAiZGFzaEFycmF5IjogbnVsbCwgImRhc2hPZmZzZXQiOiBudWxsLCAiZmlsbCI6IHRydWUsICJmaWxsQ29sb3IiOiAiIzMxODZjYyIsICJmaWxsT3BhY2l0eSI6IDAuNywgImZpbGxSdWxlIjogImV2ZW5vZGQiLCAibGluZUNhcCI6ICJyb3VuZCIsICJsaW5lSm9pbiI6ICJyb3VuZCIsICJvcGFjaXR5IjogMS4wLCAicmFkaXVzIjogNSwgInN0cm9rZSI6IHRydWUsICJ3ZWlnaHQiOiAzfQogICAgICAgICAgICApLmFkZFRvKG1hcF85MmY5Zjk0MTQ2MmQ0YmQ2ODk1MDQ4MzdjMDIwOTM2OSk7CiAgICAgICAgCiAgICAKICAgICAgICB2YXIgcG9wdXBfOTdkOGQ5ODlmMDY4NGI2NzlhNDExNTIyMmQ0YTVkYzQgPSBMLnBvcHVwKHsibWF4V2lkdGgiOiAiMTAwJSJ9KTsKCiAgICAgICAgCiAgICAgICAgICAgIHZhciBodG1sXzExN2EwNTVlODQ0YjQ4ZDNiMDVmZmVhYjY4ZDdmMmI4ID0gJChgPGRpdiBpZD0iaHRtbF8xMTdhMDU1ZTg0NGI0OGQzYjA1ZmZlYWI2OGQ3ZjJiOCIgc3R5bGU9IndpZHRoOiAxMDAuMCU7IGhlaWdodDogMTAwLjAlOyI+VGhlIEFubmV4LCBOb3J0aCBNaWR0b3duLCBZb3JrdmlsbGUsIENlbnRyYWwgVG9yb250bzwvZGl2PmApWzBdOwogICAgICAgICAgICBwb3B1cF85N2Q4ZDk4OWYwNjg0YjY3OWE0MTE1MjIyZDRhNWRjNC5zZXRDb250ZW50KGh0bWxfMTE3YTA1NWU4NDRiNDhkM2IwNWZmZWFiNjhkN2YyYjgpOwogICAgICAgIAoKICAgICAgICBjaXJjbGVfbWFya2VyXzgyMGZiNzkzYzZhMDQzYjQ5ZjE2ZWM5YmFiODNmMDEwLmJpbmRQb3B1cChwb3B1cF85N2Q4ZDk4OWYwNjg0YjY3OWE0MTE1MjIyZDRhNWRjNCkKICAgICAgICA7CgogICAgICAgIAogICAgCiAgICAKICAgICAgICAgICAgdmFyIGNpcmNsZV9tYXJrZXJfZGVmYzZiNDU2NjBmNDVkOGI0ZDU2NzNiNzg1OWRkYTMgPSBMLmNpcmNsZU1hcmtlcigKICAgICAgICAgICAgICAgIFs0My42NDg5NTk3LCAtNzkuNDU2MzI1XSwKICAgICAgICAgICAgICAgIHsiYnViYmxpbmdNb3VzZUV2ZW50cyI6IHRydWUsICJjb2xvciI6ICJibHVlIiwgImRhc2hBcnJheSI6IG51bGwsICJkYXNoT2Zmc2V0IjogbnVsbCwgImZpbGwiOiB0cnVlLCAiZmlsbENvbG9yIjogIiMzMTg2Y2MiLCAiZmlsbE9wYWNpdHkiOiAwLjcsICJmaWxsUnVsZSI6ICJldmVub2RkIiwgImxpbmVDYXAiOiAicm91bmQiLCAibGluZUpvaW4iOiAicm91bmQiLCAib3BhY2l0eSI6IDEuMCwgInJhZGl1cyI6IDUsICJzdHJva2UiOiB0cnVlLCAid2VpZ2h0IjogM30KICAgICAgICAgICAgKS5hZGRUbyhtYXBfOTJmOWY5NDE0NjJkNGJkNjg5NTA0ODM3YzAyMDkzNjkpOwogICAgICAgIAogICAgCiAgICAgICAgdmFyIHBvcHVwXzRhNDJkZjMzNjhjYTQzNmM5ZmNjZTMwOTMxOTMzYmE1ID0gTC5wb3B1cCh7Im1heFdpZHRoIjogIjEwMCUifSk7CgogICAgICAgIAogICAgICAgICAgICB2YXIgaHRtbF8wMTcyNTM1NzI3NmM0MjVmOWY2MTI5MWRiMGI5YmZjYSA9ICQoYDxkaXYgaWQ9Imh0bWxfMDE3MjUzNTcyNzZjNDI1ZjlmNjEyOTFkYjBiOWJmY2EiIHN0eWxlPSJ3aWR0aDogMTAwLjAlOyBoZWlnaHQ6IDEwMC4wJTsiPlBhcmtkYWxlLCBSb25jZXN2YWxsZXMsIFdlc3QgVG9yb250bzwvZGl2PmApWzBdOwogICAgICAgICAgICBwb3B1cF80YTQyZGYzMzY4Y2E0MzZjOWZjY2UzMDkzMTkzM2JhNS5zZXRDb250ZW50KGh0bWxfMDE3MjUzNTcyNzZjNDI1ZjlmNjEyOTFkYjBiOWJmY2EpOwogICAgICAgIAoKICAgICAgICBjaXJjbGVfbWFya2VyX2RlZmM2YjQ1NjYwZjQ1ZDhiNGQ1NjczYjc4NTlkZGEzLmJpbmRQb3B1cChwb3B1cF80YTQyZGYzMzY4Y2E0MzZjOWZjY2UzMDkzMTkzM2JhNSkKICAgICAgICA7CgogICAgICAgIAogICAgCiAgICAKICAgICAgICAgICAgdmFyIGNpcmNsZV9tYXJrZXJfZjJlNGMxZDAxZDE1NGNmYWI0Zjg3OTNmNWIwNDVlNjQgPSBMLmNpcmNsZU1hcmtlcigKICAgICAgICAgICAgICAgIFs0My42MzY5NjU2LCAtNzkuNjE1ODE4OTk5OTk5OTldLAogICAgICAgICAgICAgICAgeyJidWJibGluZ01vdXNlRXZlbnRzIjogdHJ1ZSwgImNvbG9yIjogImJsdWUiLCAiZGFzaEFycmF5IjogbnVsbCwgImRhc2hPZmZzZXQiOiBudWxsLCAiZmlsbCI6IHRydWUsICJmaWxsQ29sb3IiOiAiIzMxODZjYyIsICJmaWxsT3BhY2l0eSI6IDAuNywgImZpbGxSdWxlIjogImV2ZW5vZGQiLCAibGluZUNhcCI6ICJyb3VuZCIsICJsaW5lSm9pbiI6ICJyb3VuZCIsICJvcGFjaXR5IjogMS4wLCAicmFkaXVzIjogNSwgInN0cm9rZSI6IHRydWUsICJ3ZWlnaHQiOiAzfQogICAgICAgICAgICApLmFkZFRvKG1hcF85MmY5Zjk0MTQ2MmQ0YmQ2ODk1MDQ4MzdjMDIwOTM2OSk7CiAgICAgICAgCiAgICAKICAgICAgICB2YXIgcG9wdXBfYzk1MDFjYzJlYTcxNDcxZjliNmI2YjgxMzBmNWQ0NWIgPSBMLnBvcHVwKHsibWF4V2lkdGgiOiAiMTAwJSJ9KTsKCiAgICAgICAgCiAgICAgICAgICAgIHZhciBodG1sX2RkYzQ0YjIwODlmNzQwYzBiZjUzNmMyNDM4NmU0NDYyID0gJChgPGRpdiBpZD0iaHRtbF9kZGM0NGIyMDg5Zjc0MGMwYmY1MzZjMjQzODZlNDQ2MiIgc3R5bGU9IndpZHRoOiAxMDAuMCU7IGhlaWdodDogMTAwLjAlOyI+Q2FuYWRhIFBvc3QgR2F0ZXdheSBQcm9jZXNzaW5nIENlbnRyZSwgTWlzc2lzc2F1Z2E8L2Rpdj5gKVswXTsKICAgICAgICAgICAgcG9wdXBfYzk1MDFjYzJlYTcxNDcxZjliNmI2YjgxMzBmNWQ0NWIuc2V0Q29udGVudChodG1sX2RkYzQ0YjIwODlmNzQwYzBiZjUzNmMyNDM4NmU0NDYyKTsKICAgICAgICAKCiAgICAgICAgY2lyY2xlX21hcmtlcl9mMmU0YzFkMDFkMTU0Y2ZhYjRmODc5M2Y1YjA0NWU2NC5iaW5kUG9wdXAocG9wdXBfYzk1MDFjYzJlYTcxNDcxZjliNmI2YjgxMzBmNWQ0NWIpCiAgICAgICAgOwoKICAgICAgICAKICAgIAogICAgCiAgICAgICAgICAgIHZhciBjaXJjbGVfbWFya2VyXzVmYzk0OTBkMDgyNjQ2Njk4ZDRkN2E1ZGE4Mzg1N2IxID0gTC5jaXJjbGVNYXJrZXIoCiAgICAgICAgICAgICAgICBbNDMuNjg4OTA1NCwgLTc5LjU1NDcyNDQwMDAwMDAxXSwKICAgICAgICAgICAgICAgIHsiYnViYmxpbmdNb3VzZUV2ZW50cyI6IHRydWUsICJjb2xvciI6ICJibHVlIiwgImRhc2hBcnJheSI6IG51bGwsICJkYXNoT2Zmc2V0IjogbnVsbCwgImZpbGwiOiB0cnVlLCAiZmlsbENvbG9yIjogIiMzMTg2Y2MiLCAiZmlsbE9wYWNpdHkiOiAwLjcsICJmaWxsUnVsZSI6ICJldmVub2RkIiwgImxpbmVDYXAiOiAicm91bmQiLCAibGluZUpvaW4iOiAicm91bmQiLCAib3BhY2l0eSI6IDEuMCwgInJhZGl1cyI6IDUsICJzdHJva2UiOiB0cnVlLCAid2VpZ2h0IjogM30KICAgICAgICAgICAgKS5hZGRUbyhtYXBfOTJmOWY5NDE0NjJkNGJkNjg5NTA0ODM3YzAyMDkzNjkpOwogICAgICAgIAogICAgCiAgICAgICAgdmFyIHBvcHVwXzQ4NjJiMzhiZWY3ZjQwZGRiMzc0MTQ4ZWI3YmZkYzM1ID0gTC5wb3B1cCh7Im1heFdpZHRoIjogIjEwMCUifSk7CgogICAgICAgIAogICAgICAgICAgICB2YXIgaHRtbF82MTE1ODA1OTQyMzk0MTVhODk5NzQ3YWRlMWI2ZWExOCA9ICQoYDxkaXYgaWQ9Imh0bWxfNjExNTgwNTk0MjM5NDE1YTg5OTc0N2FkZTFiNmVhMTgiIHN0eWxlPSJ3aWR0aDogMTAwLjAlOyBoZWlnaHQ6IDEwMC4wJTsiPktpbmdzdmlldyBWaWxsYWdlLCBTdC4gUGhpbGxpcHMsIE1hcnRpbiBHcm92ZSBHYXJkZW5zLCBSaWNodmlldyBHYXJkZW5zLCBFdG9iaWNva2U8L2Rpdj5gKVswXTsKICAgICAgICAgICAgcG9wdXBfNDg2MmIzOGJlZjdmNDBkZGIzNzQxNDhlYjdiZmRjMzUuc2V0Q29udGVudChodG1sXzYxMTU4MDU5NDIzOTQxNWE4OTk3NDdhZGUxYjZlYTE4KTsKICAgICAgICAKCiAgICAgICAgY2lyY2xlX21hcmtlcl81ZmM5NDkwZDA4MjY0NjY5OGQ0ZDdhNWRhODM4NTdiMS5iaW5kUG9wdXAocG9wdXBfNDg2MmIzOGJlZjdmNDBkZGIzNzQxNDhlYjdiZmRjMzUpCiAgICAgICAgOwoKICAgICAgICAKICAgIAogICAgCiAgICAgICAgICAgIHZhciBjaXJjbGVfbWFya2VyXzBhOTg3YmY3MTkzNjRhYmFiMmNhN2Q0NzIwYmRmMmQ3ID0gTC5jaXJjbGVNYXJrZXIoCiAgICAgICAgICAgICAgICBbNDMuNzk0MjAwMywgLTc5LjI2MjAyOTQwMDAwMDAyXSwKICAgICAgICAgICAgICAgIHsiYnViYmxpbmdNb3VzZUV2ZW50cyI6IHRydWUsICJjb2xvciI6ICJibHVlIiwgImRhc2hBcnJheSI6IG51bGwsICJkYXNoT2Zmc2V0IjogbnVsbCwgImZpbGwiOiB0cnVlLCAiZmlsbENvbG9yIjogIiMzMTg2Y2MiLCAiZmlsbE9wYWNpdHkiOiAwLjcsICJmaWxsUnVsZSI6ICJldmVub2RkIiwgImxpbmVDYXAiOiAicm91bmQiLCAibGluZUpvaW4iOiAicm91bmQiLCAib3BhY2l0eSI6IDEuMCwgInJhZGl1cyI6IDUsICJzdHJva2UiOiB0cnVlLCAid2VpZ2h0IjogM30KICAgICAgICAgICAgKS5hZGRUbyhtYXBfOTJmOWY5NDE0NjJkNGJkNjg5NTA0ODM3YzAyMDkzNjkpOwogICAgICAgIAogICAgCiAgICAgICAgdmFyIHBvcHVwX2FjNjg0NzBkZGM4ZTQzYjg4ZjkzMDRlNDM1ZTE1MjI0ID0gTC5wb3B1cCh7Im1heFdpZHRoIjogIjEwMCUifSk7CgogICAgICAgIAogICAgICAgICAgICB2YXIgaHRtbF8wM2RiY2NkOWUxODU0N2E5YjdiNDY3NjRmZDgyNDgxYSA9ICQoYDxkaXYgaWQ9Imh0bWxfMDNkYmNjZDllMTg1NDdhOWI3YjQ2NzY0ZmQ4MjQ4MWEiIHN0eWxlPSJ3aWR0aDogMTAwLjAlOyBoZWlnaHQ6IDEwMC4wJTsiPkFnaW5jb3VydCwgU2NhcmJvcm91Z2g8L2Rpdj5gKVswXTsKICAgICAgICAgICAgcG9wdXBfYWM2ODQ3MGRkYzhlNDNiODhmOTMwNGU0MzVlMTUyMjQuc2V0Q29udGVudChodG1sXzAzZGJjY2Q5ZTE4NTQ3YTliN2I0Njc2NGZkODI0ODFhKTsKICAgICAgICAKCiAgICAgICAgY2lyY2xlX21hcmtlcl8wYTk4N2JmNzE5MzY0YWJhYjJjYTdkNDcyMGJkZjJkNy5iaW5kUG9wdXAocG9wdXBfYWM2ODQ3MGRkYzhlNDNiODhmOTMwNGU0MzVlMTUyMjQpCiAgICAgICAgOwoKICAgICAgICAKICAgIAogICAgCiAgICAgICAgICAgIHZhciBjaXJjbGVfbWFya2VyXzU1NjUyMDJlZGRjYTQ0ZmI5NTEzNDJkYTEzNWEzOGM3ID0gTC5jaXJjbGVNYXJrZXIoCiAgICAgICAgICAgICAgICBbNDMuNzA0MzI0NCwgLTc5LjM4ODc5MDFdLAogICAgICAgICAgICAgICAgeyJidWJibGluZ01vdXNlRXZlbnRzIjogdHJ1ZSwgImNvbG9yIjogImJsdWUiLCAiZGFzaEFycmF5IjogbnVsbCwgImRhc2hPZmZzZXQiOiBudWxsLCAiZmlsbCI6IHRydWUsICJmaWxsQ29sb3IiOiAiIzMxODZjYyIsICJmaWxsT3BhY2l0eSI6IDAuNywgImZpbGxSdWxlIjogImV2ZW5vZGQiLCAibGluZUNhcCI6ICJyb3VuZCIsICJsaW5lSm9pbiI6ICJyb3VuZCIsICJvcGFjaXR5IjogMS4wLCAicmFkaXVzIjogNSwgInN0cm9rZSI6IHRydWUsICJ3ZWlnaHQiOiAzfQogICAgICAgICAgICApLmFkZFRvKG1hcF85MmY5Zjk0MTQ2MmQ0YmQ2ODk1MDQ4MzdjMDIwOTM2OSk7CiAgICAgICAgCiAgICAKICAgICAgICB2YXIgcG9wdXBfYzljZWE3N2MxODk4NGU5Y2FjY2M0ZDUyNmI2MGY3OWEgPSBMLnBvcHVwKHsibWF4V2lkdGgiOiAiMTAwJSJ9KTsKCiAgICAgICAgCiAgICAgICAgICAgIHZhciBodG1sXzI5MWY3NDQ2N2FlMTRjNzE5NmJlYTliZWZjN2Q4MDE0ID0gJChgPGRpdiBpZD0iaHRtbF8yOTFmNzQ0NjdhZTE0YzcxOTZiZWE5YmVmYzdkODAxNCIgc3R5bGU9IndpZHRoOiAxMDAuMCU7IGhlaWdodDogMTAwLjAlOyI+RGF2aXN2aWxsZSwgQ2VudHJhbCBUb3JvbnRvPC9kaXY+YClbMF07CiAgICAgICAgICAgIHBvcHVwX2M5Y2VhNzdjMTg5ODRlOWNhY2NjNGQ1MjZiNjBmNzlhLnNldENvbnRlbnQoaHRtbF8yOTFmNzQ0NjdhZTE0YzcxOTZiZWE5YmVmYzdkODAxNCk7CiAgICAgICAgCgogICAgICAgIGNpcmNsZV9tYXJrZXJfNTU2NTIwMmVkZGNhNDRmYjk1MTM0MmRhMTM1YTM4YzcuYmluZFBvcHVwKHBvcHVwX2M5Y2VhNzdjMTg5ODRlOWNhY2NjNGQ1MjZiNjBmNzlhKQogICAgICAgIDsKCiAgICAgICAgCiAgICAKICAgIAogICAgICAgICAgICB2YXIgY2lyY2xlX21hcmtlcl9hY2IzY2QxYTg1NzU0ZTFlOGM1MzNmZWQxMTg4NWNlMCA9IEwuY2lyY2xlTWFya2VyKAogICAgICAgICAgICAgICAgWzQzLjY2MjY5NTYsIC03OS40MDAwNDkzXSwKICAgICAgICAgICAgICAgIHsiYnViYmxpbmdNb3VzZUV2ZW50cyI6IHRydWUsICJjb2xvciI6ICJibHVlIiwgImRhc2hBcnJheSI6IG51bGwsICJkYXNoT2Zmc2V0IjogbnVsbCwgImZpbGwiOiB0cnVlLCAiZmlsbENvbG9yIjogIiMzMTg2Y2MiLCAiZmlsbE9wYWNpdHkiOiAwLjcsICJmaWxsUnVsZSI6ICJldmVub2RkIiwgImxpbmVDYXAiOiAicm91bmQiLCAibGluZUpvaW4iOiAicm91bmQiLCAib3BhY2l0eSI6IDEuMCwgInJhZGl1cyI6IDUsICJzdHJva2UiOiB0cnVlLCAid2VpZ2h0IjogM30KICAgICAgICAgICAgKS5hZGRUbyhtYXBfOTJmOWY5NDE0NjJkNGJkNjg5NTA0ODM3YzAyMDkzNjkpOwogICAgICAgIAogICAgCiAgICAgICAgdmFyIHBvcHVwX2E2NGU3OWVkYWYwNTQwMzdhZDAxODA4MzA1OWFkMjQzID0gTC5wb3B1cCh7Im1heFdpZHRoIjogIjEwMCUifSk7CgogICAgICAgIAogICAgICAgICAgICB2YXIgaHRtbF9lNDMwYTNjMmJkNjA0MTI5OGE3NTE4ODkyOTJiN2RkMiA9ICQoYDxkaXYgaWQ9Imh0bWxfZTQzMGEzYzJiZDYwNDEyOThhNzUxODg5MjkyYjdkZDIiIHN0eWxlPSJ3aWR0aDogMTAwLjAlOyBoZWlnaHQ6IDEwMC4wJTsiPlVuaXZlcnNpdHkgb2YgVG9yb250bywgSGFyYm9yZCwgRG93bnRvd24gVG9yb250bzwvZGl2PmApWzBdOwogICAgICAgICAgICBwb3B1cF9hNjRlNzllZGFmMDU0MDM3YWQwMTgwODMwNTlhZDI0My5zZXRDb250ZW50KGh0bWxfZTQzMGEzYzJiZDYwNDEyOThhNzUxODg5MjkyYjdkZDIpOwogICAgICAgIAoKICAgICAgICBjaXJjbGVfbWFya2VyX2FjYjNjZDFhODU3NTRlMWU4YzUzM2ZlZDExODg1Y2UwLmJpbmRQb3B1cChwb3B1cF9hNjRlNzllZGFmMDU0MDM3YWQwMTgwODMwNTlhZDI0MykKICAgICAgICA7CgogICAgICAgIAogICAgCiAgICAKICAgICAgICAgICAgdmFyIGNpcmNsZV9tYXJrZXJfMDQ5ZTI1MWEyYWE4NDA1ODhkZGYxZjhkMGJhYTJlZDUgPSBMLmNpcmNsZU1hcmtlcigKICAgICAgICAgICAgICAgIFs0My42NTE1NzA2LCAtNzkuNDg0NDQ5OV0sCiAgICAgICAgICAgICAgICB7ImJ1YmJsaW5nTW91c2VFdmVudHMiOiB0cnVlLCAiY29sb3IiOiAiYmx1ZSIsICJkYXNoQXJyYXkiOiBudWxsLCAiZGFzaE9mZnNldCI6IG51bGwsICJmaWxsIjogdHJ1ZSwgImZpbGxDb2xvciI6ICIjMzE4NmNjIiwgImZpbGxPcGFjaXR5IjogMC43LCAiZmlsbFJ1bGUiOiAiZXZlbm9kZCIsICJsaW5lQ2FwIjogInJvdW5kIiwgImxpbmVKb2luIjogInJvdW5kIiwgIm9wYWNpdHkiOiAxLjAsICJyYWRpdXMiOiA1LCAic3Ryb2tlIjogdHJ1ZSwgIndlaWdodCI6IDN9CiAgICAgICAgICAgICkuYWRkVG8obWFwXzkyZjlmOTQxNDYyZDRiZDY4OTUwNDgzN2MwMjA5MzY5KTsKICAgICAgICAKICAgIAogICAgICAgIHZhciBwb3B1cF8wMzYwNjc2NDEzYjg0OTdiOTZjZGVlN2NhMWUzMDYyMCA9IEwucG9wdXAoeyJtYXhXaWR0aCI6ICIxMDAlIn0pOwoKICAgICAgICAKICAgICAgICAgICAgdmFyIGh0bWxfNTZhZWQ5NDFhZjkyNDEzMzk1Y2EzOTZkNjhkYzZkYjQgPSAkKGA8ZGl2IGlkPSJodG1sXzU2YWVkOTQxYWY5MjQxMzM5NWNhMzk2ZDY4ZGM2ZGI0IiBzdHlsZT0id2lkdGg6IDEwMC4wJTsgaGVpZ2h0OiAxMDAuMCU7Ij5SdW5ueW1lZGUsIFN3YW5zZWEsIFdlc3QgVG9yb250bzwvZGl2PmApWzBdOwogICAgICAgICAgICBwb3B1cF8wMzYwNjc2NDEzYjg0OTdiOTZjZGVlN2NhMWUzMDYyMC5zZXRDb250ZW50KGh0bWxfNTZhZWQ5NDFhZjkyNDEzMzk1Y2EzOTZkNjhkYzZkYjQpOwogICAgICAgIAoKICAgICAgICBjaXJjbGVfbWFya2VyXzA0OWUyNTFhMmFhODQwNTg4ZGRmMWY4ZDBiYWEyZWQ1LmJpbmRQb3B1cChwb3B1cF8wMzYwNjc2NDEzYjg0OTdiOTZjZGVlN2NhMWUzMDYyMCkKICAgICAgICA7CgogICAgICAgIAogICAgCiAgICAKICAgICAgICAgICAgdmFyIGNpcmNsZV9tYXJrZXJfYjZkZTNmYWE2ZDg2NGQ0MzgxMjA2ZTI0ZDY0ODJhNmYgPSBMLmNpcmNsZU1hcmtlcigKICAgICAgICAgICAgICAgIFs0My43ODE2Mzc1LCAtNzkuMzA0MzAyMV0sCiAgICAgICAgICAgICAgICB7ImJ1YmJsaW5nTW91c2VFdmVudHMiOiB0cnVlLCAiY29sb3IiOiAiYmx1ZSIsICJkYXNoQXJyYXkiOiBudWxsLCAiZGFzaE9mZnNldCI6IG51bGwsICJmaWxsIjogdHJ1ZSwgImZpbGxDb2xvciI6ICIjMzE4NmNjIiwgImZpbGxPcGFjaXR5IjogMC43LCAiZmlsbFJ1bGUiOiAiZXZlbm9kZCIsICJsaW5lQ2FwIjogInJvdW5kIiwgImxpbmVKb2luIjogInJvdW5kIiwgIm9wYWNpdHkiOiAxLjAsICJyYWRpdXMiOiA1LCAic3Ryb2tlIjogdHJ1ZSwgIndlaWdodCI6IDN9CiAgICAgICAgICAgICkuYWRkVG8obWFwXzkyZjlmOTQxNDYyZDRiZDY4OTUwNDgzN2MwMjA5MzY5KTsKICAgICAgICAKICAgIAogICAgICAgIHZhciBwb3B1cF81MmQyODYyMWQzZWM0Nzc4ODI3YzY5ZWY3ZmFmNDE5NyA9IEwucG9wdXAoeyJtYXhXaWR0aCI6ICIxMDAlIn0pOwoKICAgICAgICAKICAgICAgICAgICAgdmFyIGh0bWxfN2IxYjk4MzBjNzUzNDc0MTgxNzQ5ODIxNmY1NWFmZTMgPSAkKGA8ZGl2IGlkPSJodG1sXzdiMWI5ODMwYzc1MzQ3NDE4MTc0OTgyMTZmNTVhZmUzIiBzdHlsZT0id2lkdGg6IDEwMC4wJTsgaGVpZ2h0OiAxMDAuMCU7Ij5DbGFya3MgQ29ybmVycywgVGFtIE8mIzM5O1NoYW50ZXIsIFN1bGxpdmFuLCBTY2FyYm9yb3VnaDwvZGl2PmApWzBdOwogICAgICAgICAgICBwb3B1cF81MmQyODYyMWQzZWM0Nzc4ODI3YzY5ZWY3ZmFmNDE5Ny5zZXRDb250ZW50KGh0bWxfN2IxYjk4MzBjNzUzNDc0MTgxNzQ5ODIxNmY1NWFmZTMpOwogICAgICAgIAoKICAgICAgICBjaXJjbGVfbWFya2VyX2I2ZGUzZmFhNmQ4NjRkNDM4MTIwNmUyNGQ2NDgyYTZmLmJpbmRQb3B1cChwb3B1cF81MmQyODYyMWQzZWM0Nzc4ODI3YzY5ZWY3ZmFmNDE5NykKICAgICAgICA7CgogICAgICAgIAogICAgCiAgICAKICAgICAgICAgICAgdmFyIGNpcmNsZV9tYXJrZXJfOTAwMDNhNjc4ODg0NGJkOWJmNmIzYWFjYTQ0NDVmODIgPSBMLmNpcmNsZU1hcmtlcigKICAgICAgICAgICAgICAgIFs0My42ODk1NzQzLCAtNzkuMzgzMTU5OTAwMDAwMDFdLAogICAgICAgICAgICAgICAgeyJidWJibGluZ01vdXNlRXZlbnRzIjogdHJ1ZSwgImNvbG9yIjogImJsdWUiLCAiZGFzaEFycmF5IjogbnVsbCwgImRhc2hPZmZzZXQiOiBudWxsLCAiZmlsbCI6IHRydWUsICJmaWxsQ29sb3IiOiAiIzMxODZjYyIsICJmaWxsT3BhY2l0eSI6IDAuNywgImZpbGxSdWxlIjogImV2ZW5vZGQiLCAibGluZUNhcCI6ICJyb3VuZCIsICJsaW5lSm9pbiI6ICJyb3VuZCIsICJvcGFjaXR5IjogMS4wLCAicmFkaXVzIjogNSwgInN0cm9rZSI6IHRydWUsICJ3ZWlnaHQiOiAzfQogICAgICAgICAgICApLmFkZFRvKG1hcF85MmY5Zjk0MTQ2MmQ0YmQ2ODk1MDQ4MzdjMDIwOTM2OSk7CiAgICAgICAgCiAgICAKICAgICAgICB2YXIgcG9wdXBfNmZlMTM4YmM4NjcwNDBlOTliOTA5ZGYzNWFmN2IyYWEgPSBMLnBvcHVwKHsibWF4V2lkdGgiOiAiMTAwJSJ9KTsKCiAgICAgICAgCiAgICAgICAgICAgIHZhciBodG1sX2ZkOTE1OTAwNjg0MDQ4N2VhOTZlMzUyNzgzOTY5NzY4ID0gJChgPGRpdiBpZD0iaHRtbF9mZDkxNTkwMDY4NDA0ODdlYTk2ZTM1Mjc4Mzk2OTc2OCIgc3R5bGU9IndpZHRoOiAxMDAuMCU7IGhlaWdodDogMTAwLjAlOyI+TW9vcmUgUGFyaywgU3VtbWVyaGlsbCBFYXN0LCBDZW50cmFsIFRvcm9udG88L2Rpdj5gKVswXTsKICAgICAgICAgICAgcG9wdXBfNmZlMTM4YmM4NjcwNDBlOTliOTA5ZGYzNWFmN2IyYWEuc2V0Q29udGVudChodG1sX2ZkOTE1OTAwNjg0MDQ4N2VhOTZlMzUyNzgzOTY5NzY4KTsKICAgICAgICAKCiAgICAgICAgY2lyY2xlX21hcmtlcl85MDAwM2E2Nzg4ODQ0YmQ5YmY2YjNhYWNhNDQ0NWY4Mi5iaW5kUG9wdXAocG9wdXBfNmZlMTM4YmM4NjcwNDBlOTliOTA5ZGYzNWFmN2IyYWEpCiAgICAgICAgOwoKICAgICAgICAKICAgIAogICAgCiAgICAgICAgICAgIHZhciBjaXJjbGVfbWFya2VyXzkxM2UxMTQyMTlmYzQ2OTc5ZjllYzk4MGViNDYxNDQ5ID0gTC5jaXJjbGVNYXJrZXIoCiAgICAgICAgICAgICAgICBbNDMuNjUzMjA1NywgLTc5LjQwMDA0OTNdLAogICAgICAgICAgICAgICAgeyJidWJibGluZ01vdXNlRXZlbnRzIjogdHJ1ZSwgImNvbG9yIjogImJsdWUiLCAiZGFzaEFycmF5IjogbnVsbCwgImRhc2hPZmZzZXQiOiBudWxsLCAiZmlsbCI6IHRydWUsICJmaWxsQ29sb3IiOiAiIzMxODZjYyIsICJmaWxsT3BhY2l0eSI6IDAuNywgImZpbGxSdWxlIjogImV2ZW5vZGQiLCAibGluZUNhcCI6ICJyb3VuZCIsICJsaW5lSm9pbiI6ICJyb3VuZCIsICJvcGFjaXR5IjogMS4wLCAicmFkaXVzIjogNSwgInN0cm9rZSI6IHRydWUsICJ3ZWlnaHQiOiAzfQogICAgICAgICAgICApLmFkZFRvKG1hcF85MmY5Zjk0MTQ2MmQ0YmQ2ODk1MDQ4MzdjMDIwOTM2OSk7CiAgICAgICAgCiAgICAKICAgICAgICB2YXIgcG9wdXBfYmY1M2ZhY2E1YmU4NDljYjg1NTA2MTU3OGU3NzNkNWEgPSBMLnBvcHVwKHsibWF4V2lkdGgiOiAiMTAwJSJ9KTsKCiAgICAgICAgCiAgICAgICAgICAgIHZhciBodG1sXzY0YzI1YjQ4ZmE1MTRjYWJiMmY1ZTEwMzFhZDM5NDAxID0gJChgPGRpdiBpZD0iaHRtbF82NGMyNWI0OGZhNTE0Y2FiYjJmNWUxMDMxYWQzOTQwMSIgc3R5bGU9IndpZHRoOiAxMDAuMCU7IGhlaWdodDogMTAwLjAlOyI+S2Vuc2luZ3RvbiBNYXJrZXQsIENoaW5hdG93biwgR3JhbmdlIFBhcmssIERvd250b3duIFRvcm9udG88L2Rpdj5gKVswXTsKICAgICAgICAgICAgcG9wdXBfYmY1M2ZhY2E1YmU4NDljYjg1NTA2MTU3OGU3NzNkNWEuc2V0Q29udGVudChodG1sXzY0YzI1YjQ4ZmE1MTRjYWJiMmY1ZTEwMzFhZDM5NDAxKTsKICAgICAgICAKCiAgICAgICAgY2lyY2xlX21hcmtlcl85MTNlMTE0MjE5ZmM0Njk3OWY5ZWM5ODBlYjQ2MTQ0OS5iaW5kUG9wdXAocG9wdXBfYmY1M2ZhY2E1YmU4NDljYjg1NTA2MTU3OGU3NzNkNWEpCiAgICAgICAgOwoKICAgICAgICAKICAgIAogICAgCiAgICAgICAgICAgIHZhciBjaXJjbGVfbWFya2VyXzM3NjQxZjYzOWQ0YjRhYWY5OGU1ODc3YzU1NTU1NDY0ID0gTC5jaXJjbGVNYXJrZXIoCiAgICAgICAgICAgICAgICBbNDMuODE1MjUyMiwgLTc5LjI4NDU3NzJdLAogICAgICAgICAgICAgICAgeyJidWJibGluZ01vdXNlRXZlbnRzIjogdHJ1ZSwgImNvbG9yIjogImJsdWUiLCAiZGFzaEFycmF5IjogbnVsbCwgImRhc2hPZmZzZXQiOiBudWxsLCAiZmlsbCI6IHRydWUsICJmaWxsQ29sb3IiOiAiIzMxODZjYyIsICJmaWxsT3BhY2l0eSI6IDAuNywgImZpbGxSdWxlIjogImV2ZW5vZGQiLCAibGluZUNhcCI6ICJyb3VuZCIsICJsaW5lSm9pbiI6ICJyb3VuZCIsICJvcGFjaXR5IjogMS4wLCAicmFkaXVzIjogNSwgInN0cm9rZSI6IHRydWUsICJ3ZWlnaHQiOiAzfQogICAgICAgICAgICApLmFkZFRvKG1hcF85MmY5Zjk0MTQ2MmQ0YmQ2ODk1MDQ4MzdjMDIwOTM2OSk7CiAgICAgICAgCiAgICAKICAgICAgICB2YXIgcG9wdXBfYWVhNzY4OGQwNzA1NDg3YmEzOTcwM2MyMWY4NDVkZTcgPSBMLnBvcHVwKHsibWF4V2lkdGgiOiAiMTAwJSJ9KTsKCiAgICAgICAgCiAgICAgICAgICAgIHZhciBodG1sXzMxM2JiOWJmYmE2YzQ2OTc4NDA3YTU4NDhiZWRkNjhmID0gJChgPGRpdiBpZD0iaHRtbF8zMTNiYjliZmJhNmM0Njk3ODQwN2E1ODQ4YmVkZDY4ZiIgc3R5bGU9IndpZHRoOiAxMDAuMCU7IGhlaWdodDogMTAwLjAlOyI+TWlsbGlrZW4sIEFnaW5jb3VydCBOb3J0aCwgU3RlZWxlcyBFYXN0LCBMJiMzOTtBbW9yZWF1eCBFYXN0LCBTY2FyYm9yb3VnaDwvZGl2PmApWzBdOwogICAgICAgICAgICBwb3B1cF9hZWE3Njg4ZDA3MDU0ODdiYTM5NzAzYzIxZjg0NWRlNy5zZXRDb250ZW50KGh0bWxfMzEzYmI5YmZiYTZjNDY5Nzg0MDdhNTg0OGJlZGQ2OGYpOwogICAgICAgIAoKICAgICAgICBjaXJjbGVfbWFya2VyXzM3NjQxZjYzOWQ0YjRhYWY5OGU1ODc3YzU1NTU1NDY0LmJpbmRQb3B1cChwb3B1cF9hZWE3Njg4ZDA3MDU0ODdiYTM5NzAzYzIxZjg0NWRlNykKICAgICAgICA7CgogICAgICAgIAogICAgCiAgICAKICAgICAgICAgICAgdmFyIGNpcmNsZV9tYXJrZXJfOGU2YjcwODViNzVhNGQ3YjlhYjZlOTQ4MjhlMGE1MTMgPSBMLmNpcmNsZU1hcmtlcigKICAgICAgICAgICAgICAgIFs0My42ODY0MTIyOTk5OTk5OSwgLTc5LjQwMDA0OTNdLAogICAgICAgICAgICAgICAgeyJidWJibGluZ01vdXNlRXZlbnRzIjogdHJ1ZSwgImNvbG9yIjogImJsdWUiLCAiZGFzaEFycmF5IjogbnVsbCwgImRhc2hPZmZzZXQiOiBudWxsLCAiZmlsbCI6IHRydWUsICJmaWxsQ29sb3IiOiAiIzMxODZjYyIsICJmaWxsT3BhY2l0eSI6IDAuNywgImZpbGxSdWxlIjogImV2ZW5vZGQiLCAibGluZUNhcCI6ICJyb3VuZCIsICJsaW5lSm9pbiI6ICJyb3VuZCIsICJvcGFjaXR5IjogMS4wLCAicmFkaXVzIjogNSwgInN0cm9rZSI6IHRydWUsICJ3ZWlnaHQiOiAzfQogICAgICAgICAgICApLmFkZFRvKG1hcF85MmY5Zjk0MTQ2MmQ0YmQ2ODk1MDQ4MzdjMDIwOTM2OSk7CiAgICAgICAgCiAgICAKICAgICAgICB2YXIgcG9wdXBfNjFhNTRkM2NhZmI3NDM0ZDkzYjlhY2IzODJkM2U2ZTEgPSBMLnBvcHVwKHsibWF4V2lkdGgiOiAiMTAwJSJ9KTsKCiAgICAgICAgCiAgICAgICAgICAgIHZhciBodG1sX2NkNDE2MDExZjdlMzQ2MGM5YWYxMTM0NjY3ODk2NzU4ID0gJChgPGRpdiBpZD0iaHRtbF9jZDQxNjAxMWY3ZTM0NjBjOWFmMTEzNDY2Nzg5Njc1OCIgc3R5bGU9IndpZHRoOiAxMDAuMCU7IGhlaWdodDogMTAwLjAlOyI+U3VtbWVyaGlsbCBXZXN0LCBSYXRobmVsbHksIFNvdXRoIEhpbGwsIEZvcmVzdCBIaWxsIFNFLCBEZWVyIFBhcmssIENlbnRyYWwgVG9yb250bzwvZGl2PmApWzBdOwogICAgICAgICAgICBwb3B1cF82MWE1NGQzY2FmYjc0MzRkOTNiOWFjYjM4MmQzZTZlMS5zZXRDb250ZW50KGh0bWxfY2Q0MTYwMTFmN2UzNDYwYzlhZjExMzQ2Njc4OTY3NTgpOwogICAgICAgIAoKICAgICAgICBjaXJjbGVfbWFya2VyXzhlNmI3MDg1Yjc1YTRkN2I5YWI2ZTk0ODI4ZTBhNTEzLmJpbmRQb3B1cChwb3B1cF82MWE1NGQzY2FmYjc0MzRkOTNiOWFjYjM4MmQzZTZlMSkKICAgICAgICA7CgogICAgICAgIAogICAgCiAgICAKICAgICAgICAgICAgdmFyIGNpcmNsZV9tYXJrZXJfMjBmNGQwZjU0NTcxNGU0ZjhhNDI3MDY2Yjk3ZTkwNTYgPSBMLmNpcmNsZU1hcmtlcigKICAgICAgICAgICAgICAgIFs0My42Mjg5NDY3LCAtNzkuMzk0NDE5OV0sCiAgICAgICAgICAgICAgICB7ImJ1YmJsaW5nTW91c2VFdmVudHMiOiB0cnVlLCAiY29sb3IiOiAiYmx1ZSIsICJkYXNoQXJyYXkiOiBudWxsLCAiZGFzaE9mZnNldCI6IG51bGwsICJmaWxsIjogdHJ1ZSwgImZpbGxDb2xvciI6ICIjMzE4NmNjIiwgImZpbGxPcGFjaXR5IjogMC43LCAiZmlsbFJ1bGUiOiAiZXZlbm9kZCIsICJsaW5lQ2FwIjogInJvdW5kIiwgImxpbmVKb2luIjogInJvdW5kIiwgIm9wYWNpdHkiOiAxLjAsICJyYWRpdXMiOiA1LCAic3Ryb2tlIjogdHJ1ZSwgIndlaWdodCI6IDN9CiAgICAgICAgICAgICkuYWRkVG8obWFwXzkyZjlmOTQxNDYyZDRiZDY4OTUwNDgzN2MwMjA5MzY5KTsKICAgICAgICAKICAgIAogICAgICAgIHZhciBwb3B1cF8xMzNmZDg1MGUzNGI0MmYyODUyNjYzOGI0YjdmZjU5ZiA9IEwucG9wdXAoeyJtYXhXaWR0aCI6ICIxMDAlIn0pOwoKICAgICAgICAKICAgICAgICAgICAgdmFyIGh0bWxfNWEzMmQ0NmQ0MGQ5NDc4ZmFhNzM3YTk3MWZhZmUwZmYgPSAkKGA8ZGl2IGlkPSJodG1sXzVhMzJkNDZkNDBkOTQ3OGZhYTczN2E5NzFmYWZlMGZmIiBzdHlsZT0id2lkdGg6IDEwMC4wJTsgaGVpZ2h0OiAxMDAuMCU7Ij5DTiBUb3dlciwgS2luZyBhbmQgU3BhZGluYSwgUmFpbHdheSBMYW5kcywgSGFyYm91cmZyb250IFdlc3QsIEJhdGh1cnN0IFF1YXksIFNvdXRoIE5pYWdhcmEsIElzbGFuZCBhaXJwb3J0LCBEb3dudG93biBUb3JvbnRvPC9kaXY+YClbMF07CiAgICAgICAgICAgIHBvcHVwXzEzM2ZkODUwZTM0YjQyZjI4NTI2NjM4YjRiN2ZmNTlmLnNldENvbnRlbnQoaHRtbF81YTMyZDQ2ZDQwZDk0NzhmYWE3MzdhOTcxZmFmZTBmZik7CiAgICAgICAgCgogICAgICAgIGNpcmNsZV9tYXJrZXJfMjBmNGQwZjU0NTcxNGU0ZjhhNDI3MDY2Yjk3ZTkwNTYuYmluZFBvcHVwKHBvcHVwXzEzM2ZkODUwZTM0YjQyZjI4NTI2NjM4YjRiN2ZmNTlmKQogICAgICAgIDsKCiAgICAgICAgCiAgICAKICAgIAogICAgICAgICAgICB2YXIgY2lyY2xlX21hcmtlcl8zNmYzMjhjY2VjZmE0YjRlYmRiZWY3NGNlYmRkZDI1YyA9IEwuY2lyY2xlTWFya2VyKAogICAgICAgICAgICAgICAgWzQzLjYwNTY0NjYsIC03OS41MDEzMjA3MDAwMDAwMV0sCiAgICAgICAgICAgICAgICB7ImJ1YmJsaW5nTW91c2VFdmVudHMiOiB0cnVlLCAiY29sb3IiOiAiYmx1ZSIsICJkYXNoQXJyYXkiOiBudWxsLCAiZGFzaE9mZnNldCI6IG51bGwsICJmaWxsIjogdHJ1ZSwgImZpbGxDb2xvciI6ICIjMzE4NmNjIiwgImZpbGxPcGFjaXR5IjogMC43LCAiZmlsbFJ1bGUiOiAiZXZlbm9kZCIsICJsaW5lQ2FwIjogInJvdW5kIiwgImxpbmVKb2luIjogInJvdW5kIiwgIm9wYWNpdHkiOiAxLjAsICJyYWRpdXMiOiA1LCAic3Ryb2tlIjogdHJ1ZSwgIndlaWdodCI6IDN9CiAgICAgICAgICAgICkuYWRkVG8obWFwXzkyZjlmOTQxNDYyZDRiZDY4OTUwNDgzN2MwMjA5MzY5KTsKICAgICAgICAKICAgIAogICAgICAgIHZhciBwb3B1cF82Nzg1MjdmZDc3M2Q0YzQwYmQ4MTBiZDUzMzkyYmI5NyA9IEwucG9wdXAoeyJtYXhXaWR0aCI6ICIxMDAlIn0pOwoKICAgICAgICAKICAgICAgICAgICAgdmFyIGh0bWxfNTQxZTc0YjVjMjJmNDhiODg4M2M0NDhiNmI1ZDY5NDkgPSAkKGA8ZGl2IGlkPSJodG1sXzU0MWU3NGI1YzIyZjQ4Yjg4ODNjNDQ4YjZiNWQ2OTQ5IiBzdHlsZT0id2lkdGg6IDEwMC4wJTsgaGVpZ2h0OiAxMDAuMCU7Ij5OZXcgVG9yb250bywgTWltaWNvIFNvdXRoLCBIdW1iZXIgQmF5IFNob3JlcywgRXRvYmljb2tlPC9kaXY+YClbMF07CiAgICAgICAgICAgIHBvcHVwXzY3ODUyN2ZkNzczZDRjNDBiZDgxMGJkNTMzOTJiYjk3LnNldENvbnRlbnQoaHRtbF81NDFlNzRiNWMyMmY0OGI4ODgzYzQ0OGI2YjVkNjk0OSk7CiAgICAgICAgCgogICAgICAgIGNpcmNsZV9tYXJrZXJfMzZmMzI4Y2NlY2ZhNGI0ZWJkYmVmNzRjZWJkZGQyNWMuYmluZFBvcHVwKHBvcHVwXzY3ODUyN2ZkNzczZDRjNDBiZDgxMGJkNTMzOTJiYjk3KQogICAgICAgIDsKCiAgICAgICAgCiAgICAKICAgIAogICAgICAgICAgICB2YXIgY2lyY2xlX21hcmtlcl8zN2YyMmFjZDZhMzQ0ZWM2YThhYTNiMTg2ZWFmZjRlMCA9IEwuY2lyY2xlTWFya2VyKAogICAgICAgICAgICAgICAgWzQzLjczOTQxNjM5OTk5OTk5NiwgLTc5LjU4ODQzNjldLAogICAgICAgICAgICAgICAgeyJidWJibGluZ01vdXNlRXZlbnRzIjogdHJ1ZSwgImNvbG9yIjogImJsdWUiLCAiZGFzaEFycmF5IjogbnVsbCwgImRhc2hPZmZzZXQiOiBudWxsLCAiZmlsbCI6IHRydWUsICJmaWxsQ29sb3IiOiAiIzMxODZjYyIsICJmaWxsT3BhY2l0eSI6IDAuNywgImZpbGxSdWxlIjogImV2ZW5vZGQiLCAibGluZUNhcCI6ICJyb3VuZCIsICJsaW5lSm9pbiI6ICJyb3VuZCIsICJvcGFjaXR5IjogMS4wLCAicmFkaXVzIjogNSwgInN0cm9rZSI6IHRydWUsICJ3ZWlnaHQiOiAzfQogICAgICAgICAgICApLmFkZFRvKG1hcF85MmY5Zjk0MTQ2MmQ0YmQ2ODk1MDQ4MzdjMDIwOTM2OSk7CiAgICAgICAgCiAgICAKICAgICAgICB2YXIgcG9wdXBfNzJhY2ZkOWVjZWIwNGZjZTg0YTY4MjEyMWU5YTk5YWYgPSBMLnBvcHVwKHsibWF4V2lkdGgiOiAiMTAwJSJ9KTsKCiAgICAgICAgCiAgICAgICAgICAgIHZhciBodG1sX2E0NWFhZjc1ZTZlYzQ0N2E5ZWE2Y2VmMzE0MTczNmUwID0gJChgPGRpdiBpZD0iaHRtbF9hNDVhYWY3NWU2ZWM0NDdhOWVhNmNlZjMxNDE3MzZlMCIgc3R5bGU9IndpZHRoOiAxMDAuMCU7IGhlaWdodDogMTAwLjAlOyI+U291dGggU3RlZWxlcywgU2lsdmVyc3RvbmUsIEh1bWJlcmdhdGUsIEphbWVzdG93biwgTW91bnQgT2xpdmUsIEJlYXVtb25kIEhlaWdodHMsIFRoaXN0bGV0b3duLCBBbGJpb24gR2FyZGVucywgRXRvYmljb2tlPC9kaXY+YClbMF07CiAgICAgICAgICAgIHBvcHVwXzcyYWNmZDllY2ViMDRmY2U4NGE2ODIxMjFlOWE5OWFmLnNldENvbnRlbnQoaHRtbF9hNDVhYWY3NWU2ZWM0NDdhOWVhNmNlZjMxNDE3MzZlMCk7CiAgICAgICAgCgogICAgICAgIGNpcmNsZV9tYXJrZXJfMzdmMjJhY2Q2YTM0NGVjNmE4YWEzYjE4NmVhZmY0ZTAuYmluZFBvcHVwKHBvcHVwXzcyYWNmZDllY2ViMDRmY2U4NGE2ODIxMjFlOWE5OWFmKQogICAgICAgIDsKCiAgICAgICAgCiAgICAKICAgIAogICAgICAgICAgICB2YXIgY2lyY2xlX21hcmtlcl9mZGFlNDkxMGYyMjE0YTg5YjJkN2Y2NzNkMTY4YWYzZCA9IEwuY2lyY2xlTWFya2VyKAogICAgICAgICAgICAgICAgWzQzLjc5OTUyNTIwMDAwMDAwNSwgLTc5LjMxODM4ODddLAogICAgICAgICAgICAgICAgeyJidWJibGluZ01vdXNlRXZlbnRzIjogdHJ1ZSwgImNvbG9yIjogImJsdWUiLCAiZGFzaEFycmF5IjogbnVsbCwgImRhc2hPZmZzZXQiOiBudWxsLCAiZmlsbCI6IHRydWUsICJmaWxsQ29sb3IiOiAiIzMxODZjYyIsICJmaWxsT3BhY2l0eSI6IDAuNywgImZpbGxSdWxlIjogImV2ZW5vZGQiLCAibGluZUNhcCI6ICJyb3VuZCIsICJsaW5lSm9pbiI6ICJyb3VuZCIsICJvcGFjaXR5IjogMS4wLCAicmFkaXVzIjogNSwgInN0cm9rZSI6IHRydWUsICJ3ZWlnaHQiOiAzfQogICAgICAgICAgICApLmFkZFRvKG1hcF85MmY5Zjk0MTQ2MmQ0YmQ2ODk1MDQ4MzdjMDIwOTM2OSk7CiAgICAgICAgCiAgICAKICAgICAgICB2YXIgcG9wdXBfNzI1MTRiMzE4M2Q4NDNkYWJhY2M3YmFkNmM4NmQ0OGYgPSBMLnBvcHVwKHsibWF4V2lkdGgiOiAiMTAwJSJ9KTsKCiAgICAgICAgCiAgICAgICAgICAgIHZhciBodG1sXzIzMTQ3Zjk4OTZkYzRkNzdiMTc3NWU0NDI2NmY3ZGZlID0gJChgPGRpdiBpZD0iaHRtbF8yMzE0N2Y5ODk2ZGM0ZDc3YjE3NzVlNDQyNjZmN2RmZSIgc3R5bGU9IndpZHRoOiAxMDAuMCU7IGhlaWdodDogMTAwLjAlOyI+U3RlZWxlcyBXZXN0LCBMJiMzOTtBbW9yZWF1eCBXZXN0LCBTY2FyYm9yb3VnaDwvZGl2PmApWzBdOwogICAgICAgICAgICBwb3B1cF83MjUxNGIzMTgzZDg0M2RhYmFjYzdiYWQ2Yzg2ZDQ4Zi5zZXRDb250ZW50KGh0bWxfMjMxNDdmOTg5NmRjNGQ3N2IxNzc1ZTQ0MjY2ZjdkZmUpOwogICAgICAgIAoKICAgICAgICBjaXJjbGVfbWFya2VyX2ZkYWU0OTEwZjIyMTRhODliMmQ3ZjY3M2QxNjhhZjNkLmJpbmRQb3B1cChwb3B1cF83MjUxNGIzMTgzZDg0M2RhYmFjYzdiYWQ2Yzg2ZDQ4ZikKICAgICAgICA7CgogICAgICAgIAogICAgCiAgICAKICAgICAgICAgICAgdmFyIGNpcmNsZV9tYXJrZXJfMzVhZjM5ODc4MzA5NDI2MmEyODBhY2Y2ZTMxYmMwNGMgPSBMLmNpcmNsZU1hcmtlcigKICAgICAgICAgICAgICAgIFs0My42Nzk1NjI2LCAtNzkuMzc3NTI5NDAwMDAwMDFdLAogICAgICAgICAgICAgICAgeyJidWJibGluZ01vdXNlRXZlbnRzIjogdHJ1ZSwgImNvbG9yIjogImJsdWUiLCAiZGFzaEFycmF5IjogbnVsbCwgImRhc2hPZmZzZXQiOiBudWxsLCAiZmlsbCI6IHRydWUsICJmaWxsQ29sb3IiOiAiIzMxODZjYyIsICJmaWxsT3BhY2l0eSI6IDAuNywgImZpbGxSdWxlIjogImV2ZW5vZGQiLCAibGluZUNhcCI6ICJyb3VuZCIsICJsaW5lSm9pbiI6ICJyb3VuZCIsICJvcGFjaXR5IjogMS4wLCAicmFkaXVzIjogNSwgInN0cm9rZSI6IHRydWUsICJ3ZWlnaHQiOiAzfQogICAgICAgICAgICApLmFkZFRvKG1hcF85MmY5Zjk0MTQ2MmQ0YmQ2ODk1MDQ4MzdjMDIwOTM2OSk7CiAgICAgICAgCiAgICAKICAgICAgICB2YXIgcG9wdXBfYzBhOGIzMThjNjA3NDQ2YWJhZjkzZGQ3MDRlNWRiYzkgPSBMLnBvcHVwKHsibWF4V2lkdGgiOiAiMTAwJSJ9KTsKCiAgICAgICAgCiAgICAgICAgICAgIHZhciBodG1sX2ZjMzAwM2M4NjYwYjRhOTE5MGU0NjUzZmVlMjRiYjUzID0gJChgPGRpdiBpZD0iaHRtbF9mYzMwMDNjODY2MGI0YTkxOTBlNDY1M2ZlZTI0YmI1MyIgc3R5bGU9IndpZHRoOiAxMDAuMCU7IGhlaWdodDogMTAwLjAlOyI+Um9zZWRhbGUsIERvd250b3duIFRvcm9udG88L2Rpdj5gKVswXTsKICAgICAgICAgICAgcG9wdXBfYzBhOGIzMThjNjA3NDQ2YWJhZjkzZGQ3MDRlNWRiYzkuc2V0Q29udGVudChodG1sX2ZjMzAwM2M4NjYwYjRhOTE5MGU0NjUzZmVlMjRiYjUzKTsKICAgICAgICAKCiAgICAgICAgY2lyY2xlX21hcmtlcl8zNWFmMzk4NzgzMDk0MjYyYTI4MGFjZjZlMzFiYzA0Yy5iaW5kUG9wdXAocG9wdXBfYzBhOGIzMThjNjA3NDQ2YWJhZjkzZGQ3MDRlNWRiYzkpCiAgICAgICAgOwoKICAgICAgICAKICAgIAogICAgCiAgICAgICAgICAgIHZhciBjaXJjbGVfbWFya2VyXzU5ZDRmZmYwMTZlMzQ2NjdiNDZhYjYxZDQzM2ZkMTQxID0gTC5jaXJjbGVNYXJrZXIoCiAgICAgICAgICAgICAgICBbNDMuNjQ2NDM1MiwgLTc5LjM3NDg0NTk5OTk5OTk5XSwKICAgICAgICAgICAgICAgIHsiYnViYmxpbmdNb3VzZUV2ZW50cyI6IHRydWUsICJjb2xvciI6ICJibHVlIiwgImRhc2hBcnJheSI6IG51bGwsICJkYXNoT2Zmc2V0IjogbnVsbCwgImZpbGwiOiB0cnVlLCAiZmlsbENvbG9yIjogIiMzMTg2Y2MiLCAiZmlsbE9wYWNpdHkiOiAwLjcsICJmaWxsUnVsZSI6ICJldmVub2RkIiwgImxpbmVDYXAiOiAicm91bmQiLCAibGluZUpvaW4iOiAicm91bmQiLCAib3BhY2l0eSI6IDEuMCwgInJhZGl1cyI6IDUsICJzdHJva2UiOiB0cnVlLCAid2VpZ2h0IjogM30KICAgICAgICAgICAgKS5hZGRUbyhtYXBfOTJmOWY5NDE0NjJkNGJkNjg5NTA0ODM3YzAyMDkzNjkpOwogICAgICAgIAogICAgCiAgICAgICAgdmFyIHBvcHVwXzJhOTEwNWY2NjdmZTQzNmFhODUwYzYxZjIzZjIyZGQ1ID0gTC5wb3B1cCh7Im1heFdpZHRoIjogIjEwMCUifSk7CgogICAgICAgIAogICAgICAgICAgICB2YXIgaHRtbF8yZjlkMTZhM2VkMDM0ZGFkOWQwNGRkOTdjMTFhMzFhYyA9ICQoYDxkaXYgaWQ9Imh0bWxfMmY5ZDE2YTNlZDAzNGRhZDlkMDRkZDk3YzExYTMxYWMiIHN0eWxlPSJ3aWR0aDogMTAwLjAlOyBoZWlnaHQ6IDEwMC4wJTsiPlN0biBBIFBPIEJveGVzLCBEb3dudG93biBUb3JvbnRvPC9kaXY+YClbMF07CiAgICAgICAgICAgIHBvcHVwXzJhOTEwNWY2NjdmZTQzNmFhODUwYzYxZjIzZjIyZGQ1LnNldENvbnRlbnQoaHRtbF8yZjlkMTZhM2VkMDM0ZGFkOWQwNGRkOTdjMTFhMzFhYyk7CiAgICAgICAgCgogICAgICAgIGNpcmNsZV9tYXJrZXJfNTlkNGZmZjAxNmUzNDY2N2I0NmFiNjFkNDMzZmQxNDEuYmluZFBvcHVwKHBvcHVwXzJhOTEwNWY2NjdmZTQzNmFhODUwYzYxZjIzZjIyZGQ1KQogICAgICAgIDsKCiAgICAgICAgCiAgICAKICAgIAogICAgICAgICAgICB2YXIgY2lyY2xlX21hcmtlcl8zNjUxOWI0ZWNhYzc0ZjE0YmQ3YzhiMjU4YzBkMGI3MCA9IEwuY2lyY2xlTWFya2VyKAogICAgICAgICAgICAgICAgWzQzLjYwMjQxMzcwMDAwMDAxLCAtNzkuNTQzNDg0MDk5OTk5OTldLAogICAgICAgICAgICAgICAgeyJidWJibGluZ01vdXNlRXZlbnRzIjogdHJ1ZSwgImNvbG9yIjogImJsdWUiLCAiZGFzaEFycmF5IjogbnVsbCwgImRhc2hPZmZzZXQiOiBudWxsLCAiZmlsbCI6IHRydWUsICJmaWxsQ29sb3IiOiAiIzMxODZjYyIsICJmaWxsT3BhY2l0eSI6IDAuNywgImZpbGxSdWxlIjogImV2ZW5vZGQiLCAibGluZUNhcCI6ICJyb3VuZCIsICJsaW5lSm9pbiI6ICJyb3VuZCIsICJvcGFjaXR5IjogMS4wLCAicmFkaXVzIjogNSwgInN0cm9rZSI6IHRydWUsICJ3ZWlnaHQiOiAzfQogICAgICAgICAgICApLmFkZFRvKG1hcF85MmY5Zjk0MTQ2MmQ0YmQ2ODk1MDQ4MzdjMDIwOTM2OSk7CiAgICAgICAgCiAgICAKICAgICAgICB2YXIgcG9wdXBfMTJmOTE4ZTU3NTE2NDZlOTlkYTlkZWI1ZjNjYWVmYmYgPSBMLnBvcHVwKHsibWF4V2lkdGgiOiAiMTAwJSJ9KTsKCiAgICAgICAgCiAgICAgICAgICAgIHZhciBodG1sXzkwNzkzMTM1N2E4MzRmNGM5ZjczZGM0ZmQyZjE4NDQwID0gJChgPGRpdiBpZD0iaHRtbF85MDc5MzEzNTdhODM0ZjRjOWY3M2RjNGZkMmYxODQ0MCIgc3R5bGU9IndpZHRoOiAxMDAuMCU7IGhlaWdodDogMTAwLjAlOyI+QWxkZXJ3b29kLCBMb25nIEJyYW5jaCwgRXRvYmljb2tlPC9kaXY+YClbMF07CiAgICAgICAgICAgIHBvcHVwXzEyZjkxOGU1NzUxNjQ2ZTk5ZGE5ZGViNWYzY2FlZmJmLnNldENvbnRlbnQoaHRtbF85MDc5MzEzNTdhODM0ZjRjOWY3M2RjNGZkMmYxODQ0MCk7CiAgICAgICAgCgogICAgICAgIGNpcmNsZV9tYXJrZXJfMzY1MTliNGVjYWM3NGYxNGJkN2M4YjI1OGMwZDBiNzAuYmluZFBvcHVwKHBvcHVwXzEyZjkxOGU1NzUxNjQ2ZTk5ZGE5ZGViNWYzY2FlZmJmKQogICAgICAgIDsKCiAgICAgICAgCiAgICAKICAgIAogICAgICAgICAgICB2YXIgY2lyY2xlX21hcmtlcl8wMTlhYjcxMTc4YmE0YWQ3YmIwNjQ4ZTc1MTFlM2VkMyA9IEwuY2lyY2xlTWFya2VyKAogICAgICAgICAgICAgICAgWzQzLjcwNjc0ODI5OTk5OTk5NCwgLTc5LjU5NDA1NDRdLAogICAgICAgICAgICAgICAgeyJidWJibGluZ01vdXNlRXZlbnRzIjogdHJ1ZSwgImNvbG9yIjogImJsdWUiLCAiZGFzaEFycmF5IjogbnVsbCwgImRhc2hPZmZzZXQiOiBudWxsLCAiZmlsbCI6IHRydWUsICJmaWxsQ29sb3IiOiAiIzMxODZjYyIsICJmaWxsT3BhY2l0eSI6IDAuNywgImZpbGxSdWxlIjogImV2ZW5vZGQiLCAibGluZUNhcCI6ICJyb3VuZCIsICJsaW5lSm9pbiI6ICJyb3VuZCIsICJvcGFjaXR5IjogMS4wLCAicmFkaXVzIjogNSwgInN0cm9rZSI6IHRydWUsICJ3ZWlnaHQiOiAzfQogICAgICAgICAgICApLmFkZFRvKG1hcF85MmY5Zjk0MTQ2MmQ0YmQ2ODk1MDQ4MzdjMDIwOTM2OSk7CiAgICAgICAgCiAgICAKICAgICAgICB2YXIgcG9wdXBfYTI5ZWY0M2E3OTdkNDhjYmFkOTgzOGUyM2I5YjA1NzUgPSBMLnBvcHVwKHsibWF4V2lkdGgiOiAiMTAwJSJ9KTsKCiAgICAgICAgCiAgICAgICAgICAgIHZhciBodG1sX2Y3NGY4OWI0NjVjOTQ2M2M4YTQ4N2Y5MmZiMDg2MmY0ID0gJChgPGRpdiBpZD0iaHRtbF9mNzRmODliNDY1Yzk0NjNjOGE0ODdmOTJmYjA4NjJmNCIgc3R5bGU9IndpZHRoOiAxMDAuMCU7IGhlaWdodDogMTAwLjAlOyI+Tm9ydGh3ZXN0LCBXZXN0IEh1bWJlciAtIENsYWlydmlsbGUsIEV0b2JpY29rZTwvZGl2PmApWzBdOwogICAgICAgICAgICBwb3B1cF9hMjllZjQzYTc5N2Q0OGNiYWQ5ODM4ZTIzYjliMDU3NS5zZXRDb250ZW50KGh0bWxfZjc0Zjg5YjQ2NWM5NDYzYzhhNDg3ZjkyZmIwODYyZjQpOwogICAgICAgIAoKICAgICAgICBjaXJjbGVfbWFya2VyXzAxOWFiNzExNzhiYTRhZDdiYjA2NDhlNzUxMWUzZWQzLmJpbmRQb3B1cChwb3B1cF9hMjllZjQzYTc5N2Q0OGNiYWQ5ODM4ZTIzYjliMDU3NSkKICAgICAgICA7CgogICAgICAgIAogICAgCiAgICAKICAgICAgICAgICAgdmFyIGNpcmNsZV9tYXJrZXJfYmIzZmY4MGE3ZmMxNDE0NDk1NzhjNGFkMzNmNDgwOTMgPSBMLmNpcmNsZU1hcmtlcigKICAgICAgICAgICAgICAgIFs0My44MzYxMjQ3MDAwMDAwMDYsIC03OS4yMDU2MzYwOTk5OTk5OV0sCiAgICAgICAgICAgICAgICB7ImJ1YmJsaW5nTW91c2VFdmVudHMiOiB0cnVlLCAiY29sb3IiOiAiYmx1ZSIsICJkYXNoQXJyYXkiOiBudWxsLCAiZGFzaE9mZnNldCI6IG51bGwsICJmaWxsIjogdHJ1ZSwgImZpbGxDb2xvciI6ICIjMzE4NmNjIiwgImZpbGxPcGFjaXR5IjogMC43LCAiZmlsbFJ1bGUiOiAiZXZlbm9kZCIsICJsaW5lQ2FwIjogInJvdW5kIiwgImxpbmVKb2luIjogInJvdW5kIiwgIm9wYWNpdHkiOiAxLjAsICJyYWRpdXMiOiA1LCAic3Ryb2tlIjogdHJ1ZSwgIndlaWdodCI6IDN9CiAgICAgICAgICAgICkuYWRkVG8obWFwXzkyZjlmOTQxNDYyZDRiZDY4OTUwNDgzN2MwMjA5MzY5KTsKICAgICAgICAKICAgIAogICAgICAgIHZhciBwb3B1cF83OTk4YTM0NmFlYTQ0YTE4YWI4NmViZDFlNmRmZTE3MSA9IEwucG9wdXAoeyJtYXhXaWR0aCI6ICIxMDAlIn0pOwoKICAgICAgICAKICAgICAgICAgICAgdmFyIGh0bWxfZjNiNmQyNDQyNWVhNDQxZGFkZTk1MzhhODdlNDI4YTkgPSAkKGA8ZGl2IGlkPSJodG1sX2YzYjZkMjQ0MjVlYTQ0MWRhZGU5NTM4YTg3ZTQyOGE5IiBzdHlsZT0id2lkdGg6IDEwMC4wJTsgaGVpZ2h0OiAxMDAuMCU7Ij5VcHBlciBSb3VnZSwgU2NhcmJvcm91Z2g8L2Rpdj5gKVswXTsKICAgICAgICAgICAgcG9wdXBfNzk5OGEzNDZhZWE0NGExOGFiODZlYmQxZTZkZmUxNzEuc2V0Q29udGVudChodG1sX2YzYjZkMjQ0MjVlYTQ0MWRhZGU5NTM4YTg3ZTQyOGE5KTsKICAgICAgICAKCiAgICAgICAgY2lyY2xlX21hcmtlcl9iYjNmZjgwYTdmYzE0MTQ0OTU3OGM0YWQzM2Y0ODA5My5iaW5kUG9wdXAocG9wdXBfNzk5OGEzNDZhZWE0NGExOGFiODZlYmQxZTZkZmUxNzEpCiAgICAgICAgOwoKICAgICAgICAKICAgIAogICAgCiAgICAgICAgICAgIHZhciBjaXJjbGVfbWFya2VyXzdjOWU0ODljNWYwZjQ1OTZiZWI1NzdhOTUzMjUyNzYyID0gTC5jaXJjbGVNYXJrZXIoCiAgICAgICAgICAgICAgICBbNDMuNjY3OTY3LCAtNzkuMzY3Njc1M10sCiAgICAgICAgICAgICAgICB7ImJ1YmJsaW5nTW91c2VFdmVudHMiOiB0cnVlLCAiY29sb3IiOiAiYmx1ZSIsICJkYXNoQXJyYXkiOiBudWxsLCAiZGFzaE9mZnNldCI6IG51bGwsICJmaWxsIjogdHJ1ZSwgImZpbGxDb2xvciI6ICIjMzE4NmNjIiwgImZpbGxPcGFjaXR5IjogMC43LCAiZmlsbFJ1bGUiOiAiZXZlbm9kZCIsICJsaW5lQ2FwIjogInJvdW5kIiwgImxpbmVKb2luIjogInJvdW5kIiwgIm9wYWNpdHkiOiAxLjAsICJyYWRpdXMiOiA1LCAic3Ryb2tlIjogdHJ1ZSwgIndlaWdodCI6IDN9CiAgICAgICAgICAgICkuYWRkVG8obWFwXzkyZjlmOTQxNDYyZDRiZDY4OTUwNDgzN2MwMjA5MzY5KTsKICAgICAgICAKICAgIAogICAgICAgIHZhciBwb3B1cF9iMjNkOGQ2ODRhZDA0NGRmOTZkOGVjZTMxOTIzNGY0MSA9IEwucG9wdXAoeyJtYXhXaWR0aCI6ICIxMDAlIn0pOwoKICAgICAgICAKICAgICAgICAgICAgdmFyIGh0bWxfMmU3NTkxNGFjMzMyNDAyM2I1NjM0Mjg4NjkzYWExZTYgPSAkKGA8ZGl2IGlkPSJodG1sXzJlNzU5MTRhYzMzMjQwMjNiNTYzNDI4ODY5M2FhMWU2IiBzdHlsZT0id2lkdGg6IDEwMC4wJTsgaGVpZ2h0OiAxMDAuMCU7Ij5TdC4gSmFtZXMgVG93biwgQ2FiYmFnZXRvd24sIERvd250b3duIFRvcm9udG88L2Rpdj5gKVswXTsKICAgICAgICAgICAgcG9wdXBfYjIzZDhkNjg0YWQwNDRkZjk2ZDhlY2UzMTkyMzRmNDEuc2V0Q29udGVudChodG1sXzJlNzU5MTRhYzMzMjQwMjNiNTYzNDI4ODY5M2FhMWU2KTsKICAgICAgICAKCiAgICAgICAgY2lyY2xlX21hcmtlcl83YzllNDg5YzVmMGY0NTk2YmViNTc3YTk1MzI1Mjc2Mi5iaW5kUG9wdXAocG9wdXBfYjIzZDhkNjg0YWQwNDRkZjk2ZDhlY2UzMTkyMzRmNDEpCiAgICAgICAgOwoKICAgICAgICAKICAgIAogICAgCiAgICAgICAgICAgIHZhciBjaXJjbGVfbWFya2VyXzY5YjlkZDMzMzdkYzQ0OWJiOTA5ZWNmYjg2NGQwYTQ0ID0gTC5jaXJjbGVNYXJrZXIoCiAgICAgICAgICAgICAgICBbNDMuNjQ4NDI5MiwgLTc5LjM4MjI4MDJdLAogICAgICAgICAgICAgICAgeyJidWJibGluZ01vdXNlRXZlbnRzIjogdHJ1ZSwgImNvbG9yIjogImJsdWUiLCAiZGFzaEFycmF5IjogbnVsbCwgImRhc2hPZmZzZXQiOiBudWxsLCAiZmlsbCI6IHRydWUsICJmaWxsQ29sb3IiOiAiIzMxODZjYyIsICJmaWxsT3BhY2l0eSI6IDAuNywgImZpbGxSdWxlIjogImV2ZW5vZGQiLCAibGluZUNhcCI6ICJyb3VuZCIsICJsaW5lSm9pbiI6ICJyb3VuZCIsICJvcGFjaXR5IjogMS4wLCAicmFkaXVzIjogNSwgInN0cm9rZSI6IHRydWUsICJ3ZWlnaHQiOiAzfQogICAgICAgICAgICApLmFkZFRvKG1hcF85MmY5Zjk0MTQ2MmQ0YmQ2ODk1MDQ4MzdjMDIwOTM2OSk7CiAgICAgICAgCiAgICAKICAgICAgICB2YXIgcG9wdXBfZmQyYTEyOTVmN2UwNDg4MTk5ZjU1ZDdhZTEwZmE3MzMgPSBMLnBvcHVwKHsibWF4V2lkdGgiOiAiMTAwJSJ9KTsKCiAgICAgICAgCiAgICAgICAgICAgIHZhciBodG1sXzM5MTNjNGYzNDU2OTQwN2I4MjJjODJhOTNkYTA4NGQ5ID0gJChgPGRpdiBpZD0iaHRtbF8zOTEzYzRmMzQ1Njk0MDdiODIyYzgyYTkzZGEwODRkOSIgc3R5bGU9IndpZHRoOiAxMDAuMCU7IGhlaWdodDogMTAwLjAlOyI+Rmlyc3QgQ2FuYWRpYW4gUGxhY2UsIFVuZGVyZ3JvdW5kIGNpdHksIERvd250b3duIFRvcm9udG88L2Rpdj5gKVswXTsKICAgICAgICAgICAgcG9wdXBfZmQyYTEyOTVmN2UwNDg4MTk5ZjU1ZDdhZTEwZmE3MzMuc2V0Q29udGVudChodG1sXzM5MTNjNGYzNDU2OTQwN2I4MjJjODJhOTNkYTA4NGQ5KTsKICAgICAgICAKCiAgICAgICAgY2lyY2xlX21hcmtlcl82OWI5ZGQzMzM3ZGM0NDliYjkwOWVjZmI4NjRkMGE0NC5iaW5kUG9wdXAocG9wdXBfZmQyYTEyOTVmN2UwNDg4MTk5ZjU1ZDdhZTEwZmE3MzMpCiAgICAgICAgOwoKICAgICAgICAKICAgIAogICAgCiAgICAgICAgICAgIHZhciBjaXJjbGVfbWFya2VyXzY3NzQxOWY1ZGFiMjRmMjNhZWZkZWVlM2ZiYjZkMmRmID0gTC5jaXJjbGVNYXJrZXIoCiAgICAgICAgICAgICAgICBbNDMuNjUzNjUzNjAwMDAwMDA1LCAtNzkuNTA2OTQzNl0sCiAgICAgICAgICAgICAgICB7ImJ1YmJsaW5nTW91c2VFdmVudHMiOiB0cnVlLCAiY29sb3IiOiAiYmx1ZSIsICJkYXNoQXJyYXkiOiBudWxsLCAiZGFzaE9mZnNldCI6IG51bGwsICJmaWxsIjogdHJ1ZSwgImZpbGxDb2xvciI6ICIjMzE4NmNjIiwgImZpbGxPcGFjaXR5IjogMC43LCAiZmlsbFJ1bGUiOiAiZXZlbm9kZCIsICJsaW5lQ2FwIjogInJvdW5kIiwgImxpbmVKb2luIjogInJvdW5kIiwgIm9wYWNpdHkiOiAxLjAsICJyYWRpdXMiOiA1LCAic3Ryb2tlIjogdHJ1ZSwgIndlaWdodCI6IDN9CiAgICAgICAgICAgICkuYWRkVG8obWFwXzkyZjlmOTQxNDYyZDRiZDY4OTUwNDgzN2MwMjA5MzY5KTsKICAgICAgICAKICAgIAogICAgICAgIHZhciBwb3B1cF85NzJhNTgzNzA5MjU0MTNjYTA2NjQxOWUxODRmYTkwNyA9IEwucG9wdXAoeyJtYXhXaWR0aCI6ICIxMDAlIn0pOwoKICAgICAgICAKICAgICAgICAgICAgdmFyIGh0bWxfMDBhNDM4NjBlYTdlNDRlYzk0YzJkZjhlMGNlOWY3MzkgPSAkKGA8ZGl2IGlkPSJodG1sXzAwYTQzODYwZWE3ZTQ0ZWM5NGMyZGY4ZTBjZTlmNzM5IiBzdHlsZT0id2lkdGg6IDEwMC4wJTsgaGVpZ2h0OiAxMDAuMCU7Ij5UaGUgS2luZ3N3YXksIE1vbnRnb21lcnkgUm9hZCwgT2xkIE1pbGwgTm9ydGgsIEV0b2JpY29rZTwvZGl2PmApWzBdOwogICAgICAgICAgICBwb3B1cF85NzJhNTgzNzA5MjU0MTNjYTA2NjQxOWUxODRmYTkwNy5zZXRDb250ZW50KGh0bWxfMDBhNDM4NjBlYTdlNDRlYzk0YzJkZjhlMGNlOWY3MzkpOwogICAgICAgIAoKICAgICAgICBjaXJjbGVfbWFya2VyXzY3NzQxOWY1ZGFiMjRmMjNhZWZkZWVlM2ZiYjZkMmRmLmJpbmRQb3B1cChwb3B1cF85NzJhNTgzNzA5MjU0MTNjYTA2NjQxOWUxODRmYTkwNykKICAgICAgICA7CgogICAgICAgIAogICAgCiAgICAKICAgICAgICAgICAgdmFyIGNpcmNsZV9tYXJrZXJfM2M1ZTE3MWI4NGYzNDU1NzhlYTYwYjY3NWU5ZDQzMmIgPSBMLmNpcmNsZU1hcmtlcigKICAgICAgICAgICAgICAgIFs0My42NjU4NTk5LCAtNzkuMzgzMTU5OTAwMDAwMDFdLAogICAgICAgICAgICAgICAgeyJidWJibGluZ01vdXNlRXZlbnRzIjogdHJ1ZSwgImNvbG9yIjogImJsdWUiLCAiZGFzaEFycmF5IjogbnVsbCwgImRhc2hPZmZzZXQiOiBudWxsLCAiZmlsbCI6IHRydWUsICJmaWxsQ29sb3IiOiAiIzMxODZjYyIsICJmaWxsT3BhY2l0eSI6IDAuNywgImZpbGxSdWxlIjogImV2ZW5vZGQiLCAibGluZUNhcCI6ICJyb3VuZCIsICJsaW5lSm9pbiI6ICJyb3VuZCIsICJvcGFjaXR5IjogMS4wLCAicmFkaXVzIjogNSwgInN0cm9rZSI6IHRydWUsICJ3ZWlnaHQiOiAzfQogICAgICAgICAgICApLmFkZFRvKG1hcF85MmY5Zjk0MTQ2MmQ0YmQ2ODk1MDQ4MzdjMDIwOTM2OSk7CiAgICAgICAgCiAgICAKICAgICAgICB2YXIgcG9wdXBfY2FlMzY2Mjk1NmMwNDRkYTlkM2I1ZjAxMjk5ZWYxMTQgPSBMLnBvcHVwKHsibWF4V2lkdGgiOiAiMTAwJSJ9KTsKCiAgICAgICAgCiAgICAgICAgICAgIHZhciBodG1sXzY5ZDAzNjI2ZDQxZjRjMjc4YTkzZjJjMDQyM2I5YjBkID0gJChgPGRpdiBpZD0iaHRtbF82OWQwMzYyNmQ0MWY0YzI3OGE5M2YyYzA0MjNiOWIwZCIgc3R5bGU9IndpZHRoOiAxMDAuMCU7IGhlaWdodDogMTAwLjAlOyI+Q2h1cmNoIGFuZCBXZWxsZXNsZXksIERvd250b3duIFRvcm9udG88L2Rpdj5gKVswXTsKICAgICAgICAgICAgcG9wdXBfY2FlMzY2Mjk1NmMwNDRkYTlkM2I1ZjAxMjk5ZWYxMTQuc2V0Q29udGVudChodG1sXzY5ZDAzNjI2ZDQxZjRjMjc4YTkzZjJjMDQyM2I5YjBkKTsKICAgICAgICAKCiAgICAgICAgY2lyY2xlX21hcmtlcl8zYzVlMTcxYjg0ZjM0NTU3OGVhNjBiNjc1ZTlkNDMyYi5iaW5kUG9wdXAocG9wdXBfY2FlMzY2Mjk1NmMwNDRkYTlkM2I1ZjAxMjk5ZWYxMTQpCiAgICAgICAgOwoKICAgICAgICAKICAgIAogICAgCiAgICAgICAgICAgIHZhciBjaXJjbGVfbWFya2VyX2UwNmI5Zjc4ZmY1OTQ4NjY5NzdmYTRkYWNjMDI5YzhjID0gTC5jaXJjbGVNYXJrZXIoCiAgICAgICAgICAgICAgICBbNDMuNjYyNzQzOSwgLTc5LjMyMTU1OF0sCiAgICAgICAgICAgICAgICB7ImJ1YmJsaW5nTW91c2VFdmVudHMiOiB0cnVlLCAiY29sb3IiOiAiYmx1ZSIsICJkYXNoQXJyYXkiOiBudWxsLCAiZGFzaE9mZnNldCI6IG51bGwsICJmaWxsIjogdHJ1ZSwgImZpbGxDb2xvciI6ICIjMzE4NmNjIiwgImZpbGxPcGFjaXR5IjogMC43LCAiZmlsbFJ1bGUiOiAiZXZlbm9kZCIsICJsaW5lQ2FwIjogInJvdW5kIiwgImxpbmVKb2luIjogInJvdW5kIiwgIm9wYWNpdHkiOiAxLjAsICJyYWRpdXMiOiA1LCAic3Ryb2tlIjogdHJ1ZSwgIndlaWdodCI6IDN9CiAgICAgICAgICAgICkuYWRkVG8obWFwXzkyZjlmOTQxNDYyZDRiZDY4OTUwNDgzN2MwMjA5MzY5KTsKICAgICAgICAKICAgIAogICAgICAgIHZhciBwb3B1cF80ODI0YzhmMGFhOGM0NzBlYmEwZGI3ZmY3MmZiNzhiZSA9IEwucG9wdXAoeyJtYXhXaWR0aCI6ICIxMDAlIn0pOwoKICAgICAgICAKICAgICAgICAgICAgdmFyIGh0bWxfOTFlZDY1ZWU0ZjJjNGZhN2JjYjFmZTdmZjNlOTcyMWUgPSAkKGA8ZGl2IGlkPSJodG1sXzkxZWQ2NWVlNGYyYzRmYTdiY2IxZmU3ZmYzZTk3MjFlIiBzdHlsZT0id2lkdGg6IDEwMC4wJTsgaGVpZ2h0OiAxMDAuMCU7Ij5CdXNpbmVzcyByZXBseSBtYWlsIFByb2Nlc3NpbmcgQ2VudHJlLCBTb3V0aCBDZW50cmFsIExldHRlciBQcm9jZXNzaW5nIFBsYW50IFRvcm9udG8sIEVhc3QgVG9yb250bzwvZGl2PmApWzBdOwogICAgICAgICAgICBwb3B1cF80ODI0YzhmMGFhOGM0NzBlYmEwZGI3ZmY3MmZiNzhiZS5zZXRDb250ZW50KGh0bWxfOTFlZDY1ZWU0ZjJjNGZhN2JjYjFmZTdmZjNlOTcyMWUpOwogICAgICAgIAoKICAgICAgICBjaXJjbGVfbWFya2VyX2UwNmI5Zjc4ZmY1OTQ4NjY5NzdmYTRkYWNjMDI5YzhjLmJpbmRQb3B1cChwb3B1cF80ODI0YzhmMGFhOGM0NzBlYmEwZGI3ZmY3MmZiNzhiZSkKICAgICAgICA7CgogICAgICAgIAogICAgCiAgICAKICAgICAgICAgICAgdmFyIGNpcmNsZV9tYXJrZXJfZTcwMTA3ZjhlOGNhNGYxMDhjMTk5Zjc2NWFhYTNhYWIgPSBMLmNpcmNsZU1hcmtlcigKICAgICAgICAgICAgICAgIFs0My42MzYyNTc5LCAtNzkuNDk4NTA5MDk5OTk5OTldLAogICAgICAgICAgICAgICAgeyJidWJibGluZ01vdXNlRXZlbnRzIjogdHJ1ZSwgImNvbG9yIjogImJsdWUiLCAiZGFzaEFycmF5IjogbnVsbCwgImRhc2hPZmZzZXQiOiBudWxsLCAiZmlsbCI6IHRydWUsICJmaWxsQ29sb3IiOiAiIzMxODZjYyIsICJmaWxsT3BhY2l0eSI6IDAuNywgImZpbGxSdWxlIjogImV2ZW5vZGQiLCAibGluZUNhcCI6ICJyb3VuZCIsICJsaW5lSm9pbiI6ICJyb3VuZCIsICJvcGFjaXR5IjogMS4wLCAicmFkaXVzIjogNSwgInN0cm9rZSI6IHRydWUsICJ3ZWlnaHQiOiAzfQogICAgICAgICAgICApLmFkZFRvKG1hcF85MmY5Zjk0MTQ2MmQ0YmQ2ODk1MDQ4MzdjMDIwOTM2OSk7CiAgICAgICAgCiAgICAKICAgICAgICB2YXIgcG9wdXBfYzY1YTA2Yjg0MjVjNDZlZmI3MDZhZmRiOTI0ODNlN2EgPSBMLnBvcHVwKHsibWF4V2lkdGgiOiAiMTAwJSJ9KTsKCiAgICAgICAgCiAgICAgICAgICAgIHZhciBodG1sXzI2MDUyZTQ4OGYyZDRmMDA5OGMxNGZkNmI4ZWZhMzMwID0gJChgPGRpdiBpZD0iaHRtbF8yNjA1MmU0ODhmMmQ0ZjAwOThjMTRmZDZiOGVmYTMzMCIgc3R5bGU9IndpZHRoOiAxMDAuMCU7IGhlaWdodDogMTAwLjAlOyI+T2xkIE1pbGwgU291dGgsIEtpbmcmIzM5O3MgTWlsbCBQYXJrLCBTdW5ueWxlYSwgSHVtYmVyIEJheSwgTWltaWNvIE5FLCBUaGUgUXVlZW5zd2F5IEVhc3QsIFJveWFsIFlvcmsgU291dGggRWFzdCwgS2luZ3N3YXkgUGFyayBTb3V0aCBFYXN0LCBFdG9iaWNva2U8L2Rpdj5gKVswXTsKICAgICAgICAgICAgcG9wdXBfYzY1YTA2Yjg0MjVjNDZlZmI3MDZhZmRiOTI0ODNlN2Euc2V0Q29udGVudChodG1sXzI2MDUyZTQ4OGYyZDRmMDA5OGMxNGZkNmI4ZWZhMzMwKTsKICAgICAgICAKCiAgICAgICAgY2lyY2xlX21hcmtlcl9lNzAxMDdmOGU4Y2E0ZjEwOGMxOTlmNzY1YWFhM2FhYi5iaW5kUG9wdXAocG9wdXBfYzY1YTA2Yjg0MjVjNDZlZmI3MDZhZmRiOTI0ODNlN2EpCiAgICAgICAgOwoKICAgICAgICAKICAgIAogICAgCiAgICAgICAgICAgIHZhciBjaXJjbGVfbWFya2VyX2RmYjI2NzlmYmM4MjQzMTY4N2FlM2M5MGJhNGY4YmQzID0gTC5jaXJjbGVNYXJrZXIoCiAgICAgICAgICAgICAgICBbNDMuNjI4ODQwOCwgLTc5LjUyMDk5OTQwMDAwMDAxXSwKICAgICAgICAgICAgICAgIHsiYnViYmxpbmdNb3VzZUV2ZW50cyI6IHRydWUsICJjb2xvciI6ICJibHVlIiwgImRhc2hBcnJheSI6IG51bGwsICJkYXNoT2Zmc2V0IjogbnVsbCwgImZpbGwiOiB0cnVlLCAiZmlsbENvbG9yIjogIiMzMTg2Y2MiLCAiZmlsbE9wYWNpdHkiOiAwLjcsICJmaWxsUnVsZSI6ICJldmVub2RkIiwgImxpbmVDYXAiOiAicm91bmQiLCAibGluZUpvaW4iOiAicm91bmQiLCAib3BhY2l0eSI6IDEuMCwgInJhZGl1cyI6IDUsICJzdHJva2UiOiB0cnVlLCAid2VpZ2h0IjogM30KICAgICAgICAgICAgKS5hZGRUbyhtYXBfOTJmOWY5NDE0NjJkNGJkNjg5NTA0ODM3YzAyMDkzNjkpOwogICAgICAgIAogICAgCiAgICAgICAgdmFyIHBvcHVwX2E1NGM4YWQ0NGU4ODRjYjJhMGMwNWVmNjg0Y2NjZDI5ID0gTC5wb3B1cCh7Im1heFdpZHRoIjogIjEwMCUifSk7CgogICAgICAgIAogICAgICAgICAgICB2YXIgaHRtbF85M2VlMGRjZTM4YzU0YWU2OTkzNjIzOTYwNjhlN2M3YyA9ICQoYDxkaXYgaWQ9Imh0bWxfOTNlZTBkY2UzOGM1NGFlNjk5MzYyMzk2MDY4ZTdjN2MiIHN0eWxlPSJ3aWR0aDogMTAwLjAlOyBoZWlnaHQ6IDEwMC4wJTsiPk1pbWljbyBOVywgVGhlIFF1ZWVuc3dheSBXZXN0LCBTb3V0aCBvZiBCbG9vciwgS2luZ3N3YXkgUGFyayBTb3V0aCBXZXN0LCBSb3lhbCBZb3JrIFNvdXRoIFdlc3QsIEV0b2JpY29rZTwvZGl2PmApWzBdOwogICAgICAgICAgICBwb3B1cF9hNTRjOGFkNDRlODg0Y2IyYTBjMDVlZjY4NGNjY2QyOS5zZXRDb250ZW50KGh0bWxfOTNlZTBkY2UzOGM1NGFlNjk5MzYyMzk2MDY4ZTdjN2MpOwogICAgICAgIAoKICAgICAgICBjaXJjbGVfbWFya2VyX2RmYjI2NzlmYmM4MjQzMTY4N2FlM2M5MGJhNGY4YmQzLmJpbmRQb3B1cChwb3B1cF9hNTRjOGFkNDRlODg0Y2IyYTBjMDVlZjY4NGNjY2QyOSkKICAgICAgICA7CgogICAgICAgIAogICAgCjwvc2NyaXB0Pg== onload=\"this.contentDocument.open();this.contentDocument.write(atob(this.getAttribute('data-html')));this.contentDocument.close();\" allowfullscreen webkitallowfullscreen mozallowfullscreen></iframe></div></div>"
      ],
      "text/plain": [
       "<folium.folium.Map at 0x1260f1700>"
      ]
     },
     "execution_count": 17,
     "metadata": {},
     "output_type": "execute_result"
    }
   ],
   "source": [
    "# create map of Toronto using latitude and longitude values\n",
    "map_toronto = folium.Map(location=[latitude, longitude], zoom_start=10)\n",
    "\n",
    "# add markers to map\n",
    "for lat, lng, borough, neighborhood in zip(df['Latitude'], df['Longitude'], df['Borough'], df['Neighbourhood']):\n",
    "    label = '{}, {}'.format(neighborhood, borough)\n",
    "    label = folium.Popup(label, parse_html=True)\n",
    "    folium.CircleMarker(\n",
    "        [lat, lng],\n",
    "        radius=5,\n",
    "        popup=label,\n",
    "        color='blue',\n",
    "        fill=True,\n",
    "        fill_color='#3186cc',\n",
    "        fill_opacity=0.7,\n",
    "        parse_html=False).add_to(map_toronto)  \n",
    "    \n",
    "map_toronto"
   ]
  },
  {
   "cell_type": "code",
   "execution_count": null,
   "metadata": {},
   "outputs": [],
   "source": []
  }
 ],
 "metadata": {
  "kernelspec": {
   "display_name": "Python 3",
   "language": "python",
   "name": "python3"
  },
  "language_info": {
   "codemirror_mode": {
    "name": "ipython",
    "version": 3
   },
   "file_extension": ".py",
   "mimetype": "text/x-python",
   "name": "python",
   "nbconvert_exporter": "python",
   "pygments_lexer": "ipython3",
   "version": "3.8.5"
  }
 },
 "nbformat": 4,
 "nbformat_minor": 4
}
