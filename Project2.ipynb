{
 "cells": [
  {
   "cell_type": "markdown",
   "metadata": {},
   "source": [
    "### Import libraries that we need"
   ]
  },
  {
   "cell_type": "code",
   "execution_count": 1,
   "metadata": {},
   "outputs": [],
   "source": [
    "import requests\n",
    "import pandas as pd\n",
    "import numpy as np\n",
    "from bs4 import BeautifulSoup"
   ]
  },
  {
   "cell_type": "markdown",
   "metadata": {},
   "source": [
    "### Set the url to the website and access the site with the requests library"
   ]
  },
  {
   "cell_type": "code",
   "execution_count": 2,
   "metadata": {},
   "outputs": [],
   "source": [
    "url = 'https://en.wikipedia.org/wiki/List_of_postal_codes_of_Canada:_M'\n",
    "response = requests.get(url)"
   ]
  },
  {
   "cell_type": "markdown",
   "metadata": {},
   "source": [
    "### 200 means it went through"
   ]
  },
  {
   "cell_type": "code",
   "execution_count": 3,
   "metadata": {},
   "outputs": [
    {
     "data": {
      "text/plain": [
       "<Response [200]>"
      ]
     },
     "execution_count": 3,
     "metadata": {},
     "output_type": "execute_result"
    }
   ],
   "source": [
    "response"
   ]
  },
  {
   "cell_type": "markdown",
   "metadata": {},
   "source": [
    "### Use the BeautifulSoup library to get data on the website"
   ]
  },
  {
   "cell_type": "code",
   "execution_count": 4,
   "metadata": {},
   "outputs": [],
   "source": [
    "soup = BeautifulSoup(response.text, 'html.parser')\n"
   ]
  },
  {
   "cell_type": "markdown",
   "metadata": {},
   "source": [
    "### Find the target table"
   ]
  },
  {
   "cell_type": "code",
   "execution_count": 5,
   "metadata": {},
   "outputs": [],
   "source": [
    "target_table = soup.find_all('table', {'class': 'wikitable'})[0]"
   ]
  },
  {
   "cell_type": "markdown",
   "metadata": {},
   "source": [
    "### Get the column titles we need"
   ]
  },
  {
   "cell_type": "code",
   "execution_count": 6,
   "metadata": {},
   "outputs": [
    {
     "data": {
      "text/plain": [
       "['Postal Code', 'Borough', 'Neighbourhood']"
      ]
     },
     "execution_count": 6,
     "metadata": {},
     "output_type": "execute_result"
    }
   ],
   "source": [
    "column_titles = []\n",
    "columns = target_table.find_all('th')\n",
    "for title in columns:\n",
    "    text = title.text\n",
    "    if '\\n' in text:\n",
    "        index = text.index('\\n')\n",
    "        text = text[:index] + text[index+2:]\n",
    "    column_titles.append(text)\n",
    "column_titles"
   ]
  },
  {
   "cell_type": "markdown",
   "metadata": {},
   "source": [
    "### Get columns data we need"
   ]
  },
  {
   "cell_type": "code",
   "execution_count": 7,
   "metadata": {},
   "outputs": [],
   "source": [
    "def boroughIsValid(borough):\n",
    "    return borough != 'Not assigned'"
   ]
  },
  {
   "cell_type": "code",
   "execution_count": 8,
   "metadata": {},
   "outputs": [],
   "source": [
    "def neibourhoodIsValid(neibourhood):\n",
    "    return neibourhood != 'Not assigned'"
   ]
  },
  {
   "cell_type": "code",
   "execution_count": 9,
   "metadata": {},
   "outputs": [
    {
     "data": {
      "text/plain": [
       "[['M3A', 'North York', 'Parkwoods'],\n",
       " ['M4A', 'North York', 'Victoria Village'],\n",
       " ['M5A', 'Downtown Toronto', 'Regent Park, Harbourfront'],\n",
       " ['M6A', 'North York', 'Lawrence Manor, Lawrence Heights'],\n",
       " ['M7A', 'Downtown Toronto', \"Queen's Park, Ontario Provincial Government\"],\n",
       " ['M9A', 'Etobicoke', 'Islington Avenue, Humber Valley Village'],\n",
       " ['M1B', 'Scarborough', 'Malvern, Rouge'],\n",
       " ['M3B', 'North York', 'Don Mills'],\n",
       " ['M4B', 'East York', 'Parkview Hill, Woodbine Gardens'],\n",
       " ['M5B', 'Downtown Toronto', 'Garden District, Ryerson'],\n",
       " ['M6B', 'North York', 'Glencairn'],\n",
       " ['M9B',\n",
       "  'Etobicoke',\n",
       "  'West Deane Park, Princess Gardens, Martin Grove, Islington, Cloverdale'],\n",
       " ['M1C', 'Scarborough', 'Rouge Hill, Port Union, Highland Creek'],\n",
       " ['M3C', 'North York', 'Don Mills'],\n",
       " ['M4C', 'East York', 'Woodbine Heights'],\n",
       " ['M5C', 'Downtown Toronto', 'St. James Town'],\n",
       " ['M6C', 'York', 'Humewood-Cedarvale'],\n",
       " ['M9C',\n",
       "  'Etobicoke',\n",
       "  'Eringate, Bloordale Gardens, Old Burnhamthorpe, Markland Wood'],\n",
       " ['M1E', 'Scarborough', 'Guildwood, Morningside, West Hill'],\n",
       " ['M4E', 'East Toronto', 'The Beaches'],\n",
       " ['M5E', 'Downtown Toronto', 'Berczy Park'],\n",
       " ['M6E', 'York', 'Caledonia-Fairbanks'],\n",
       " ['M1G', 'Scarborough', 'Woburn'],\n",
       " ['M4G', 'East York', 'Leaside'],\n",
       " ['M5G', 'Downtown Toronto', 'Central Bay Street'],\n",
       " ['M6G', 'Downtown Toronto', 'Christie'],\n",
       " ['M1H', 'Scarborough', 'Cedarbrae'],\n",
       " ['M2H', 'North York', 'Hillcrest Village'],\n",
       " ['M3H', 'North York', 'Bathurst Manor, Wilson Heights, Downsview North'],\n",
       " ['M4H', 'East York', 'Thorncliffe Park'],\n",
       " ['M5H', 'Downtown Toronto', 'Richmond, Adelaide, King'],\n",
       " ['M6H', 'West Toronto', 'Dufferin, Dovercourt Village'],\n",
       " ['M1J', 'Scarborough', 'Scarborough Village'],\n",
       " ['M2J', 'North York', 'Fairview, Henry Farm, Oriole'],\n",
       " ['M3J', 'North York', 'Northwood Park, York University'],\n",
       " ['M4J', 'East York', 'East Toronto, Broadview North (Old East York)'],\n",
       " ['M5J',\n",
       "  'Downtown Toronto',\n",
       "  'Harbourfront East, Union Station, Toronto Islands'],\n",
       " ['M6J', 'West Toronto', 'Little Portugal, Trinity'],\n",
       " ['M1K', 'Scarborough', 'Kennedy Park, Ionview, East Birchmount Park'],\n",
       " ['M2K', 'North York', 'Bayview Village'],\n",
       " ['M3K', 'North York', 'Downsview'],\n",
       " ['M4K', 'East Toronto', 'The Danforth West, Riverdale'],\n",
       " ['M5K', 'Downtown Toronto', 'Toronto Dominion Centre, Design Exchange'],\n",
       " ['M6K', 'West Toronto', 'Brockton, Parkdale Village, Exhibition Place'],\n",
       " ['M1L', 'Scarborough', 'Golden Mile, Clairlea, Oakridge'],\n",
       " ['M2L', 'North York', 'York Mills, Silver Hills'],\n",
       " ['M3L', 'North York', 'Downsview'],\n",
       " ['M4L', 'East Toronto', 'India Bazaar, The Beaches West'],\n",
       " ['M5L', 'Downtown Toronto', 'Commerce Court, Victoria Hotel'],\n",
       " ['M6L', 'North York', 'North Park, Maple Leaf Park, Upwood Park'],\n",
       " ['M9L', 'North York', 'Humber Summit'],\n",
       " ['M1M', 'Scarborough', 'Cliffside, Cliffcrest, Scarborough Village West'],\n",
       " ['M2M', 'North York', 'Willowdale, Newtonbrook'],\n",
       " ['M3M', 'North York', 'Downsview'],\n",
       " ['M4M', 'East Toronto', 'Studio District'],\n",
       " ['M5M', 'North York', 'Bedford Park, Lawrence Manor East'],\n",
       " ['M6M', 'York', 'Del Ray, Mount Dennis, Keelsdale and Silverthorn'],\n",
       " ['M9M', 'North York', 'Humberlea, Emery'],\n",
       " ['M1N', 'Scarborough', 'Birch Cliff, Cliffside West'],\n",
       " ['M2N', 'North York', 'Willowdale, Willowdale East'],\n",
       " ['M3N', 'North York', 'Downsview'],\n",
       " ['M4N', 'Central Toronto', 'Lawrence Park'],\n",
       " ['M5N', 'Central Toronto', 'Roselawn'],\n",
       " ['M6N', 'York', 'Runnymede, The Junction North'],\n",
       " ['M9N', 'York', 'Weston'],\n",
       " ['M1P',\n",
       "  'Scarborough',\n",
       "  'Dorset Park, Wexford Heights, Scarborough Town Centre'],\n",
       " ['M2P', 'North York', 'York Mills West'],\n",
       " ['M4P', 'Central Toronto', 'Davisville North'],\n",
       " ['M5P', 'Central Toronto', 'Forest Hill North & West, Forest Hill Road Park'],\n",
       " ['M6P', 'West Toronto', 'High Park, The Junction South'],\n",
       " ['M9P', 'Etobicoke', 'Westmount'],\n",
       " ['M1R', 'Scarborough', 'Wexford, Maryvale'],\n",
       " ['M2R', 'North York', 'Willowdale, Willowdale West'],\n",
       " ['M4R', 'Central Toronto', 'North Toronto West,  Lawrence Park'],\n",
       " ['M5R', 'Central Toronto', 'The Annex, North Midtown, Yorkville'],\n",
       " ['M6R', 'West Toronto', 'Parkdale, Roncesvalles'],\n",
       " ['M7R', 'Mississauga', 'Canada Post Gateway Processing Centre'],\n",
       " ['M9R',\n",
       "  'Etobicoke',\n",
       "  'Kingsview Village, St. Phillips, Martin Grove Gardens, Richview Gardens'],\n",
       " ['M1S', 'Scarborough', 'Agincourt'],\n",
       " ['M4S', 'Central Toronto', 'Davisville'],\n",
       " ['M5S', 'Downtown Toronto', 'University of Toronto, Harbord'],\n",
       " ['M6S', 'West Toronto', 'Runnymede, Swansea'],\n",
       " ['M1T', 'Scarborough', \"Clarks Corners, Tam O'Shanter, Sullivan\"],\n",
       " ['M4T', 'Central Toronto', 'Moore Park, Summerhill East'],\n",
       " ['M5T', 'Downtown Toronto', 'Kensington Market, Chinatown, Grange Park'],\n",
       " ['M1V',\n",
       "  'Scarborough',\n",
       "  \"Milliken, Agincourt North, Steeles East, L'Amoreaux East\"],\n",
       " ['M4V',\n",
       "  'Central Toronto',\n",
       "  'Summerhill West, Rathnelly, South Hill, Forest Hill SE, Deer Park'],\n",
       " ['M5V',\n",
       "  'Downtown Toronto',\n",
       "  'CN Tower, King and Spadina, Railway Lands, Harbourfront West, Bathurst Quay, South Niagara, Island airport'],\n",
       " ['M8V', 'Etobicoke', 'New Toronto, Mimico South, Humber Bay Shores'],\n",
       " ['M9V',\n",
       "  'Etobicoke',\n",
       "  'South Steeles, Silverstone, Humbergate, Jamestown, Mount Olive, Beaumond Heights, Thistletown, Albion Gardens'],\n",
       " ['M1W', 'Scarborough', \"Steeles West, L'Amoreaux West\"],\n",
       " ['M4W', 'Downtown Toronto', 'Rosedale'],\n",
       " ['M5W', 'Downtown Toronto', 'Stn A PO Boxes'],\n",
       " ['M8W', 'Etobicoke', 'Alderwood, Long Branch'],\n",
       " ['M9W', 'Etobicoke', 'Northwest, West Humber - Clairville'],\n",
       " ['M1X', 'Scarborough', 'Upper Rouge'],\n",
       " ['M4X', 'Downtown Toronto', 'St. James Town, Cabbagetown'],\n",
       " ['M5X', 'Downtown Toronto', 'First Canadian Place, Underground city'],\n",
       " ['M8X', 'Etobicoke', 'The Kingsway, Montgomery Road, Old Mill North'],\n",
       " ['M4Y', 'Downtown Toronto', 'Church and Wellesley'],\n",
       " ['M7Y',\n",
       "  'East Toronto',\n",
       "  'Business reply mail Processing Centre, South Central Letter Processing Plant Toronto'],\n",
       " ['M8Y',\n",
       "  'Etobicoke',\n",
       "  \"Old Mill South, King's Mill Park, Sunnylea, Humber Bay, Mimico NE, The Queensway East, Royal York South East, Kingsway Park South East\"],\n",
       " ['M8Z',\n",
       "  'Etobicoke',\n",
       "  'Mimico NW, The Queensway West, South of Bloor, Kingsway Park South West, Royal York South West']]"
      ]
     },
     "execution_count": 9,
     "metadata": {},
     "output_type": "execute_result"
    }
   ],
   "source": [
    "from collections import defaultdict \n",
    "table_body = soup.find('tbody')\n",
    "columns_data = defaultdict(list)\n",
    "data = []\n",
    "rows = table_body.find_all('tr')\n",
    "for row in rows:\n",
    "    cols = row.find_all('td')\n",
    "    if len(cols) == 0:\n",
    "        continue\n",
    "    postal_code, borough, neighbourhood = [x.text.strip() for x in cols]\n",
    "    # Only process the cells that have an assigned borough\n",
    "    if not boroughIsValid(borough):\n",
    "        continue\n",
    "    # If a cell has a borough but a Not assigned neighborhood, then the neighborhood will be the same as the borough.\n",
    "    if not neibourhoodIsValid(neighbourhood):\n",
    "        neighbourhood = borough\n",
    "    columns_data[(postal_code, borough)].append(neighbourhood)\n",
    "data = []\n",
    "# Combined rows with same PostalCode and Borough into one row with the neighborhoods separated with a comma\n",
    "for key, value in columns_data.items():\n",
    "    neighbourhoods = ','.join(value)\n",
    "    data.append(list(key) + [neighbourhoods])\n",
    "\n",
    "data"
   ]
  },
  {
   "cell_type": "markdown",
   "metadata": {},
   "source": [
    "### Transform the data into a pandas dataframe"
   ]
  },
  {
   "cell_type": "code",
   "execution_count": 10,
   "metadata": {},
   "outputs": [
    {
     "data": {
      "text/html": [
       "<div>\n",
       "<style scoped>\n",
       "    .dataframe tbody tr th:only-of-type {\n",
       "        vertical-align: middle;\n",
       "    }\n",
       "\n",
       "    .dataframe tbody tr th {\n",
       "        vertical-align: top;\n",
       "    }\n",
       "\n",
       "    .dataframe thead th {\n",
       "        text-align: right;\n",
       "    }\n",
       "</style>\n",
       "<table border=\"1\" class=\"dataframe\">\n",
       "  <thead>\n",
       "    <tr style=\"text-align: right;\">\n",
       "      <th></th>\n",
       "      <th>Postal Code</th>\n",
       "      <th>Borough</th>\n",
       "      <th>Neighbourhood</th>\n",
       "    </tr>\n",
       "  </thead>\n",
       "  <tbody>\n",
       "    <tr>\n",
       "      <th>0</th>\n",
       "      <td>M3A</td>\n",
       "      <td>North York</td>\n",
       "      <td>Parkwoods</td>\n",
       "    </tr>\n",
       "    <tr>\n",
       "      <th>1</th>\n",
       "      <td>M4A</td>\n",
       "      <td>North York</td>\n",
       "      <td>Victoria Village</td>\n",
       "    </tr>\n",
       "    <tr>\n",
       "      <th>2</th>\n",
       "      <td>M5A</td>\n",
       "      <td>Downtown Toronto</td>\n",
       "      <td>Regent Park, Harbourfront</td>\n",
       "    </tr>\n",
       "    <tr>\n",
       "      <th>3</th>\n",
       "      <td>M6A</td>\n",
       "      <td>North York</td>\n",
       "      <td>Lawrence Manor, Lawrence Heights</td>\n",
       "    </tr>\n",
       "    <tr>\n",
       "      <th>4</th>\n",
       "      <td>M7A</td>\n",
       "      <td>Downtown Toronto</td>\n",
       "      <td>Queen's Park, Ontario Provincial Government</td>\n",
       "    </tr>\n",
       "    <tr>\n",
       "      <th>...</th>\n",
       "      <td>...</td>\n",
       "      <td>...</td>\n",
       "      <td>...</td>\n",
       "    </tr>\n",
       "    <tr>\n",
       "      <th>98</th>\n",
       "      <td>M8X</td>\n",
       "      <td>Etobicoke</td>\n",
       "      <td>The Kingsway, Montgomery Road, Old Mill North</td>\n",
       "    </tr>\n",
       "    <tr>\n",
       "      <th>99</th>\n",
       "      <td>M4Y</td>\n",
       "      <td>Downtown Toronto</td>\n",
       "      <td>Church and Wellesley</td>\n",
       "    </tr>\n",
       "    <tr>\n",
       "      <th>100</th>\n",
       "      <td>M7Y</td>\n",
       "      <td>East Toronto</td>\n",
       "      <td>Business reply mail Processing Centre, South C...</td>\n",
       "    </tr>\n",
       "    <tr>\n",
       "      <th>101</th>\n",
       "      <td>M8Y</td>\n",
       "      <td>Etobicoke</td>\n",
       "      <td>Old Mill South, King's Mill Park, Sunnylea, Hu...</td>\n",
       "    </tr>\n",
       "    <tr>\n",
       "      <th>102</th>\n",
       "      <td>M8Z</td>\n",
       "      <td>Etobicoke</td>\n",
       "      <td>Mimico NW, The Queensway West, South of Bloor,...</td>\n",
       "    </tr>\n",
       "  </tbody>\n",
       "</table>\n",
       "<p>103 rows × 3 columns</p>\n",
       "</div>"
      ],
      "text/plain": [
       "    Postal Code           Borough  \\\n",
       "0           M3A        North York   \n",
       "1           M4A        North York   \n",
       "2           M5A  Downtown Toronto   \n",
       "3           M6A        North York   \n",
       "4           M7A  Downtown Toronto   \n",
       "..          ...               ...   \n",
       "98          M8X         Etobicoke   \n",
       "99          M4Y  Downtown Toronto   \n",
       "100         M7Y      East Toronto   \n",
       "101         M8Y         Etobicoke   \n",
       "102         M8Z         Etobicoke   \n",
       "\n",
       "                                         Neighbourhood  \n",
       "0                                            Parkwoods  \n",
       "1                                     Victoria Village  \n",
       "2                            Regent Park, Harbourfront  \n",
       "3                     Lawrence Manor, Lawrence Heights  \n",
       "4          Queen's Park, Ontario Provincial Government  \n",
       "..                                                 ...  \n",
       "98       The Kingsway, Montgomery Road, Old Mill North  \n",
       "99                                Church and Wellesley  \n",
       "100  Business reply mail Processing Centre, South C...  \n",
       "101  Old Mill South, King's Mill Park, Sunnylea, Hu...  \n",
       "102  Mimico NW, The Queensway West, South of Bloor,...  \n",
       "\n",
       "[103 rows x 3 columns]"
      ]
     },
     "execution_count": 10,
     "metadata": {},
     "output_type": "execute_result"
    }
   ],
   "source": [
    "table_data = np.array(data)\n",
    "df1 = pd.DataFrame(table_data, columns=column_titles)\n",
    "df1"
   ]
  },
  {
   "cell_type": "code",
   "execution_count": 11,
   "metadata": {},
   "outputs": [
    {
     "data": {
      "text/plain": [
       "(103, 3)"
      ]
     },
     "execution_count": 11,
     "metadata": {},
     "output_type": "execute_result"
    }
   ],
   "source": [
    "df1.shape"
   ]
  },
  {
   "cell_type": "markdown",
   "metadata": {},
   "source": [
    "### read the geographical coordinates csv"
   ]
  },
  {
   "cell_type": "code",
   "execution_count": 12,
   "metadata": {},
   "outputs": [
    {
     "data": {
      "text/html": [
       "<div>\n",
       "<style scoped>\n",
       "    .dataframe tbody tr th:only-of-type {\n",
       "        vertical-align: middle;\n",
       "    }\n",
       "\n",
       "    .dataframe tbody tr th {\n",
       "        vertical-align: top;\n",
       "    }\n",
       "\n",
       "    .dataframe thead th {\n",
       "        text-align: right;\n",
       "    }\n",
       "</style>\n",
       "<table border=\"1\" class=\"dataframe\">\n",
       "  <thead>\n",
       "    <tr style=\"text-align: right;\">\n",
       "      <th></th>\n",
       "      <th>Postal Code</th>\n",
       "      <th>Latitude</th>\n",
       "      <th>Longitude</th>\n",
       "    </tr>\n",
       "  </thead>\n",
       "  <tbody>\n",
       "    <tr>\n",
       "      <th>0</th>\n",
       "      <td>M1B</td>\n",
       "      <td>43.806686</td>\n",
       "      <td>-79.194353</td>\n",
       "    </tr>\n",
       "    <tr>\n",
       "      <th>1</th>\n",
       "      <td>M1C</td>\n",
       "      <td>43.784535</td>\n",
       "      <td>-79.160497</td>\n",
       "    </tr>\n",
       "    <tr>\n",
       "      <th>2</th>\n",
       "      <td>M1E</td>\n",
       "      <td>43.763573</td>\n",
       "      <td>-79.188711</td>\n",
       "    </tr>\n",
       "    <tr>\n",
       "      <th>3</th>\n",
       "      <td>M1G</td>\n",
       "      <td>43.770992</td>\n",
       "      <td>-79.216917</td>\n",
       "    </tr>\n",
       "    <tr>\n",
       "      <th>4</th>\n",
       "      <td>M1H</td>\n",
       "      <td>43.773136</td>\n",
       "      <td>-79.239476</td>\n",
       "    </tr>\n",
       "    <tr>\n",
       "      <th>...</th>\n",
       "      <td>...</td>\n",
       "      <td>...</td>\n",
       "      <td>...</td>\n",
       "    </tr>\n",
       "    <tr>\n",
       "      <th>98</th>\n",
       "      <td>M9N</td>\n",
       "      <td>43.706876</td>\n",
       "      <td>-79.518188</td>\n",
       "    </tr>\n",
       "    <tr>\n",
       "      <th>99</th>\n",
       "      <td>M9P</td>\n",
       "      <td>43.696319</td>\n",
       "      <td>-79.532242</td>\n",
       "    </tr>\n",
       "    <tr>\n",
       "      <th>100</th>\n",
       "      <td>M9R</td>\n",
       "      <td>43.688905</td>\n",
       "      <td>-79.554724</td>\n",
       "    </tr>\n",
       "    <tr>\n",
       "      <th>101</th>\n",
       "      <td>M9V</td>\n",
       "      <td>43.739416</td>\n",
       "      <td>-79.588437</td>\n",
       "    </tr>\n",
       "    <tr>\n",
       "      <th>102</th>\n",
       "      <td>M9W</td>\n",
       "      <td>43.706748</td>\n",
       "      <td>-79.594054</td>\n",
       "    </tr>\n",
       "  </tbody>\n",
       "</table>\n",
       "<p>103 rows × 3 columns</p>\n",
       "</div>"
      ],
      "text/plain": [
       "    Postal Code   Latitude  Longitude\n",
       "0           M1B  43.806686 -79.194353\n",
       "1           M1C  43.784535 -79.160497\n",
       "2           M1E  43.763573 -79.188711\n",
       "3           M1G  43.770992 -79.216917\n",
       "4           M1H  43.773136 -79.239476\n",
       "..          ...        ...        ...\n",
       "98          M9N  43.706876 -79.518188\n",
       "99          M9P  43.696319 -79.532242\n",
       "100         M9R  43.688905 -79.554724\n",
       "101         M9V  43.739416 -79.588437\n",
       "102         M9W  43.706748 -79.594054\n",
       "\n",
       "[103 rows x 3 columns]"
      ]
     },
     "execution_count": 12,
     "metadata": {},
     "output_type": "execute_result"
    }
   ],
   "source": [
    "df2 = pd.read_csv('Geospatial_Coordinates.csv')\n",
    "df2"
   ]
  },
  {
   "cell_type": "markdown",
   "metadata": {},
   "source": [
    "### J"
   ]
  },
  {
   "cell_type": "code",
   "execution_count": 18,
   "metadata": {},
   "outputs": [
    {
     "data": {
      "text/html": [
       "<div>\n",
       "<style scoped>\n",
       "    .dataframe tbody tr th:only-of-type {\n",
       "        vertical-align: middle;\n",
       "    }\n",
       "\n",
       "    .dataframe tbody tr th {\n",
       "        vertical-align: top;\n",
       "    }\n",
       "\n",
       "    .dataframe thead th {\n",
       "        text-align: right;\n",
       "    }\n",
       "</style>\n",
       "<table border=\"1\" class=\"dataframe\">\n",
       "  <thead>\n",
       "    <tr style=\"text-align: right;\">\n",
       "      <th></th>\n",
       "      <th>Postal Code</th>\n",
       "      <th>Borough</th>\n",
       "      <th>Neighbourhood</th>\n",
       "      <th>Latitude</th>\n",
       "      <th>Longitude</th>\n",
       "    </tr>\n",
       "  </thead>\n",
       "  <tbody>\n",
       "    <tr>\n",
       "      <th>0</th>\n",
       "      <td>M3A</td>\n",
       "      <td>North York</td>\n",
       "      <td>Parkwoods</td>\n",
       "      <td>43.753259</td>\n",
       "      <td>-79.329656</td>\n",
       "    </tr>\n",
       "    <tr>\n",
       "      <th>1</th>\n",
       "      <td>M4A</td>\n",
       "      <td>North York</td>\n",
       "      <td>Victoria Village</td>\n",
       "      <td>43.725882</td>\n",
       "      <td>-79.315572</td>\n",
       "    </tr>\n",
       "    <tr>\n",
       "      <th>2</th>\n",
       "      <td>M5A</td>\n",
       "      <td>Downtown Toronto</td>\n",
       "      <td>Regent Park, Harbourfront</td>\n",
       "      <td>43.654260</td>\n",
       "      <td>-79.360636</td>\n",
       "    </tr>\n",
       "    <tr>\n",
       "      <th>3</th>\n",
       "      <td>M6A</td>\n",
       "      <td>North York</td>\n",
       "      <td>Lawrence Manor, Lawrence Heights</td>\n",
       "      <td>43.718518</td>\n",
       "      <td>-79.464763</td>\n",
       "    </tr>\n",
       "    <tr>\n",
       "      <th>4</th>\n",
       "      <td>M7A</td>\n",
       "      <td>Downtown Toronto</td>\n",
       "      <td>Queen's Park, Ontario Provincial Government</td>\n",
       "      <td>43.662301</td>\n",
       "      <td>-79.389494</td>\n",
       "    </tr>\n",
       "    <tr>\n",
       "      <th>...</th>\n",
       "      <td>...</td>\n",
       "      <td>...</td>\n",
       "      <td>...</td>\n",
       "      <td>...</td>\n",
       "      <td>...</td>\n",
       "    </tr>\n",
       "    <tr>\n",
       "      <th>98</th>\n",
       "      <td>M8X</td>\n",
       "      <td>Etobicoke</td>\n",
       "      <td>The Kingsway, Montgomery Road, Old Mill North</td>\n",
       "      <td>43.653654</td>\n",
       "      <td>-79.506944</td>\n",
       "    </tr>\n",
       "    <tr>\n",
       "      <th>99</th>\n",
       "      <td>M4Y</td>\n",
       "      <td>Downtown Toronto</td>\n",
       "      <td>Church and Wellesley</td>\n",
       "      <td>43.665860</td>\n",
       "      <td>-79.383160</td>\n",
       "    </tr>\n",
       "    <tr>\n",
       "      <th>100</th>\n",
       "      <td>M7Y</td>\n",
       "      <td>East Toronto</td>\n",
       "      <td>Business reply mail Processing Centre, South C...</td>\n",
       "      <td>43.662744</td>\n",
       "      <td>-79.321558</td>\n",
       "    </tr>\n",
       "    <tr>\n",
       "      <th>101</th>\n",
       "      <td>M8Y</td>\n",
       "      <td>Etobicoke</td>\n",
       "      <td>Old Mill South, King's Mill Park, Sunnylea, Hu...</td>\n",
       "      <td>43.636258</td>\n",
       "      <td>-79.498509</td>\n",
       "    </tr>\n",
       "    <tr>\n",
       "      <th>102</th>\n",
       "      <td>M8Z</td>\n",
       "      <td>Etobicoke</td>\n",
       "      <td>Mimico NW, The Queensway West, South of Bloor,...</td>\n",
       "      <td>43.628841</td>\n",
       "      <td>-79.520999</td>\n",
       "    </tr>\n",
       "  </tbody>\n",
       "</table>\n",
       "<p>103 rows × 5 columns</p>\n",
       "</div>"
      ],
      "text/plain": [
       "    Postal Code           Borough  \\\n",
       "0           M3A        North York   \n",
       "1           M4A        North York   \n",
       "2           M5A  Downtown Toronto   \n",
       "3           M6A        North York   \n",
       "4           M7A  Downtown Toronto   \n",
       "..          ...               ...   \n",
       "98          M8X         Etobicoke   \n",
       "99          M4Y  Downtown Toronto   \n",
       "100         M7Y      East Toronto   \n",
       "101         M8Y         Etobicoke   \n",
       "102         M8Z         Etobicoke   \n",
       "\n",
       "                                         Neighbourhood   Latitude  Longitude  \n",
       "0                                            Parkwoods  43.753259 -79.329656  \n",
       "1                                     Victoria Village  43.725882 -79.315572  \n",
       "2                            Regent Park, Harbourfront  43.654260 -79.360636  \n",
       "3                     Lawrence Manor, Lawrence Heights  43.718518 -79.464763  \n",
       "4          Queen's Park, Ontario Provincial Government  43.662301 -79.389494  \n",
       "..                                                 ...        ...        ...  \n",
       "98       The Kingsway, Montgomery Road, Old Mill North  43.653654 -79.506944  \n",
       "99                                Church and Wellesley  43.665860 -79.383160  \n",
       "100  Business reply mail Processing Centre, South C...  43.662744 -79.321558  \n",
       "101  Old Mill South, King's Mill Park, Sunnylea, Hu...  43.636258 -79.498509  \n",
       "102  Mimico NW, The Queensway West, South of Bloor,...  43.628841 -79.520999  \n",
       "\n",
       "[103 rows x 5 columns]"
      ]
     },
     "execution_count": 18,
     "metadata": {},
     "output_type": "execute_result"
    }
   ],
   "source": [
    "df = df1.join(df2.set_index('Postal Code'), on='Postal Code')\n",
    "df"
   ]
  },
  {
   "cell_type": "code",
   "execution_count": null,
   "metadata": {},
   "outputs": [],
   "source": []
  }
 ],
 "metadata": {
  "kernelspec": {
   "display_name": "Python 3",
   "language": "python",
   "name": "python3"
  },
  "language_info": {
   "codemirror_mode": {
    "name": "ipython",
    "version": 3
   },
   "file_extension": ".py",
   "mimetype": "text/x-python",
   "name": "python",
   "nbconvert_exporter": "python",
   "pygments_lexer": "ipython3",
   "version": "3.8.5"
  }
 },
 "nbformat": 4,
 "nbformat_minor": 4
}
